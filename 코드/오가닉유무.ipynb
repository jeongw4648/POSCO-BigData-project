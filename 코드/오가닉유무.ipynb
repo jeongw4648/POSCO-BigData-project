{
 "cells": [
  {
   "cell_type": "code",
   "execution_count": 1,
   "id": "d5c6e4b0",
   "metadata": {},
   "outputs": [],
   "source": [
    "import pandas as pd\n",
    "import numpy as np\n",
    "\n",
    "import matplotlib.pyplot as plt\n",
    "import matplotlib\n",
    "import seaborn as sns\n",
    "\n",
    "\n",
    "matplotlib.rcParams['font.family'] ='Malgun Gothic'\n",
    "matplotlib.rcParams['axes.unicode_minus'] =False\n",
    "\n",
    "\n",
    "from sklearn.preprocessing import StandardScaler # Scale 변환 -> 표준화 회귀계수 산출\n",
    "from sklearn.model_selection import train_test_split\n",
    "\n",
    "import copy\n",
    "import missingno as msno\n",
    "import datetime as dt\n",
    "from dateutil.parser import parse\n",
    "\n",
    "from tqdm import tqdm"
   ]
  },
  {
   "cell_type": "code",
   "execution_count": 2,
   "id": "9e94afc3",
   "metadata": {
    "scrolled": false
   },
   "outputs": [
    {
     "name": "stderr",
     "output_type": "stream",
     "text": [
      "C:\\Users\\insea\\Anaconda3\\lib\\site-packages\\IPython\\core\\interactiveshell.py:3072: DtypeWarning: Columns (6) have mixed types.Specify dtype option on import or set low_memory=False.\n",
      "  interactivity=interactivity, compiler=compiler, result=result)\n",
      "C:\\Users\\insea\\Anaconda3\\lib\\site-packages\\IPython\\core\\interactiveshell.py:3072: DtypeWarning: Columns (1) have mixed types.Specify dtype option on import or set low_memory=False.\n",
      "  interactivity=interactivity, compiler=compiler, result=result)\n"
     ]
    }
   ],
   "source": [
    "path = './데이터/Product_final.csv'\n",
    "df_product = pd.read_csv(path, encoding='utf-8')\n",
    "\n",
    "path = './데이터/Sales_final.csv'\n",
    "df_sales = pd.read_csv(path, encoding='utf-8' ,index_col = 0)\n",
    "\n",
    "path = './RFM/rfm_table_334.csv'\n",
    "RFM = pd.read_csv(path, encoding='utf-8' ,index_col = 0)"
   ]
  },
  {
   "cell_type": "code",
   "execution_count": 3,
   "id": "59b478c4",
   "metadata": {},
   "outputs": [],
   "source": [
    "df_product['유기농'] = df_product.apply(lambda row: ((row['물품중분류'] == '생리대') and ('유기농' in row['상품명'])) or ((row['물품중분류'] == '기저귀') and ('네이처메이드' in row['상품명'])), axis = 1)"
   ]
  },
  {
   "cell_type": "code",
   "execution_count": 4,
   "id": "f16419a8",
   "metadata": {
    "scrolled": false
   },
   "outputs": [
    {
     "data": {
      "text/plain": [
       "유기농\n",
       "False    48812.036053\n",
       "True     58107.613811\n",
       "Name: 제품단가, dtype: float64"
      ]
     },
     "execution_count": 4,
     "metadata": {},
     "output_type": "execute_result"
    }
   ],
   "source": [
    "df_product[(df_product.물품중분류 == '생리대') | (df_product.물품중분류 == '기저귀')].groupby('유기농')['제품단가'].agg('mean')"
   ]
  },
  {
   "cell_type": "code",
   "execution_count": 5,
   "id": "bd6563c5",
   "metadata": {
    "scrolled": true
   },
   "outputs": [],
   "source": [
    "df_sales.astype({'고객번호': str})\n",
    "RFM.astype({'고객번호': str});"
   ]
  },
  {
   "cell_type": "code",
   "execution_count": 6,
   "id": "4c52934d",
   "metadata": {},
   "outputs": [],
   "source": [
    "df_sales2 = pd.merge(df_sales, df_product[['상품명', '물품중분류', '유기농']], on='상품명', how='left')\n",
    "df_sales2 = pd.merge(df_sales2, RFM[['고객번호', 'grade']], on='고객번호', how='left')"
   ]
  },
  {
   "cell_type": "code",
   "execution_count": 7,
   "id": "c764bbf7",
   "metadata": {},
   "outputs": [
    {
     "data": {
      "text/plain": [
       "유기농\n",
       "False    1422446976\n",
       "True     2037331296\n",
       "Name: 결제금액, dtype: int64"
      ]
     },
     "execution_count": 7,
     "metadata": {},
     "output_type": "execute_result"
    }
   ],
   "source": [
    "df_sales2[(df_sales2.물품중분류 == '생리대') | (df_sales2.물품중분류 == '기저귀')].groupby('유기농')['결제금액'].agg('sum')"
   ]
  },
  {
   "cell_type": "code",
   "execution_count": 8,
   "id": "d001cfbe",
   "metadata": {},
   "outputs": [
    {
     "data": {
      "text/plain": [
       "유기농\n",
       "False    11659314\n",
       "True     23846228\n",
       "Name: 결제금액, dtype: int64"
      ]
     },
     "execution_count": 8,
     "metadata": {},
     "output_type": "execute_result"
    }
   ],
   "source": [
    "df_sales2[((df_sales2.grade == '1등급') & (df_sales2.물품중분류 == '생리대')) | ((df_sales2.grade == '1등급') & (df_sales2.물품중분류 == '기저귀'))].groupby('유기농')['결제금액'].agg('sum')"
   ]
  },
  {
   "cell_type": "code",
   "execution_count": 9,
   "id": "34c2a134",
   "metadata": {},
   "outputs": [
    {
     "data": {
      "text/plain": [
       "유기농\n",
       "False    346\n",
       "True     572\n",
       "Name: 결제금액, dtype: int64"
      ]
     },
     "execution_count": 9,
     "metadata": {},
     "output_type": "execute_result"
    }
   ],
   "source": [
    "df_sales2[((df_sales2.grade == '1등급') & (df_sales2.물품중분류 == '생리대')) | ((df_sales2.grade == '1등급') & (df_sales2.물품중분류 == '기저귀'))].groupby('유기농')['결제금액'].agg('count')"
   ]
  },
  {
   "cell_type": "code",
   "execution_count": 10,
   "id": "3da0ab92",
   "metadata": {},
   "outputs": [
    {
     "data": {
      "text/plain": [
       "0.6230936819172114"
      ]
     },
     "execution_count": 10,
     "metadata": {},
     "output_type": "execute_result"
    }
   ],
   "source": [
    "572/(346+572)"
   ]
  },
  {
   "cell_type": "code",
   "execution_count": null,
   "id": "525417fd",
   "metadata": {},
   "outputs": [],
   "source": []
  },
  {
   "cell_type": "code",
   "execution_count": 11,
   "id": "6e24e32b",
   "metadata": {},
   "outputs": [
    {
     "name": "stdout",
     "output_type": "stream",
     "text": [
      "1등급 아닌 회원들의 \n"
     ]
    },
    {
     "data": {
      "text/plain": [
       "유기농\n",
       "False    1410787662\n",
       "True     2013485068\n",
       "Name: 결제금액, dtype: int64"
      ]
     },
     "execution_count": 11,
     "metadata": {},
     "output_type": "execute_result"
    }
   ],
   "source": [
    "print('1등급 아닌 회원들의 ')\n",
    "df_sales2[((df_sales2.grade != '1등급') & (df_sales2.물품중분류 == '생리대')) | ((df_sales2.grade != '1등급') & (df_sales2.물품중분류 == '기저귀'))].groupby('유기농')['결제금액'].agg('sum')"
   ]
  },
  {
   "cell_type": "code",
   "execution_count": 12,
   "id": "9a70cb58",
   "metadata": {},
   "outputs": [
    {
     "data": {
      "text/plain": [
       "유기농\n",
       "False    55644\n",
       "True     51979\n",
       "Name: 결제금액, dtype: int64"
      ]
     },
     "execution_count": 12,
     "metadata": {},
     "output_type": "execute_result"
    }
   ],
   "source": [
    "df_sales2[((df_sales2.grade != '1등급') & (df_sales2.물품중분류 == '생리대')) | ((df_sales2.grade != '1등급') & (df_sales2.물품중분류 == '기저귀'))].groupby('유기농')['결제금액'].agg('count')"
   ]
  },
  {
   "cell_type": "code",
   "execution_count": 13,
   "id": "3c08f66b",
   "metadata": {},
   "outputs": [
    {
     "data": {
      "text/plain": [
       "0.5170270295382957"
      ]
     },
     "execution_count": 13,
     "metadata": {},
     "output_type": "execute_result"
    }
   ],
   "source": [
    "55644/(55644+51979)"
   ]
  },
  {
   "cell_type": "code",
   "execution_count": 14,
   "id": "9cf74e55",
   "metadata": {},
   "outputs": [],
   "source": [
    "data = [55644,51979]\n",
    "labels = ['일반제품', '유기농제품']"
   ]
  },
  {
   "cell_type": "code",
   "execution_count": 15,
   "id": "166375c3",
   "metadata": {},
   "outputs": [
    {
     "data": {
      "text/html": [
       "<div>\n",
       "<style scoped>\n",
       "    .dataframe tbody tr th:only-of-type {\n",
       "        vertical-align: middle;\n",
       "    }\n",
       "\n",
       "    .dataframe tbody tr th {\n",
       "        vertical-align: top;\n",
       "    }\n",
       "\n",
       "    .dataframe thead th {\n",
       "        text-align: right;\n",
       "    }\n",
       "</style>\n",
       "<table border=\"1\" class=\"dataframe\">\n",
       "  <thead>\n",
       "    <tr style=\"text-align: right;\">\n",
       "      <th></th>\n",
       "      <th>주문번호</th>\n",
       "      <th>구매일</th>\n",
       "      <th>배송시작일</th>\n",
       "      <th>배송완료일</th>\n",
       "      <th>구매시월령(수정)</th>\n",
       "      <th>고객번호</th>\n",
       "      <th>구매금액</th>\n",
       "      <th>결제금액</th>\n",
       "      <th>물품대분류</th>\n",
       "      <th>상품명</th>\n",
       "      <th>배송리드타임</th>\n",
       "      <th>구매일_연도</th>\n",
       "      <th>구매일_월</th>\n",
       "      <th>구매일_일</th>\n",
       "      <th>구매일_요일</th>\n",
       "      <th>할인금액</th>\n",
       "      <th>물품중분류</th>\n",
       "      <th>유기농</th>\n",
       "      <th>grade</th>\n",
       "    </tr>\n",
       "  </thead>\n",
       "  <tbody>\n",
       "    <tr>\n",
       "      <th>0</th>\n",
       "      <td>201905052342970</td>\n",
       "      <td>2019-05-06</td>\n",
       "      <td>2019-05-07</td>\n",
       "      <td>2019-05-11</td>\n",
       "      <td>4.0</td>\n",
       "      <td>201812310749735</td>\n",
       "      <td>25800</td>\n",
       "      <td>16314</td>\n",
       "      <td>더블하트</td>\n",
       "      <td>더블하트 SofTouch 모유실감 젖꼭지 M (2입)</td>\n",
       "      <td>5</td>\n",
       "      <td>2019</td>\n",
       "      <td>5</td>\n",
       "      <td>6</td>\n",
       "      <td>Monday</td>\n",
       "      <td>9486</td>\n",
       "      <td>수유용품</td>\n",
       "      <td>False</td>\n",
       "      <td>NaN</td>\n",
       "    </tr>\n",
       "    <tr>\n",
       "      <th>1</th>\n",
       "      <td>202002203424450</td>\n",
       "      <td>2020-02-20</td>\n",
       "      <td>2020-02-21</td>\n",
       "      <td>2020-02-23</td>\n",
       "      <td>14.0</td>\n",
       "      <td>201812310749735</td>\n",
       "      <td>51200</td>\n",
       "      <td>37769</td>\n",
       "      <td>팬티</td>\n",
       "      <td>NEW 하기스 맥스드라이 팬티 5단계 남아 80매(팬티형)</td>\n",
       "      <td>3</td>\n",
       "      <td>2020</td>\n",
       "      <td>2</td>\n",
       "      <td>20</td>\n",
       "      <td>Thursday</td>\n",
       "      <td>13431</td>\n",
       "      <td>기저귀</td>\n",
       "      <td>False</td>\n",
       "      <td>NaN</td>\n",
       "    </tr>\n",
       "    <tr>\n",
       "      <th>2</th>\n",
       "      <td>201902282095385</td>\n",
       "      <td>2019-02-28</td>\n",
       "      <td>2019-03-01</td>\n",
       "      <td>2019-03-05</td>\n",
       "      <td>NaN</td>\n",
       "      <td>201812310749770</td>\n",
       "      <td>5610</td>\n",
       "      <td>3800</td>\n",
       "      <td>FMC</td>\n",
       "      <td>크리넥스？키즈용？화장지？3겹？27m 8롤</td>\n",
       "      <td>5</td>\n",
       "      <td>2019</td>\n",
       "      <td>2</td>\n",
       "      <td>28</td>\n",
       "      <td>Thursday</td>\n",
       "      <td>1810</td>\n",
       "      <td>휴지/티슈</td>\n",
       "      <td>False</td>\n",
       "      <td>5등급</td>\n",
       "    </tr>\n",
       "    <tr>\n",
       "      <th>3</th>\n",
       "      <td>201905132367003</td>\n",
       "      <td>2019-05-13</td>\n",
       "      <td>2019-05-14</td>\n",
       "      <td>2019-05-16</td>\n",
       "      <td>66.0</td>\n",
       "      <td>201812310749771</td>\n",
       "      <td>59520</td>\n",
       "      <td>47922</td>\n",
       "      <td>기저귀</td>\n",
       "      <td>하기스 네이처메이드 밤부 3단계 여아 144매(밴드형)</td>\n",
       "      <td>3</td>\n",
       "      <td>2019</td>\n",
       "      <td>5</td>\n",
       "      <td>13</td>\n",
       "      <td>Monday</td>\n",
       "      <td>11598</td>\n",
       "      <td>기저귀</td>\n",
       "      <td>True</td>\n",
       "      <td>4등급</td>\n",
       "    </tr>\n",
       "    <tr>\n",
       "      <th>4</th>\n",
       "      <td>201905132367003</td>\n",
       "      <td>2019-05-13</td>\n",
       "      <td>2019-05-14</td>\n",
       "      <td>2019-05-16</td>\n",
       "      <td>66.0</td>\n",
       "      <td>201812310749771</td>\n",
       "      <td>59520</td>\n",
       "      <td>47922</td>\n",
       "      <td>기저귀</td>\n",
       "      <td>하기스 네이처메이드 밤부 3단계 여아 144매(밴드형)</td>\n",
       "      <td>3</td>\n",
       "      <td>2019</td>\n",
       "      <td>5</td>\n",
       "      <td>13</td>\n",
       "      <td>Monday</td>\n",
       "      <td>11598</td>\n",
       "      <td>기저귀</td>\n",
       "      <td>True</td>\n",
       "      <td>4등급</td>\n",
       "    </tr>\n",
       "    <tr>\n",
       "      <th>...</th>\n",
       "      <td>...</td>\n",
       "      <td>...</td>\n",
       "      <td>...</td>\n",
       "      <td>...</td>\n",
       "      <td>...</td>\n",
       "      <td>...</td>\n",
       "      <td>...</td>\n",
       "      <td>...</td>\n",
       "      <td>...</td>\n",
       "      <td>...</td>\n",
       "      <td>...</td>\n",
       "      <td>...</td>\n",
       "      <td>...</td>\n",
       "      <td>...</td>\n",
       "      <td>...</td>\n",
       "      <td>...</td>\n",
       "      <td>...</td>\n",
       "      <td>...</td>\n",
       "      <td>...</td>\n",
       "    </tr>\n",
       "    <tr>\n",
       "      <th>210034</th>\n",
       "      <td>20200724113704-52679491210</td>\n",
       "      <td>2020-07-24</td>\n",
       "      <td>2020-07-25</td>\n",
       "      <td>2020-07-27</td>\n",
       "      <td>5.0</td>\n",
       "      <td>20200724113017315991</td>\n",
       "      <td>11700</td>\n",
       "      <td>9240</td>\n",
       "      <td>FMC</td>\n",
       "      <td>크리넥스 뽑아쓰는 키친타월 펭수에디션 140매 X 4입 (EA)</td>\n",
       "      <td>3</td>\n",
       "      <td>2020</td>\n",
       "      <td>7</td>\n",
       "      <td>24</td>\n",
       "      <td>Friday</td>\n",
       "      <td>2460</td>\n",
       "      <td>키친타올/행주</td>\n",
       "      <td>False</td>\n",
       "      <td>3등급</td>\n",
       "    </tr>\n",
       "    <tr>\n",
       "      <th>210035</th>\n",
       "      <td>20200729134816-18220910068</td>\n",
       "      <td>2020-07-29</td>\n",
       "      <td>2020-07-30</td>\n",
       "      <td>2020-08-01</td>\n",
       "      <td>NaN</td>\n",
       "      <td>20200729134409126553</td>\n",
       "      <td>3000</td>\n",
       "      <td>3000</td>\n",
       "      <td>체험팩</td>\n",
       "      <td>맘큐 허그박스</td>\n",
       "      <td>3</td>\n",
       "      <td>2020</td>\n",
       "      <td>7</td>\n",
       "      <td>29</td>\n",
       "      <td>Wednesday</td>\n",
       "      <td>0</td>\n",
       "      <td>엄청난프로모션</td>\n",
       "      <td>False</td>\n",
       "      <td>3등급</td>\n",
       "    </tr>\n",
       "    <tr>\n",
       "      <th>210036</th>\n",
       "      <td>20200803080150-09054399128</td>\n",
       "      <td>2020-08-03</td>\n",
       "      <td>2020-08-04</td>\n",
       "      <td>2020-08-07</td>\n",
       "      <td>5.0</td>\n",
       "      <td>20200803075905757887</td>\n",
       "      <td>5900</td>\n",
       "      <td>5841</td>\n",
       "      <td>체험팩</td>\n",
       "      <td>NEW 하기스 맥스드라이 팬티 3단계 공용 20매(팬티형/체험팩) (EA)</td>\n",
       "      <td>4</td>\n",
       "      <td>2020</td>\n",
       "      <td>8</td>\n",
       "      <td>3</td>\n",
       "      <td>Monday</td>\n",
       "      <td>59</td>\n",
       "      <td>기저귀</td>\n",
       "      <td>False</td>\n",
       "      <td>3등급</td>\n",
       "    </tr>\n",
       "    <tr>\n",
       "      <th>210037</th>\n",
       "      <td>20200805171023-18783441109</td>\n",
       "      <td>2020-08-06</td>\n",
       "      <td>2020-08-07</td>\n",
       "      <td>2020-08-11</td>\n",
       "      <td>NaN</td>\n",
       "      <td>20200805170229147688</td>\n",
       "      <td>3000</td>\n",
       "      <td>3000</td>\n",
       "      <td>체험팩</td>\n",
       "      <td>맘큐 허그박스</td>\n",
       "      <td>5</td>\n",
       "      <td>2020</td>\n",
       "      <td>8</td>\n",
       "      <td>6</td>\n",
       "      <td>Thursday</td>\n",
       "      <td>0</td>\n",
       "      <td>엄청난프로모션</td>\n",
       "      <td>False</td>\n",
       "      <td>3등급</td>\n",
       "    </tr>\n",
       "    <tr>\n",
       "      <th>210038</th>\n",
       "      <td>20200805224157-34181488371</td>\n",
       "      <td>2020-08-06</td>\n",
       "      <td>2020-08-07</td>\n",
       "      <td>2020-08-09</td>\n",
       "      <td>NaN</td>\n",
       "      <td>20200805223526494551</td>\n",
       "      <td>8500</td>\n",
       "      <td>8500</td>\n",
       "      <td>기타</td>\n",
       "      <td>[먼치킨] 멀티 젖병솔 세트</td>\n",
       "      <td>3</td>\n",
       "      <td>2020</td>\n",
       "      <td>8</td>\n",
       "      <td>6</td>\n",
       "      <td>Thursday</td>\n",
       "      <td>0</td>\n",
       "      <td>수유용품</td>\n",
       "      <td>False</td>\n",
       "      <td>3등급</td>\n",
       "    </tr>\n",
       "  </tbody>\n",
       "</table>\n",
       "<p>210039 rows × 19 columns</p>\n",
       "</div>"
      ],
      "text/plain": [
       "                              주문번호         구매일       배송시작일       배송완료일  \\\n",
       "0                  201905052342970  2019-05-06  2019-05-07  2019-05-11   \n",
       "1                  202002203424450  2020-02-20  2020-02-21  2020-02-23   \n",
       "2                  201902282095385  2019-02-28  2019-03-01  2019-03-05   \n",
       "3                  201905132367003  2019-05-13  2019-05-14  2019-05-16   \n",
       "4                  201905132367003  2019-05-13  2019-05-14  2019-05-16   \n",
       "...                            ...         ...         ...         ...   \n",
       "210034  20200724113704-52679491210  2020-07-24  2020-07-25  2020-07-27   \n",
       "210035  20200729134816-18220910068  2020-07-29  2020-07-30  2020-08-01   \n",
       "210036  20200803080150-09054399128  2020-08-03  2020-08-04  2020-08-07   \n",
       "210037  20200805171023-18783441109  2020-08-06  2020-08-07  2020-08-11   \n",
       "210038  20200805224157-34181488371  2020-08-06  2020-08-07  2020-08-09   \n",
       "\n",
       "        구매시월령(수정)                  고객번호   구매금액   결제금액 물품대분류  \\\n",
       "0             4.0       201812310749735  25800  16314  더블하트   \n",
       "1            14.0       201812310749735  51200  37769    팬티   \n",
       "2             NaN       201812310749770   5610   3800   FMC   \n",
       "3            66.0       201812310749771  59520  47922   기저귀   \n",
       "4            66.0       201812310749771  59520  47922   기저귀   \n",
       "...           ...                   ...    ...    ...   ...   \n",
       "210034        5.0  20200724113017315991  11700   9240   FMC   \n",
       "210035        NaN  20200729134409126553   3000   3000   체험팩   \n",
       "210036        5.0  20200803075905757887   5900   5841   체험팩   \n",
       "210037        NaN  20200805170229147688   3000   3000   체험팩   \n",
       "210038        NaN  20200805223526494551   8500   8500    기타   \n",
       "\n",
       "                                              상품명  배송리드타임  구매일_연도  구매일_월  \\\n",
       "0                   더블하트 SofTouch 모유실감 젖꼭지 M (2입)       5    2019      5   \n",
       "1                NEW 하기스 맥스드라이 팬티 5단계 남아 80매(팬티형)       3    2020      2   \n",
       "2                          크리넥스？키즈용？화장지？3겹？27m 8롤       5    2019      2   \n",
       "3                  하기스 네이처메이드 밤부 3단계 여아 144매(밴드형)       3    2019      5   \n",
       "4                  하기스 네이처메이드 밤부 3단계 여아 144매(밴드형)       3    2019      5   \n",
       "...                                           ...     ...     ...    ...   \n",
       "210034        크리넥스 뽑아쓰는 키친타월 펭수에디션 140매 X 4입 (EA)       3    2020      7   \n",
       "210035                                    맘큐 허그박스       3    2020      7   \n",
       "210036  NEW 하기스 맥스드라이 팬티 3단계 공용 20매(팬티형/체험팩) (EA)       4    2020      8   \n",
       "210037                                    맘큐 허그박스       5    2020      8   \n",
       "210038                            [먼치킨] 멀티 젖병솔 세트       3    2020      8   \n",
       "\n",
       "        구매일_일     구매일_요일   할인금액    물품중분류    유기농 grade  \n",
       "0           6     Monday   9486     수유용품  False   NaN  \n",
       "1          20   Thursday  13431      기저귀  False   NaN  \n",
       "2          28   Thursday   1810    휴지/티슈  False   5등급  \n",
       "3          13     Monday  11598      기저귀   True   4등급  \n",
       "4          13     Monday  11598      기저귀   True   4등급  \n",
       "...       ...        ...    ...      ...    ...   ...  \n",
       "210034     24     Friday   2460  키친타올/행주  False   3등급  \n",
       "210035     29  Wednesday      0  엄청난프로모션  False   3등급  \n",
       "210036      3     Monday     59      기저귀  False   3등급  \n",
       "210037      6   Thursday      0  엄청난프로모션  False   3등급  \n",
       "210038      6   Thursday      0     수유용품  False   3등급  \n",
       "\n",
       "[210039 rows x 19 columns]"
      ]
     },
     "execution_count": 15,
     "metadata": {},
     "output_type": "execute_result"
    }
   ],
   "source": [
    "df_sales2"
   ]
  },
  {
   "cell_type": "code",
   "execution_count": 16,
   "id": "7c1fe06b",
   "metadata": {},
   "outputs": [],
   "source": [
    "colors = sns.color_palette('pastel')[0:5]\n",
    "explode = [0, 0.1]"
   ]
  },
  {
   "cell_type": "code",
   "execution_count": 17,
   "id": "bbcae38d",
   "metadata": {},
   "outputs": [
    {
     "data": {
      "image/png": "[encoded data removed]",
      "text/plain": [
       "<Figure size 360x360 with 1 Axes>"
      ]
     },
     "metadata": {},
     "output_type": "display_data"
    }
   ],
   "source": [
    "plt.figure(figsize=(5,5))\n",
    "plt.title(' 그외 ', fontsize=25)\n",
    "plt.pie(data, labels = labels,\n",
    "        colors = colors,\n",
    "        autopct='%.0f%%',shadow=True,\n",
    "        explode=explode,\n",
    "        textprops={'fontsize': 15},\n",
    "       startangle=150);"
   ]
  },
  {
   "cell_type": "code",
   "execution_count": null,
   "id": "16d75ccf",
   "metadata": {},
   "outputs": [],
   "source": []
  },
  {
   "cell_type": "code",
   "execution_count": 18,
   "id": "4807d41d",
   "metadata": {},
   "outputs": [],
   "source": [
    "df_1grade_product = pd.DataFrame(df_sales2[df_sales2.grade == '1등급'].groupby('물품중분류')['주문번호'].agg('count'))"
   ]
  },
  {
   "cell_type": "code",
   "execution_count": 19,
   "id": "6be4244e",
   "metadata": {},
   "outputs": [],
   "source": [
    "df_1grade_product = df_1grade_product / df_1grade_product.sum()"
   ]
  },
  {
   "cell_type": "code",
   "execution_count": 28,
   "id": "e673555e",
   "metadata": {
    "scrolled": false
   },
   "outputs": [
    {
     "name": "stderr",
     "output_type": "stream",
     "text": [
      "C:\\Users\\insea\\Anaconda3\\lib\\site-packages\\seaborn\\_decorators.py:43: FutureWarning: Pass the following variables as keyword args: x, y. From version 0.12, the only valid positional argument will be `data`, and passing other arguments without an explicit keyword will result in an error or misinterpretation.\n",
      "  FutureWarning\n"
     ]
    },
    {
     "data": {
      "image/png": "[encoded data removed]",
      "text/plain": [
       "<Figure size 720x360 with 1 Axes>"
      ]
     },
     "metadata": {
      "needs_background": "light"
     },
     "output_type": "display_data"
    }
   ],
   "source": [
    "df_1grade_product = df_1grade_product.sort_values('주문번호', ascending =False).head(10)\n",
    "\n",
    "plt.figure(figsize=(10,5))\n",
    "plt.xticks(rotation=-15)\n",
    "plt.xlabel('물품명', fontsize = 20)\n",
    "plt.ylabel('VIP 물품 비율', fontsize = 15)\n",
    "#plt.title('[ 기저귀 재구매주기 빈도 ]', fontsize = 20)\n",
    "g = sns.barplot(list(df_1grade_product.index),list(df_1grade_product['주문번호']), palette=\"Blues_d\");\n"
   ]
  },
  {
   "cell_type": "code",
   "execution_count": 21,
   "id": "07822b18",
   "metadata": {},
   "outputs": [
    {
     "data": {
      "text/html": [
       "<div>\n",
       "<style scoped>\n",
       "    .dataframe tbody tr th:only-of-type {\n",
       "        vertical-align: middle;\n",
       "    }\n",
       "\n",
       "    .dataframe tbody tr th {\n",
       "        vertical-align: top;\n",
       "    }\n",
       "\n",
       "    .dataframe thead th {\n",
       "        text-align: right;\n",
       "    }\n",
       "</style>\n",
       "<table border=\"1\" class=\"dataframe\">\n",
       "  <thead>\n",
       "    <tr style=\"text-align: right;\">\n",
       "      <th></th>\n",
       "      <th>주문번호</th>\n",
       "    </tr>\n",
       "    <tr>\n",
       "      <th>물품중분류</th>\n",
       "      <th></th>\n",
       "    </tr>\n",
       "  </thead>\n",
       "  <tbody>\n",
       "    <tr>\n",
       "      <th>기저귀</th>\n",
       "      <td>0.580424</td>\n",
       "    </tr>\n",
       "    <tr>\n",
       "      <th>수유용품</th>\n",
       "      <td>0.133470</td>\n",
       "    </tr>\n",
       "    <tr>\n",
       "      <th>생리대</th>\n",
       "      <td>0.047912</td>\n",
       "    </tr>\n",
       "    <tr>\n",
       "      <th>휴지/티슈</th>\n",
       "      <td>0.030801</td>\n",
       "    </tr>\n",
       "    <tr>\n",
       "      <th>물티슈</th>\n",
       "      <td>0.029432</td>\n",
       "    </tr>\n",
       "    <tr>\n",
       "      <th>스킨케어</th>\n",
       "      <td>0.021903</td>\n",
       "    </tr>\n",
       "    <tr>\n",
       "      <th>위생용품/세제</th>\n",
       "      <td>0.018480</td>\n",
       "    </tr>\n",
       "    <tr>\n",
       "      <th>엄청난프로모션</th>\n",
       "      <td>0.016427</td>\n",
       "    </tr>\n",
       "    <tr>\n",
       "      <th>키친타올/행주</th>\n",
       "      <td>0.015058</td>\n",
       "    </tr>\n",
       "    <tr>\n",
       "      <th>마이비데</th>\n",
       "      <td>0.013689</td>\n",
       "    </tr>\n",
       "  </tbody>\n",
       "</table>\n",
       "</div>"
      ],
      "text/plain": [
       "             주문번호\n",
       "물품중분류            \n",
       "기저귀      0.580424\n",
       "수유용품     0.133470\n",
       "생리대      0.047912\n",
       "휴지/티슈    0.030801\n",
       "물티슈      0.029432\n",
       "스킨케어     0.021903\n",
       "위생용품/세제  0.018480\n",
       "엄청난프로모션  0.016427\n",
       "키친타올/행주  0.015058\n",
       "마이비데     0.013689"
      ]
     },
     "execution_count": 21,
     "metadata": {},
     "output_type": "execute_result"
    }
   ],
   "source": [
    "df_1grade_product"
   ]
  },
  {
   "cell_type": "code",
   "execution_count": 22,
   "id": "b6590d64",
   "metadata": {},
   "outputs": [],
   "source": [
    "df_1grade_organic_dw = pd.DataFrame(df_sales2[(df_sales2.grade == '1등급') & (df_sales2.유기농 == True)].groupby('구매일_요일')['주문번호'].agg('count'))"
   ]
  },
  {
   "cell_type": "code",
   "execution_count": 23,
   "id": "df89737c",
   "metadata": {},
   "outputs": [
    {
     "data": {
      "text/html": [
       "<div>\n",
       "<style scoped>\n",
       "    .dataframe tbody tr th:only-of-type {\n",
       "        vertical-align: middle;\n",
       "    }\n",
       "\n",
       "    .dataframe tbody tr th {\n",
       "        vertical-align: top;\n",
       "    }\n",
       "\n",
       "    .dataframe thead th {\n",
       "        text-align: right;\n",
       "    }\n",
       "</style>\n",
       "<table border=\"1\" class=\"dataframe\">\n",
       "  <thead>\n",
       "    <tr style=\"text-align: right;\">\n",
       "      <th></th>\n",
       "      <th>주문번호</th>\n",
       "    </tr>\n",
       "    <tr>\n",
       "      <th>구매일_요일</th>\n",
       "      <th></th>\n",
       "    </tr>\n",
       "  </thead>\n",
       "  <tbody>\n",
       "    <tr>\n",
       "      <th>Tuesday</th>\n",
       "      <td>106</td>\n",
       "    </tr>\n",
       "    <tr>\n",
       "      <th>Friday</th>\n",
       "      <td>96</td>\n",
       "    </tr>\n",
       "    <tr>\n",
       "      <th>Wednesday</th>\n",
       "      <td>86</td>\n",
       "    </tr>\n",
       "    <tr>\n",
       "      <th>Monday</th>\n",
       "      <td>83</td>\n",
       "    </tr>\n",
       "    <tr>\n",
       "      <th>Thursday</th>\n",
       "      <td>75</td>\n",
       "    </tr>\n",
       "    <tr>\n",
       "      <th>Sunday</th>\n",
       "      <td>65</td>\n",
       "    </tr>\n",
       "    <tr>\n",
       "      <th>Saturday</th>\n",
       "      <td>61</td>\n",
       "    </tr>\n",
       "  </tbody>\n",
       "</table>\n",
       "</div>"
      ],
      "text/plain": [
       "           주문번호\n",
       "구매일_요일         \n",
       "Tuesday     106\n",
       "Friday       96\n",
       "Wednesday    86\n",
       "Monday       83\n",
       "Thursday     75\n",
       "Sunday       65\n",
       "Saturday     61"
      ]
     },
     "execution_count": 23,
     "metadata": {},
     "output_type": "execute_result"
    }
   ],
   "source": [
    "df_1grade_organic_dw = df_1grade_organic_dw.sort_values('주문번호', ascending=False)\n",
    "df_1grade_organic_dw"
   ]
  },
  {
   "cell_type": "code",
   "execution_count": 24,
   "id": "de87fd97",
   "metadata": {},
   "outputs": [
    {
     "name": "stderr",
     "output_type": "stream",
     "text": [
      "C:\\Users\\insea\\Anaconda3\\lib\\site-packages\\seaborn\\_decorators.py:43: FutureWarning: Pass the following variables as keyword args: x, y. From version 0.12, the only valid positional argument will be `data`, and passing other arguments without an explicit keyword will result in an error or misinterpretation.\n",
      "  FutureWarning\n"
     ]
    },
    {
     "data": {
      "text/plain": [
       "<AxesSubplot:xlabel='요일', ylabel='구매건수'>"
      ]
     },
     "execution_count": 24,
     "metadata": {},
     "output_type": "execute_result"
    },
    {
     "data": {
      "image/png": "[encoded data removed]",
      "text/plain": [
       "<Figure size 432x288 with 1 Axes>"
      ]
     },
     "metadata": {
      "needs_background": "light"
     },
     "output_type": "display_data"
    }
   ],
   "source": [
    "#plt.xticks(rotation=-45)\n",
    "plt.xlabel('요일', fontsize = 15)\n",
    "plt.ylabel('구매건수', fontsize = 15)\n",
    "#plt.title('[ 1등급 오가닉 제품 주요 구매 요일 ]', fontsize = 18)\n",
    "sns.barplot(list(df_1grade_organic_dw.index), list(df_1grade_organic_dw['주문번호']), palette=\"Blues_d\")"
   ]
  },
  {
   "cell_type": "code",
   "execution_count": 25,
   "id": "8ccb8b3e",
   "metadata": {},
   "outputs": [],
   "source": [
    "data = [313,535]\n",
    "labels = ['일반제품', '유기농제품']"
   ]
  },
  {
   "cell_type": "code",
   "execution_count": 26,
   "id": "fd9fac77",
   "metadata": {},
   "outputs": [],
   "source": [
    "colors = sns.color_palette('pastel')[0:5]\n",
    "explode = [0, 0.1]"
   ]
  },
  {
   "cell_type": "code",
   "execution_count": 27,
   "id": "de279a44",
   "metadata": {},
   "outputs": [
    {
     "data": {
      "image/png": "[encoded data removed]",
      "text/plain": [
       "<Figure size 360x360 with 1 Axes>"
      ]
     },
     "metadata": {},
     "output_type": "display_data"
    }
   ],
   "source": [
    "plt.figure(figsize=(5,5))\n",
    "plt.title(' 그외 ', fontsize=25)\n",
    "plt.pie(data, labels = labels,\n",
    "        colors = colors,\n",
    "        autopct='%.0f%%',shadow=True,\n",
    "        explode=explode,\n",
    "        textprops={'fontsize': 15},\n",
    "       startangle=150);"
   ]
  }
 ],
 "metadata": {
  "kernelspec": {
   "display_name": "Python 3",
   "language": "python",
   "name": "python3"
  },
  "language_info": {
   "codemirror_mode": {
    "name": "ipython",
    "version": 3
   },
   "file_extension": ".py",
   "mimetype": "text/x-python",
   "name": "python",
   "nbconvert_exporter": "python",
   "pygments_lexer": "ipython3",
   "version": "3.6.5"
  }
 },
 "nbformat": 4,
 "nbformat_minor": 5
}
