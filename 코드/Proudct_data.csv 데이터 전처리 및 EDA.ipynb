{
 "cells": [
  {
   "cell_type": "code",
   "execution_count": 1,
   "id": "38b9bda7",
   "metadata": {},
   "outputs": [],
   "source": [
    "# 데이터 분석 패키지\n",
    "import pandas as pd\n",
    "\n",
    "# 행렬 연산 패키지\n",
    "import numpy as np\n",
    "\n",
    "# 데이터 시각화 패키지\n",
    "import matplotlib\n",
    "import matplotlib.pyplot as plt\n",
    "\n",
    "#데이터 시각화(추세 등) 패키지\n",
    "import seaborn as sns\n",
    "\n",
    "# 가설검정 및 통계분석 패키지\n",
    "from scipy import stats\n",
    "\n",
    "\n",
    "from matplotlib import rc\n",
    "rc('font', family='AppleGothic')\n",
    "plt.rcParams['axes.unicode_minus'] = False  "
   ]
  },
  {
   "cell_type": "code",
   "execution_count": 2,
   "id": "bf867a79",
   "metadata": {},
   "outputs": [
    {
     "name": "stdout",
     "output_type": "stream",
     "text": [
      "KeysView(<matplotlib.cm._DeprecatedCmapDictWrapper object at 0x7f9698999040>)\n"
     ]
    }
   ],
   "source": [
    "import matplotlib.cm\n",
    "print(matplotlib.cm.cmap_d.keys())"
   ]
  },
  {
   "cell_type": "code",
   "execution_count": 3,
   "id": "1efda311",
   "metadata": {},
   "outputs": [
    {
     "name": "stderr",
     "output_type": "stream",
     "text": [
      "/var/folders/f2/nhwmstw91jvf4lfg4wk_7j440000gn/T/ipykernel_18229/37339747.py:1: DtypeWarning: Columns (5) have mixed types. Specify dtype option on import or set low_memory=False.\n",
      "  df_raw = pd.read_csv('/Users/juyeon/Desktop/빅데이터 프로젝트/DATA/A2_유아용품/Sales_data.csv')\n"
     ]
    },
    {
     "data": {
      "text/html": [
       "<div>\n",
       "<style scoped>\n",
       "    .dataframe tbody tr th:only-of-type {\n",
       "        vertical-align: middle;\n",
       "    }\n",
       "\n",
       "    .dataframe tbody tr th {\n",
       "        vertical-align: top;\n",
       "    }\n",
       "\n",
       "    .dataframe thead th {\n",
       "        text-align: right;\n",
       "    }\n",
       "</style>\n",
       "<table border=\"1\" class=\"dataframe\">\n",
       "  <thead>\n",
       "    <tr style=\"text-align: right;\">\n",
       "      <th></th>\n",
       "      <th>주문번호</th>\n",
       "      <th>구매일</th>\n",
       "      <th>배송시작일</th>\n",
       "      <th>배송완료일</th>\n",
       "      <th>구매시월령(수정)</th>\n",
       "      <th>고객번호</th>\n",
       "      <th>구매금액</th>\n",
       "      <th>결제금액</th>\n",
       "      <th>물품대분류</th>\n",
       "      <th>상품명</th>\n",
       "    </tr>\n",
       "  </thead>\n",
       "  <tbody>\n",
       "    <tr>\n",
       "      <th>0</th>\n",
       "      <td>201905052342970</td>\n",
       "      <td>2019-05-06</td>\n",
       "      <td>2019-05-07</td>\n",
       "      <td>2019-05-11</td>\n",
       "      <td>4.0</td>\n",
       "      <td>201812310749735</td>\n",
       "      <td>25800</td>\n",
       "      <td>16314</td>\n",
       "      <td>더블하트</td>\n",
       "      <td>더블하트 SofTouch 모유실감 젖꼭지 M (2입)</td>\n",
       "    </tr>\n",
       "    <tr>\n",
       "      <th>1</th>\n",
       "      <td>202002203424450</td>\n",
       "      <td>2020-02-20</td>\n",
       "      <td>2020-02-21</td>\n",
       "      <td>2020-02-23</td>\n",
       "      <td>14.0</td>\n",
       "      <td>201812310749735</td>\n",
       "      <td>51200</td>\n",
       "      <td>37769</td>\n",
       "      <td>팬티</td>\n",
       "      <td>NEW 하기스 맥스드라이 팬티 5단계 남아 80매(팬티형)</td>\n",
       "    </tr>\n",
       "    <tr>\n",
       "      <th>2</th>\n",
       "      <td>201902282095385</td>\n",
       "      <td>2019-02-28</td>\n",
       "      <td>2019-03-01</td>\n",
       "      <td>2019-03-05</td>\n",
       "      <td>NaN</td>\n",
       "      <td>201812310749770</td>\n",
       "      <td>5610</td>\n",
       "      <td>3800</td>\n",
       "      <td>FMC</td>\n",
       "      <td>크리넥스？키즈용？화장지？3겹？27m 8롤</td>\n",
       "    </tr>\n",
       "    <tr>\n",
       "      <th>3</th>\n",
       "      <td>201905132367003</td>\n",
       "      <td>2019-05-13</td>\n",
       "      <td>2019-05-14</td>\n",
       "      <td>2019-05-16</td>\n",
       "      <td>66.0</td>\n",
       "      <td>201812310749771</td>\n",
       "      <td>59520</td>\n",
       "      <td>47922</td>\n",
       "      <td>기저귀</td>\n",
       "      <td>하기스 네이처메이드 밤부 3단계 여아 144매(밴드형)</td>\n",
       "    </tr>\n",
       "    <tr>\n",
       "      <th>4</th>\n",
       "      <td>201905092356247</td>\n",
       "      <td>2019-05-10</td>\n",
       "      <td>2019-05-11</td>\n",
       "      <td>2019-05-13</td>\n",
       "      <td>5.0</td>\n",
       "      <td>201812310749774</td>\n",
       "      <td>50640</td>\n",
       "      <td>39788</td>\n",
       "      <td>기저귀</td>\n",
       "      <td>하기스 에어솔솔 썸머기저귀 3단계 공용 144매(밴드형)</td>\n",
       "    </tr>\n",
       "    <tr>\n",
       "      <th>...</th>\n",
       "      <td>...</td>\n",
       "      <td>...</td>\n",
       "      <td>...</td>\n",
       "      <td>...</td>\n",
       "      <td>...</td>\n",
       "      <td>...</td>\n",
       "      <td>...</td>\n",
       "      <td>...</td>\n",
       "      <td>...</td>\n",
       "      <td>...</td>\n",
       "    </tr>\n",
       "    <tr>\n",
       "      <th>199994</th>\n",
       "      <td>20200724113704-52679491210</td>\n",
       "      <td>2020-07-24</td>\n",
       "      <td>2020-07-25</td>\n",
       "      <td>2020-07-27</td>\n",
       "      <td>5.0</td>\n",
       "      <td>20200724113017315991</td>\n",
       "      <td>11700</td>\n",
       "      <td>9240</td>\n",
       "      <td>FMC</td>\n",
       "      <td>크리넥스 뽑아쓰는 키친타월 펭수에디션 140매 X 4입 (EA)</td>\n",
       "    </tr>\n",
       "    <tr>\n",
       "      <th>199995</th>\n",
       "      <td>20200729134816-18220910068</td>\n",
       "      <td>2020-07-29</td>\n",
       "      <td>2020-07-30</td>\n",
       "      <td>2020-08-01</td>\n",
       "      <td>NaN</td>\n",
       "      <td>20200729134409126553</td>\n",
       "      <td>3000</td>\n",
       "      <td>3000</td>\n",
       "      <td>체험팩</td>\n",
       "      <td>맘큐 허그박스</td>\n",
       "    </tr>\n",
       "    <tr>\n",
       "      <th>199996</th>\n",
       "      <td>20200803080150-09054399128</td>\n",
       "      <td>2020-08-03</td>\n",
       "      <td>2020-08-04</td>\n",
       "      <td>2020-08-07</td>\n",
       "      <td>5.0</td>\n",
       "      <td>20200803075905757887</td>\n",
       "      <td>5900</td>\n",
       "      <td>5841</td>\n",
       "      <td>체험팩</td>\n",
       "      <td>NEW 하기스 맥스드라이 팬티 3단계 공용 20매(팬티형/체험팩) (EA)</td>\n",
       "    </tr>\n",
       "    <tr>\n",
       "      <th>199997</th>\n",
       "      <td>20200805171023-18783441109</td>\n",
       "      <td>2020-08-06</td>\n",
       "      <td>2020-08-07</td>\n",
       "      <td>2020-08-11</td>\n",
       "      <td>NaN</td>\n",
       "      <td>20200805170229147688</td>\n",
       "      <td>3000</td>\n",
       "      <td>3000</td>\n",
       "      <td>체험팩</td>\n",
       "      <td>맘큐 허그박스</td>\n",
       "    </tr>\n",
       "    <tr>\n",
       "      <th>199998</th>\n",
       "      <td>20200805224157-34181488371</td>\n",
       "      <td>2020-08-06</td>\n",
       "      <td>2020-08-07</td>\n",
       "      <td>2020-08-09</td>\n",
       "      <td>NaN</td>\n",
       "      <td>20200805223526494551</td>\n",
       "      <td>8500</td>\n",
       "      <td>8500</td>\n",
       "      <td>기타</td>\n",
       "      <td>[먼치킨] 멀티 젖병솔 세트</td>\n",
       "    </tr>\n",
       "  </tbody>\n",
       "</table>\n",
       "<p>199999 rows × 10 columns</p>\n",
       "</div>"
      ],
      "text/plain": [
       "                              주문번호         구매일       배송시작일       배송완료일  \\\n",
       "0                  201905052342970  2019-05-06  2019-05-07  2019-05-11   \n",
       "1                  202002203424450  2020-02-20  2020-02-21  2020-02-23   \n",
       "2                  201902282095385  2019-02-28  2019-03-01  2019-03-05   \n",
       "3                  201905132367003  2019-05-13  2019-05-14  2019-05-16   \n",
       "4                  201905092356247  2019-05-10  2019-05-11  2019-05-13   \n",
       "...                            ...         ...         ...         ...   \n",
       "199994  20200724113704-52679491210  2020-07-24  2020-07-25  2020-07-27   \n",
       "199995  20200729134816-18220910068  2020-07-29  2020-07-30  2020-08-01   \n",
       "199996  20200803080150-09054399128  2020-08-03  2020-08-04  2020-08-07   \n",
       "199997  20200805171023-18783441109  2020-08-06  2020-08-07  2020-08-11   \n",
       "199998  20200805224157-34181488371  2020-08-06  2020-08-07  2020-08-09   \n",
       "\n",
       "        구매시월령(수정)                  고객번호   구매금액   결제금액 물품대분류  \\\n",
       "0             4.0       201812310749735  25800  16314  더블하트   \n",
       "1            14.0       201812310749735  51200  37769    팬티   \n",
       "2             NaN       201812310749770   5610   3800   FMC   \n",
       "3            66.0       201812310749771  59520  47922   기저귀   \n",
       "4             5.0       201812310749774  50640  39788   기저귀   \n",
       "...           ...                   ...    ...    ...   ...   \n",
       "199994        5.0  20200724113017315991  11700   9240   FMC   \n",
       "199995        NaN  20200729134409126553   3000   3000   체험팩   \n",
       "199996        5.0  20200803075905757887   5900   5841   체험팩   \n",
       "199997        NaN  20200805170229147688   3000   3000   체험팩   \n",
       "199998        NaN  20200805223526494551   8500   8500    기타   \n",
       "\n",
       "                                              상품명  \n",
       "0                   더블하트 SofTouch 모유실감 젖꼭지 M (2입)  \n",
       "1                NEW 하기스 맥스드라이 팬티 5단계 남아 80매(팬티형)  \n",
       "2                          크리넥스？키즈용？화장지？3겹？27m 8롤  \n",
       "3                  하기스 네이처메이드 밤부 3단계 여아 144매(밴드형)  \n",
       "4                 하기스 에어솔솔 썸머기저귀 3단계 공용 144매(밴드형)  \n",
       "...                                           ...  \n",
       "199994        크리넥스 뽑아쓰는 키친타월 펭수에디션 140매 X 4입 (EA)  \n",
       "199995                                    맘큐 허그박스  \n",
       "199996  NEW 하기스 맥스드라이 팬티 3단계 공용 20매(팬티형/체험팩) (EA)  \n",
       "199997                                    맘큐 허그박스  \n",
       "199998                            [먼치킨] 멀티 젖병솔 세트  \n",
       "\n",
       "[199999 rows x 10 columns]"
      ]
     },
     "execution_count": 3,
     "metadata": {},
     "output_type": "execute_result"
    }
   ],
   "source": [
    "df_raw = pd.read_csv('/Users/juyeon/Desktop/빅데이터 프로젝트/DATA/A2_유아용품/Sales_data.csv')\n",
    "df_raw"
   ]
  },
  {
   "cell_type": "code",
   "execution_count": 4,
   "id": "13b61f06",
   "metadata": {},
   "outputs": [
    {
     "data": {
      "text/plain": [
       "(199999, 10)"
      ]
     },
     "execution_count": 4,
     "metadata": {},
     "output_type": "execute_result"
    }
   ],
   "source": [
    "# 데이터 행, 열 갯수 확인\n",
    "df_raw.shape"
   ]
  },
  {
   "cell_type": "code",
   "execution_count": 5,
   "id": "58cdbdbd",
   "metadata": {},
   "outputs": [
    {
     "name": "stdout",
     "output_type": "stream",
     "text": [
      "<class 'pandas.core.frame.DataFrame'>\n",
      "RangeIndex: 199999 entries, 0 to 199998\n",
      "Data columns (total 10 columns):\n",
      " #   Column     Non-Null Count   Dtype  \n",
      "---  ------     --------------   -----  \n",
      " 0   주문번호       199999 non-null  object \n",
      " 1   구매일        199999 non-null  object \n",
      " 2   배송시작일      199999 non-null  object \n",
      " 3   배송완료일      199999 non-null  object \n",
      " 4   구매시월령(수정)  168142 non-null  float64\n",
      " 5   고객번호       199999 non-null  object \n",
      " 6   구매금액       199999 non-null  int64  \n",
      " 7   결제금액       199999 non-null  int64  \n",
      " 8   물품대분류      199999 non-null  object \n",
      " 9   상품명        199999 non-null  object \n",
      "dtypes: float64(1), int64(2), object(7)\n",
      "memory usage: 15.3+ MB\n"
     ]
    }
   ],
   "source": [
    "df_raw.info()"
   ]
  },
  {
   "cell_type": "code",
   "execution_count": 6,
   "id": "323aa992",
   "metadata": {},
   "outputs": [
    {
     "data": {
      "text/html": [
       "<div>\n",
       "<style scoped>\n",
       "    .dataframe tbody tr th:only-of-type {\n",
       "        vertical-align: middle;\n",
       "    }\n",
       "\n",
       "    .dataframe tbody tr th {\n",
       "        vertical-align: top;\n",
       "    }\n",
       "\n",
       "    .dataframe thead th {\n",
       "        text-align: right;\n",
       "    }\n",
       "</style>\n",
       "<table border=\"1\" class=\"dataframe\">\n",
       "  <thead>\n",
       "    <tr style=\"text-align: right;\">\n",
       "      <th></th>\n",
       "      <th>구매시월령(수정)</th>\n",
       "      <th>구매금액</th>\n",
       "      <th>결제금액</th>\n",
       "    </tr>\n",
       "  </thead>\n",
       "  <tbody>\n",
       "    <tr>\n",
       "      <th>count</th>\n",
       "      <td>168142.000000</td>\n",
       "      <td>199999.000000</td>\n",
       "      <td>199999.000000</td>\n",
       "    </tr>\n",
       "    <tr>\n",
       "      <th>mean</th>\n",
       "      <td>14.845458</td>\n",
       "      <td>30572.028160</td>\n",
       "      <td>21713.797759</td>\n",
       "    </tr>\n",
       "    <tr>\n",
       "      <th>std</th>\n",
       "      <td>38.521315</td>\n",
       "      <td>30560.954766</td>\n",
       "      <td>21341.455664</td>\n",
       "    </tr>\n",
       "    <tr>\n",
       "      <th>min</th>\n",
       "      <td>-10.000000</td>\n",
       "      <td>0.000000</td>\n",
       "      <td>-35166.000000</td>\n",
       "    </tr>\n",
       "    <tr>\n",
       "      <th>25%</th>\n",
       "      <td>2.000000</td>\n",
       "      <td>7400.000000</td>\n",
       "      <td>5998.000000</td>\n",
       "    </tr>\n",
       "    <tr>\n",
       "      <th>50%</th>\n",
       "      <td>6.000000</td>\n",
       "      <td>17500.000000</td>\n",
       "      <td>12621.000000</td>\n",
       "    </tr>\n",
       "    <tr>\n",
       "      <th>75%</th>\n",
       "      <td>13.000000</td>\n",
       "      <td>51200.000000</td>\n",
       "      <td>34799.000000</td>\n",
       "    </tr>\n",
       "    <tr>\n",
       "      <th>max</th>\n",
       "      <td>1439.000000</td>\n",
       "      <td>598000.000000</td>\n",
       "      <td>539000.000000</td>\n",
       "    </tr>\n",
       "  </tbody>\n",
       "</table>\n",
       "</div>"
      ],
      "text/plain": [
       "           구매시월령(수정)           구매금액           결제금액\n",
       "count  168142.000000  199999.000000  199999.000000\n",
       "mean       14.845458   30572.028160   21713.797759\n",
       "std        38.521315   30560.954766   21341.455664\n",
       "min       -10.000000       0.000000  -35166.000000\n",
       "25%         2.000000    7400.000000    5998.000000\n",
       "50%         6.000000   17500.000000   12621.000000\n",
       "75%        13.000000   51200.000000   34799.000000\n",
       "max      1439.000000  598000.000000  539000.000000"
      ]
     },
     "execution_count": 6,
     "metadata": {},
     "output_type": "execute_result"
    }
   ],
   "source": [
    "df_raw.describe()"
   ]
  },
  {
   "cell_type": "code",
   "execution_count": 7,
   "id": "7212f991",
   "metadata": {},
   "outputs": [
    {
     "data": {
      "text/html": [
       "<div>\n",
       "<style scoped>\n",
       "    .dataframe tbody tr th:only-of-type {\n",
       "        vertical-align: middle;\n",
       "    }\n",
       "\n",
       "    .dataframe tbody tr th {\n",
       "        vertical-align: top;\n",
       "    }\n",
       "\n",
       "    .dataframe thead th {\n",
       "        text-align: right;\n",
       "    }\n",
       "</style>\n",
       "<table border=\"1\" class=\"dataframe\">\n",
       "  <thead>\n",
       "    <tr style=\"text-align: right;\">\n",
       "      <th></th>\n",
       "      <th>결측치 개수</th>\n",
       "    </tr>\n",
       "  </thead>\n",
       "  <tbody>\n",
       "    <tr>\n",
       "      <th>주문번호</th>\n",
       "      <td>0</td>\n",
       "    </tr>\n",
       "    <tr>\n",
       "      <th>구매일</th>\n",
       "      <td>0</td>\n",
       "    </tr>\n",
       "    <tr>\n",
       "      <th>배송시작일</th>\n",
       "      <td>0</td>\n",
       "    </tr>\n",
       "    <tr>\n",
       "      <th>배송완료일</th>\n",
       "      <td>0</td>\n",
       "    </tr>\n",
       "    <tr>\n",
       "      <th>구매시월령(수정)</th>\n",
       "      <td>31857</td>\n",
       "    </tr>\n",
       "    <tr>\n",
       "      <th>고객번호</th>\n",
       "      <td>0</td>\n",
       "    </tr>\n",
       "    <tr>\n",
       "      <th>구매금액</th>\n",
       "      <td>0</td>\n",
       "    </tr>\n",
       "    <tr>\n",
       "      <th>결제금액</th>\n",
       "      <td>0</td>\n",
       "    </tr>\n",
       "    <tr>\n",
       "      <th>물품대분류</th>\n",
       "      <td>0</td>\n",
       "    </tr>\n",
       "    <tr>\n",
       "      <th>상품명</th>\n",
       "      <td>0</td>\n",
       "    </tr>\n",
       "  </tbody>\n",
       "</table>\n",
       "</div>"
      ],
      "text/plain": [
       "           결측치 개수\n",
       "주문번호            0\n",
       "구매일             0\n",
       "배송시작일           0\n",
       "배송완료일           0\n",
       "구매시월령(수정)   31857\n",
       "고객번호            0\n",
       "구매금액            0\n",
       "결제금액            0\n",
       "물품대분류           0\n",
       "상품명             0"
      ]
     },
     "execution_count": 7,
     "metadata": {},
     "output_type": "execute_result"
    }
   ],
   "source": [
    "# 결측치 개수 파악\n",
    "df_raw.isnull().sum().to_frame('결측치 개수')"
   ]
  },
  {
   "cell_type": "code",
   "execution_count": 8,
   "id": "3c20d25c",
   "metadata": {},
   "outputs": [
    {
     "data": {
      "text/plain": [
       "<AxesSubplot:>"
      ]
     },
     "execution_count": 8,
     "metadata": {},
     "output_type": "execute_result"
    },
    {
     "data": {
      "image/png": "[encoded data removed]",
      "text/plain": [
       "<Figure size 720x720 with 1 Axes>"
      ]
     },
     "metadata": {
      "needs_background": "light"
     },
     "output_type": "display_data"
    }
   ],
   "source": [
    "df_raw[['구매금액','결제금액']].boxplot(figsize = (10,10))"
   ]
  },
  {
   "cell_type": "code",
   "execution_count": 9,
   "id": "74238db6",
   "metadata": {},
   "outputs": [],
   "source": [
    "# 결제금액 -값 제거\n",
    "index1 = df_raw[df_raw['결제금액'] == -35166].index"
   ]
  },
  {
   "cell_type": "code",
   "execution_count": 10,
   "id": "7adfce67",
   "metadata": {},
   "outputs": [],
   "source": [
    "df_raw = df_raw.drop(index1)"
   ]
  },
  {
   "cell_type": "code",
   "execution_count": 11,
   "id": "326c149b",
   "metadata": {},
   "outputs": [
    {
     "data": {
      "text/plain": [
       "<AxesSubplot:>"
      ]
     },
     "execution_count": 11,
     "metadata": {},
     "output_type": "execute_result"
    },
    {
     "data": {
      "image/png": "[encoded data removed]",
      "text/plain": [
       "<Figure size 720x720 with 1 Axes>"
      ]
     },
     "metadata": {
      "needs_background": "light"
     },
     "output_type": "display_data"
    }
   ],
   "source": [
    "#결제금액 -값 지우고 다시 박스플롯\n",
    "df_raw[['구매금액','결제금액']].boxplot(figsize = (10,10))"
   ]
  },
  {
   "cell_type": "code",
   "execution_count": 12,
   "id": "2891b84a",
   "metadata": {},
   "outputs": [
    {
     "data": {
      "text/plain": [
       "202003213565799               10\n",
       "201902061998499                8\n",
       "201911073048165                7\n",
       "201907282648137                7\n",
       "20200731000929-71103682498     6\n",
       "                              ..\n",
       "201903102140250                1\n",
       "202001163301688                1\n",
       "202004173672408                1\n",
       "201903102140242                1\n",
       "20200805224157-34181488371     1\n",
       "Name: 주문번호, Length: 182425, dtype: int64"
      ]
     },
     "execution_count": 12,
     "metadata": {},
     "output_type": "execute_result"
    }
   ],
   "source": [
    "df_raw['주문번호'].value_counts()"
   ]
  },
  {
   "cell_type": "code",
   "execution_count": 13,
   "id": "0c2a07b4",
   "metadata": {},
   "outputs": [
    {
     "data": {
      "text/plain": [
       "더블하트    37294\n",
       "체험팩     35488\n",
       "기저귀     35404\n",
       "팬티      27659\n",
       "FMC     25976\n",
       "FC      12436\n",
       "SKC      9379\n",
       "물티슈      8455\n",
       "기타       7893\n",
       "SrC        14\n",
       "Name: 물품대분류, dtype: int64"
      ]
     },
     "execution_count": 13,
     "metadata": {},
     "output_type": "execute_result"
    }
   ],
   "source": [
    "df_raw['물품대분류'].value_counts()"
   ]
  },
  {
   "cell_type": "code",
   "execution_count": 14,
   "id": "0fbae7f2",
   "metadata": {},
   "outputs": [],
   "source": [
    "def del_outlier(df,col,w):\n",
    "    q_1 = df[col].quantile(0.25)\n",
    "    q_3 = df[col].quantile(0.75)\n",
    "    IQR = q_3 - q_1\n",
    "    lower = q_1 - w * IQR\n",
    "    upper = q_3 + w * IQR\n",
    "    df[col] = df[col][df[col]>=lower]\n",
    "    df[col] = df[col][df[col]<=upper]"
   ]
  },
  {
   "cell_type": "code",
   "execution_count": 15,
   "id": "b31f76a1",
   "metadata": {},
   "outputs": [],
   "source": [
    "# [PT_THICK, PT_WIDTH, FUR_HZ_TIME, FUR_SZ_TIME, ROLLING_TEMP_T5]의 이상치 제거\n",
    "outlier_list=['구매금액','결제금액']\n",
    "\n",
    "for i in outlier_list:\n",
    "    del_outlier(df_raw, i, 1.5)"
   ]
  },
  {
   "cell_type": "code",
   "execution_count": 16,
   "id": "57c681e6",
   "metadata": {},
   "outputs": [
    {
     "data": {
      "text/plain": [
       "주문번호             0\n",
       "구매일              0\n",
       "배송시작일            0\n",
       "배송완료일            0\n",
       "구매시월령(수정)    31857\n",
       "고객번호             0\n",
       "구매금액          4165\n",
       "결제금액          5374\n",
       "물품대분류            0\n",
       "상품명              0\n",
       "dtype: int64"
      ]
     },
     "execution_count": 16,
     "metadata": {},
     "output_type": "execute_result"
    }
   ],
   "source": [
    "df_raw.isnull().sum()"
   ]
  },
  {
   "cell_type": "markdown",
   "id": "282e9217",
   "metadata": {},
   "source": [
    "## 구매시월령(수정) 데이터처리"
   ]
  },
  {
   "cell_type": "code",
   "execution_count": 14,
   "id": "2e9ce2bf",
   "metadata": {},
   "outputs": [],
   "source": [
    "# df = df_raw[['구매시월령(수정)']]"
   ]
  },
  {
   "cell_type": "code",
   "execution_count": 15,
   "id": "e966516b",
   "metadata": {},
   "outputs": [
    {
     "name": "stderr",
     "output_type": "stream",
     "text": [
      "/var/folders/f2/nhwmstw91jvf4lfg4wk_7j440000gn/T/ipykernel_8740/1379821321.py:1: SettingWithCopyWarning: \n",
      "A value is trying to be set on a copy of a slice from a DataFrame\n",
      "\n",
      "See the caveats in the documentation: https://pandas.pydata.org/pandas-docs/stable/user_guide/indexing.html#returning-a-view-versus-a-copy\n",
      "  df.dropna(inplace=True)\n"
     ]
    }
   ],
   "source": [
    "# df.dropna(inplace=True)"
   ]
  },
  {
   "cell_type": "code",
   "execution_count": 17,
   "id": "525ef169",
   "metadata": {},
   "outputs": [
    {
     "name": "stdout",
     "output_type": "stream",
     "text": [
      "                              주문번호         구매일       배송시작일       배송완료일  \\\n",
      "0                  201905052342970  2019-05-06  2019-05-07  2019-05-11   \n",
      "1                  202002203424450  2020-02-20  2020-02-21  2020-02-23   \n",
      "2                  201902282095385  2019-02-28  2019-03-01  2019-03-05   \n",
      "3                  201905132367003  2019-05-13  2019-05-14  2019-05-16   \n",
      "4                  201905092356247  2019-05-10  2019-05-11  2019-05-13   \n",
      "...                            ...         ...         ...         ...   \n",
      "199994  20200724113704-52679491210  2020-07-24  2020-07-25  2020-07-27   \n",
      "199995  20200729134816-18220910068  2020-07-29  2020-07-30  2020-08-01   \n",
      "199996  20200803080150-09054399128  2020-08-03  2020-08-04  2020-08-07   \n",
      "199997  20200805171023-18783441109  2020-08-06  2020-08-07  2020-08-11   \n",
      "199998  20200805224157-34181488371  2020-08-06  2020-08-07  2020-08-09   \n",
      "\n",
      "        구매시월령(수정)                  고객번호     구매금액     결제금액 물품대분류  \\\n",
      "0             4.0       201812310749735  25800.0  16314.0  더블하트   \n",
      "1            14.0       201812310749735  51200.0  37769.0    팬티   \n",
      "2             NaN       201812310749770   5610.0   3800.0   FMC   \n",
      "3            66.0       201812310749771  59520.0  47922.0   기저귀   \n",
      "4             5.0       201812310749774  50640.0  39788.0   기저귀   \n",
      "...           ...                   ...      ...      ...   ...   \n",
      "199994        5.0  20200724113017315991  11700.0   9240.0   FMC   \n",
      "199995        NaN  20200729134409126553   3000.0   3000.0   체험팩   \n",
      "199996        5.0  20200803075905757887   5900.0   5841.0   체험팩   \n",
      "199997        NaN  20200805170229147688   3000.0   3000.0   체험팩   \n",
      "199998        NaN  20200805223526494551   8500.0   8500.0    기타   \n",
      "\n",
      "                                              상품명      Age_Range  \n",
      "0                   더블하트 SofTouch 모유실감 젖꼭지 M (2입)             영아  \n",
      "1                NEW 하기스 맥스드라이 팬티 5단계 남아 80매(팬티형)             유아  \n",
      "2                          크리넥스？키즈용？화장지？3겹？27m 8롤  Nan-Specified  \n",
      "3                  하기스 네이처메이드 밤부 3단계 여아 144매(밴드형)             유아  \n",
      "4                 하기스 에어솔솔 썸머기저귀 3단계 공용 144매(밴드형)             영아  \n",
      "...                                           ...            ...  \n",
      "199994        크리넥스 뽑아쓰는 키친타월 펭수에디션 140매 X 4입 (EA)             영아  \n",
      "199995                                    맘큐 허그박스  Nan-Specified  \n",
      "199996  NEW 하기스 맥스드라이 팬티 3단계 공용 20매(팬티형/체험팩) (EA)             영아  \n",
      "199997                                    맘큐 허그박스  Nan-Specified  \n",
      "199998                            [먼치킨] 멀티 젖병솔 세트  Nan-Specified  \n",
      "\n",
      "[199998 rows x 11 columns]\n"
     ]
    }
   ],
   "source": [
    "conditionlist = [\n",
    "    (df_raw['구매시월령(수정)'] >= -10) & (df_raw['구매시월령(수정)'] <= -1),\n",
    "    (df_raw['구매시월령(수정)'] >= 0) & (df_raw['구매시월령(수정)'] <= 1),\n",
    "    (df_raw['구매시월령(수정)'] >= 2) & (df_raw['구매시월령(수정)'] <= 12),\n",
    "    (df_raw['구매시월령(수정)'] >= 13) & (df_raw['구매시월령(수정)'] <= 83),\n",
    "    (df_raw['구매시월령(수정)'] >= 84) & (df_raw['구매시월령(수정)'] <= 144),\n",
    "    (df_raw['구매시월령(수정)'] >= 144)]\n",
    "\n",
    "choicelist = ['태아','신생아','영아','유아','소아','그외']\n",
    "df_raw['Age_Range'] = np.select(conditionlist, choicelist, default='Nan-Specified')\n",
    "\n",
    "print(df_raw)"
   ]
  },
  {
   "cell_type": "code",
   "execution_count": 18,
   "id": "36968f80",
   "metadata": {},
   "outputs": [
    {
     "name": "stdout",
     "output_type": "stream",
     "text": [
      "<class 'pandas.core.frame.DataFrame'>\n",
      "Int64Index: 199998 entries, 0 to 199998\n",
      "Data columns (total 11 columns):\n",
      " #   Column     Non-Null Count   Dtype  \n",
      "---  ------     --------------   -----  \n",
      " 0   주문번호       199998 non-null  object \n",
      " 1   구매일        199998 non-null  object \n",
      " 2   배송시작일      199998 non-null  object \n",
      " 3   배송완료일      199998 non-null  object \n",
      " 4   구매시월령(수정)  168141 non-null  float64\n",
      " 5   고객번호       199998 non-null  object \n",
      " 6   구매금액       195833 non-null  float64\n",
      " 7   결제금액       194624 non-null  float64\n",
      " 8   물품대분류      199998 non-null  object \n",
      " 9   상품명        199998 non-null  object \n",
      " 10  Age_Range  199998 non-null  object \n",
      "dtypes: float64(3), object(8)\n",
      "memory usage: 18.3+ MB\n"
     ]
    }
   ],
   "source": [
    "df_raw.info()"
   ]
  },
  {
   "cell_type": "code",
   "execution_count": 19,
   "id": "da9d5173",
   "metadata": {},
   "outputs": [
    {
     "data": {
      "text/plain": [
       "array([[<AxesSubplot:title={'center':'구매시월령(수정)'}>,\n",
       "        <AxesSubplot:title={'center':'구매금액'}>],\n",
       "       [<AxesSubplot:title={'center':'결제금액'}>, <AxesSubplot:>]],\n",
       "      dtype=object)"
      ]
     },
     "execution_count": 19,
     "metadata": {},
     "output_type": "execute_result"
    },
    {
     "data": {
      "image/png": "[encoded data removed]",
      "text/plain": [
       "<Figure size 1440x1440 with 4 Axes>"
      ]
     },
     "metadata": {
      "needs_background": "light"
     },
     "output_type": "display_data"
    }
   ],
   "source": [
    "df_raw.hist(figsize = (20,20))"
   ]
  },
  {
   "cell_type": "code",
   "execution_count": 20,
   "id": "99b3e000",
   "metadata": {},
   "outputs": [
    {
     "data": {
      "text/plain": [
       "영아               84439\n",
       "유아               38183\n",
       "Nan-Specified    31857\n",
       "신생아              26041\n",
       "태아               14603\n",
       "소아                3233\n",
       "그외                1642\n",
       "Name: Age_Range, dtype: int64"
      ]
     },
     "execution_count": 20,
     "metadata": {},
     "output_type": "execute_result"
    }
   ],
   "source": [
    "df_count = df_raw['Age_Range'].value_counts()\n",
    "df_count"
   ]
  },
  {
   "cell_type": "code",
   "execution_count": 21,
   "id": "e5c65821",
   "metadata": {},
   "outputs": [
    {
     "data": {
      "text/plain": [
       "<AxesSubplot:>"
      ]
     },
     "execution_count": 21,
     "metadata": {},
     "output_type": "execute_result"
    },
    {
     "data": {
      "image/png": "[encoded data removed]",
      "text/plain": [
       "<Figure size 720x720 with 1 Axes>"
      ]
     },
     "metadata": {
      "needs_background": "light"
     },
     "output_type": "display_data"
    }
   ],
   "source": [
    "df_count.plot.bar(figsize = (10,10))"
   ]
  },
  {
   "cell_type": "code",
   "execution_count": 22,
   "id": "a80c441c",
   "metadata": {},
   "outputs": [],
   "source": [
    "from datetime import datetime\n",
    "\n",
    "df_raw['구매일'] = pd.to_datetime(df_raw['구매일'])\n",
    "df_raw['배송시작일'] = pd.to_datetime(df_raw['배송시작일'])\n",
    "df_raw['배송완료일'] = pd.to_datetime(df_raw['배송완료일'])"
   ]
  },
  {
   "cell_type": "code",
   "execution_count": 23,
   "id": "f9277078",
   "metadata": {},
   "outputs": [],
   "source": [
    "df_raw['구매일_연도'] = df_raw['구매일'].dt.year\n",
    "df_raw['구매일_월'] = df_raw['구매일'].dt.month\n",
    "df_raw['구매일_일'] = df_raw['구매일'].dt.day\n",
    "df_raw['구매일_요일'] = df_raw['구매일'].dt.day_name()"
   ]
  },
  {
   "cell_type": "code",
   "execution_count": 24,
   "id": "ff910769",
   "metadata": {
    "scrolled": true
   },
   "outputs": [
    {
     "data": {
      "text/html": [
       "<div>\n",
       "<style scoped>\n",
       "    .dataframe tbody tr th:only-of-type {\n",
       "        vertical-align: middle;\n",
       "    }\n",
       "\n",
       "    .dataframe tbody tr th {\n",
       "        vertical-align: top;\n",
       "    }\n",
       "\n",
       "    .dataframe thead th {\n",
       "        text-align: right;\n",
       "    }\n",
       "</style>\n",
       "<table border=\"1\" class=\"dataframe\">\n",
       "  <thead>\n",
       "    <tr style=\"text-align: right;\">\n",
       "      <th></th>\n",
       "      <th>주문번호</th>\n",
       "      <th>구매일</th>\n",
       "      <th>배송시작일</th>\n",
       "      <th>배송완료일</th>\n",
       "      <th>구매시월령(수정)</th>\n",
       "      <th>고객번호</th>\n",
       "      <th>구매금액</th>\n",
       "      <th>결제금액</th>\n",
       "      <th>물품대분류</th>\n",
       "      <th>상품명</th>\n",
       "      <th>Age_Range</th>\n",
       "      <th>구매일_연도</th>\n",
       "      <th>구매일_월</th>\n",
       "      <th>구매일_일</th>\n",
       "      <th>구매일_요일</th>\n",
       "    </tr>\n",
       "  </thead>\n",
       "  <tbody>\n",
       "    <tr>\n",
       "      <th>0</th>\n",
       "      <td>201905052342970</td>\n",
       "      <td>2019-05-06</td>\n",
       "      <td>2019-05-07</td>\n",
       "      <td>2019-05-11</td>\n",
       "      <td>4.0</td>\n",
       "      <td>201812310749735</td>\n",
       "      <td>25800.0</td>\n",
       "      <td>16314.0</td>\n",
       "      <td>더블하트</td>\n",
       "      <td>더블하트 SofTouch 모유실감 젖꼭지 M (2입)</td>\n",
       "      <td>영아</td>\n",
       "      <td>2019</td>\n",
       "      <td>5</td>\n",
       "      <td>6</td>\n",
       "      <td>Monday</td>\n",
       "    </tr>\n",
       "    <tr>\n",
       "      <th>1</th>\n",
       "      <td>202002203424450</td>\n",
       "      <td>2020-02-20</td>\n",
       "      <td>2020-02-21</td>\n",
       "      <td>2020-02-23</td>\n",
       "      <td>14.0</td>\n",
       "      <td>201812310749735</td>\n",
       "      <td>51200.0</td>\n",
       "      <td>37769.0</td>\n",
       "      <td>팬티</td>\n",
       "      <td>NEW 하기스 맥스드라이 팬티 5단계 남아 80매(팬티형)</td>\n",
       "      <td>유아</td>\n",
       "      <td>2020</td>\n",
       "      <td>2</td>\n",
       "      <td>20</td>\n",
       "      <td>Thursday</td>\n",
       "    </tr>\n",
       "    <tr>\n",
       "      <th>2</th>\n",
       "      <td>201902282095385</td>\n",
       "      <td>2019-02-28</td>\n",
       "      <td>2019-03-01</td>\n",
       "      <td>2019-03-05</td>\n",
       "      <td>NaN</td>\n",
       "      <td>201812310749770</td>\n",
       "      <td>5610.0</td>\n",
       "      <td>3800.0</td>\n",
       "      <td>FMC</td>\n",
       "      <td>크리넥스？키즈용？화장지？3겹？27m 8롤</td>\n",
       "      <td>Nan-Specified</td>\n",
       "      <td>2019</td>\n",
       "      <td>2</td>\n",
       "      <td>28</td>\n",
       "      <td>Thursday</td>\n",
       "    </tr>\n",
       "    <tr>\n",
       "      <th>3</th>\n",
       "      <td>201905132367003</td>\n",
       "      <td>2019-05-13</td>\n",
       "      <td>2019-05-14</td>\n",
       "      <td>2019-05-16</td>\n",
       "      <td>66.0</td>\n",
       "      <td>201812310749771</td>\n",
       "      <td>59520.0</td>\n",
       "      <td>47922.0</td>\n",
       "      <td>기저귀</td>\n",
       "      <td>하기스 네이처메이드 밤부 3단계 여아 144매(밴드형)</td>\n",
       "      <td>유아</td>\n",
       "      <td>2019</td>\n",
       "      <td>5</td>\n",
       "      <td>13</td>\n",
       "      <td>Monday</td>\n",
       "    </tr>\n",
       "    <tr>\n",
       "      <th>4</th>\n",
       "      <td>201905092356247</td>\n",
       "      <td>2019-05-10</td>\n",
       "      <td>2019-05-11</td>\n",
       "      <td>2019-05-13</td>\n",
       "      <td>5.0</td>\n",
       "      <td>201812310749774</td>\n",
       "      <td>50640.0</td>\n",
       "      <td>39788.0</td>\n",
       "      <td>기저귀</td>\n",
       "      <td>하기스 에어솔솔 썸머기저귀 3단계 공용 144매(밴드형)</td>\n",
       "      <td>영아</td>\n",
       "      <td>2019</td>\n",
       "      <td>5</td>\n",
       "      <td>10</td>\n",
       "      <td>Friday</td>\n",
       "    </tr>\n",
       "  </tbody>\n",
       "</table>\n",
       "</div>"
      ],
      "text/plain": [
       "              주문번호        구매일      배송시작일      배송완료일  구매시월령(수정)  \\\n",
       "0  201905052342970 2019-05-06 2019-05-07 2019-05-11        4.0   \n",
       "1  202002203424450 2020-02-20 2020-02-21 2020-02-23       14.0   \n",
       "2  201902282095385 2019-02-28 2019-03-01 2019-03-05        NaN   \n",
       "3  201905132367003 2019-05-13 2019-05-14 2019-05-16       66.0   \n",
       "4  201905092356247 2019-05-10 2019-05-11 2019-05-13        5.0   \n",
       "\n",
       "              고객번호     구매금액     결제금액 물품대분류                               상품명  \\\n",
       "0  201812310749735  25800.0  16314.0  더블하트     더블하트 SofTouch 모유실감 젖꼭지 M (2입)   \n",
       "1  201812310749735  51200.0  37769.0    팬티  NEW 하기스 맥스드라이 팬티 5단계 남아 80매(팬티형)   \n",
       "2  201812310749770   5610.0   3800.0   FMC            크리넥스？키즈용？화장지？3겹？27m 8롤   \n",
       "3  201812310749771  59520.0  47922.0   기저귀    하기스 네이처메이드 밤부 3단계 여아 144매(밴드형)   \n",
       "4  201812310749774  50640.0  39788.0   기저귀   하기스 에어솔솔 썸머기저귀 3단계 공용 144매(밴드형)   \n",
       "\n",
       "       Age_Range  구매일_연도  구매일_월  구매일_일    구매일_요일  \n",
       "0             영아    2019      5      6    Monday  \n",
       "1             유아    2020      2     20  Thursday  \n",
       "2  Nan-Specified    2019      2     28  Thursday  \n",
       "3             유아    2019      5     13    Monday  \n",
       "4             영아    2019      5     10    Friday  "
      ]
     },
     "execution_count": 24,
     "metadata": {},
     "output_type": "execute_result"
    }
   ],
   "source": [
    "df_raw.head()"
   ]
  },
  {
   "cell_type": "code",
   "execution_count": 101,
   "id": "0a0ccee3",
   "metadata": {},
   "outputs": [
    {
     "name": "stdout",
     "output_type": "stream",
     "text": [
      "<class 'pandas.core.frame.DataFrame'>\n",
      "Int64Index: 199998 entries, 0 to 199998\n",
      "Data columns (total 18 columns):\n",
      " #   Column     Non-Null Count   Dtype          \n",
      "---  ------     --------------   -----          \n",
      " 0   주문번호       199998 non-null  object         \n",
      " 1   구매일        199998 non-null  datetime64[ns] \n",
      " 2   배송시작일      199998 non-null  datetime64[ns] \n",
      " 3   배송완료일      199998 non-null  datetime64[ns] \n",
      " 4   구매시월령(수정)  168141 non-null  float64        \n",
      " 5   고객번호       199998 non-null  object         \n",
      " 6   구매금액       195833 non-null  float64        \n",
      " 7   결제금액       194624 non-null  float64        \n",
      " 8   물품대분류      199998 non-null  object         \n",
      " 9   상품명        199998 non-null  object         \n",
      " 10  Age_Range  199998 non-null  object         \n",
      " 11  구매일_연도     199998 non-null  int64          \n",
      " 12  구매일_월      199998 non-null  int64          \n",
      " 13  구매일_일      199998 non-null  int64          \n",
      " 14  구매일_요일     199998 non-null  object         \n",
      " 15  할인금액       194441 non-null  float64        \n",
      " 16  배송기간       199998 non-null  timedelta64[ns]\n",
      " 17  배송준비기간     199998 non-null  timedelta64[ns]\n",
      "dtypes: datetime64[ns](3), float64(4), int64(3), object(6), timedelta64[ns](2)\n",
      "memory usage: 29.0+ MB\n"
     ]
    }
   ],
   "source": [
    "df_raw.info()"
   ]
  },
  {
   "cell_type": "markdown",
   "id": "e0fa7156",
   "metadata": {},
   "source": [
    "### 구매일 시각화"
   ]
  },
  {
   "cell_type": "code",
   "execution_count": 25,
   "id": "d4ca3dfe",
   "metadata": {},
   "outputs": [
    {
     "data": {
      "text/plain": [
       "2019    137536\n",
       "2020     62462\n",
       "Name: 구매일_연도, dtype: int64"
      ]
     },
     "execution_count": 25,
     "metadata": {},
     "output_type": "execute_result"
    }
   ],
   "source": [
    "df_year = df_raw['구매일_연도'].value_counts()\n",
    "df_year"
   ]
  },
  {
   "cell_type": "code",
   "execution_count": 26,
   "id": "141f1340",
   "metadata": {},
   "outputs": [
    {
     "data": {
      "text/plain": [
       "<AxesSubplot:xlabel='count', ylabel='구매일_연도'>"
      ]
     },
     "execution_count": 26,
     "metadata": {},
     "output_type": "execute_result"
    },
    {
     "data": {
      "image/png": "[encoded data removed]",
      "text/plain": [
       "<Figure size 432x288 with 1 Axes>"
      ]
     },
     "metadata": {
      "needs_background": "light"
     },
     "output_type": "display_data"
    }
   ],
   "source": [
    "sns.countplot(y = '구매일_연도', data = df_raw)"
   ]
  },
  {
   "cell_type": "markdown",
   "id": "bd049a16",
   "metadata": {},
   "source": [
    "#### 구매일_연도 - 총 결제금액"
   ]
  },
  {
   "cell_type": "code",
   "execution_count": 27,
   "id": "74fe9a75",
   "metadata": {},
   "outputs": [
    {
     "data": {
      "text/html": [
       "<div>\n",
       "<style scoped>\n",
       "    .dataframe tbody tr th:only-of-type {\n",
       "        vertical-align: middle;\n",
       "    }\n",
       "\n",
       "    .dataframe tbody tr th {\n",
       "        vertical-align: top;\n",
       "    }\n",
       "\n",
       "    .dataframe thead th {\n",
       "        text-align: right;\n",
       "    }\n",
       "</style>\n",
       "<table border=\"1\" class=\"dataframe\">\n",
       "  <thead>\n",
       "    <tr style=\"text-align: right;\">\n",
       "      <th></th>\n",
       "      <th>결제금액</th>\n",
       "    </tr>\n",
       "    <tr>\n",
       "      <th>구매일_연도</th>\n",
       "      <th></th>\n",
       "    </tr>\n",
       "  </thead>\n",
       "  <tbody>\n",
       "    <tr>\n",
       "      <th>2019</th>\n",
       "      <td>2.546402e+09</td>\n",
       "    </tr>\n",
       "    <tr>\n",
       "      <th>2020</th>\n",
       "      <td>1.262427e+09</td>\n",
       "    </tr>\n",
       "  </tbody>\n",
       "</table>\n",
       "</div>"
      ],
      "text/plain": [
       "                결제금액\n",
       "구매일_연도              \n",
       "2019    2.546402e+09\n",
       "2020    1.262427e+09"
      ]
     },
     "execution_count": 27,
     "metadata": {},
     "output_type": "execute_result"
    }
   ],
   "source": [
    "df_year_sum = pd.pivot_table(data=df_raw, index = '구매일_연도', values = '결제금액', aggfunc = 'sum')\n",
    "df_year_sum\n",
    "result = df_raw.groupby(['구매일_연도'])['결제금액'].sum()"
   ]
  },
  {
   "cell_type": "code",
   "execution_count": 97,
   "id": "b3a8de63",
   "metadata": {},
   "outputs": [],
   "source": [
    "import pandas as pd\n",
    "\n",
    "# 과학적 표기법 대신 소수점 5자리까지 나타낸다.\n",
    "pd.options.display.float_format = '{:.5f}'.format"
   ]
  },
  {
   "cell_type": "code",
   "execution_count": 94,
   "id": "5707a591",
   "metadata": {},
   "outputs": [
    {
     "data": {
      "text/plain": [
       "구매일_연도\n",
       "2019   2546401763.00000\n",
       "2020   1262427284.00000\n",
       "Name: 결제금액, dtype: float64"
      ]
     },
     "execution_count": 94,
     "metadata": {},
     "output_type": "execute_result"
    }
   ],
   "source": [
    "df_year_sum = df_raw.groupby(['구매일_연도'])['결제금액'].sum()\n",
    "df_year_sum"
   ]
  },
  {
   "cell_type": "code",
   "execution_count": 28,
   "id": "44dd4652",
   "metadata": {},
   "outputs": [
    {
     "data": {
      "text/plain": [
       "<AxesSubplot:xlabel='구매일_연도', ylabel='결제금액'>"
      ]
     },
     "execution_count": 28,
     "metadata": {},
     "output_type": "execute_result"
    },
    {
     "data": {
      "image/png": "[encoded data removed]",
      "text/plain": [
       "<Figure size 720x720 with 1 Axes>"
      ]
     },
     "metadata": {
      "needs_background": "light"
     },
     "output_type": "display_data"
    }
   ],
   "source": [
    "df_year_sum.plot.bar(ylabel = '결제금액', figsize = (10,10))"
   ]
  },
  {
   "cell_type": "code",
   "execution_count": 29,
   "id": "f25de88e",
   "metadata": {},
   "outputs": [
    {
     "data": {
      "text/plain": [
       "7     21808\n",
       "3     19599\n",
       "10    19133\n",
       "2     19001\n",
       "12    18034\n",
       "4     17389\n",
       "1     16355\n",
       "6     15930\n",
       "5     15468\n",
       "8     13978\n",
       "9     12829\n",
       "11    10474\n",
       "Name: 구매일_월, dtype: int64"
      ]
     },
     "execution_count": 29,
     "metadata": {},
     "output_type": "execute_result"
    }
   ],
   "source": [
    "df_month = df_raw['구매일_월'].value_counts()\n",
    "df_month"
   ]
  },
  {
   "cell_type": "code",
   "execution_count": 30,
   "id": "966b0656",
   "metadata": {},
   "outputs": [
    {
     "data": {
      "text/plain": [
       "<AxesSubplot:>"
      ]
     },
     "execution_count": 30,
     "metadata": {},
     "output_type": "execute_result"
    },
    {
     "data": {
      "image/png": "[encoded data removed]",
      "text/plain": [
       "<Figure size 720x720 with 1 Axes>"
      ]
     },
     "metadata": {
      "needs_background": "light"
     },
     "output_type": "display_data"
    }
   ],
   "source": [
    "df_month.sort_index(inplace = True);\n",
    "df_month.plot.bar(figsize = (10,10))"
   ]
  },
  {
   "cell_type": "markdown",
   "id": "98efe2d4",
   "metadata": {},
   "source": [
    "### 구매일_연도.월 - 총결제금액"
   ]
  },
  {
   "cell_type": "code",
   "execution_count": 31,
   "id": "20f74e54",
   "metadata": {},
   "outputs": [],
   "source": [
    "result = df_raw.groupby(['구매일_연도','구매일_월'])['결제금액'].sum()"
   ]
  },
  {
   "cell_type": "code",
   "execution_count": 32,
   "id": "621754a2",
   "metadata": {},
   "outputs": [
    {
     "data": {
      "text/plain": [
       "구매일_연도  구매일_월\n",
       "2019    1         77753517.0\n",
       "        2        120179635.0\n",
       "        3        146023780.0\n",
       "        4        157010435.0\n",
       "        5        188014838.0\n",
       "        6        206587764.0\n",
       "        7        268666458.0\n",
       "        8        244906298.0\n",
       "        9        239230693.0\n",
       "        10       349324510.0\n",
       "        11       218356202.0\n",
       "        12       330347633.0\n",
       "2020    1        256554455.0\n",
       "        2        243887342.0\n",
       "        3        202072911.0\n",
       "        4        184584919.0\n",
       "        5        130542337.0\n",
       "        6         89075278.0\n",
       "        7        129709810.0\n",
       "        8         26000232.0\n",
       "Name: 결제금액, dtype: float64"
      ]
     },
     "execution_count": 32,
     "metadata": {},
     "output_type": "execute_result"
    }
   ],
   "source": [
    "result"
   ]
  },
  {
   "cell_type": "code",
   "execution_count": 33,
   "id": "9931fb69",
   "metadata": {},
   "outputs": [
    {
     "data": {
      "text/plain": [
       "<AxesSubplot:xlabel='구매일_연도,구매일_월', ylabel='총결제금액'>"
      ]
     },
     "execution_count": 33,
     "metadata": {},
     "output_type": "execute_result"
    },
    {
     "data": {
      "image/png": "[encoded data removed]",
      "text/plain": [
       "<Figure size 1440x720 with 1 Axes>"
      ]
     },
     "metadata": {
      "needs_background": "light"
     },
     "output_type": "display_data"
    }
   ],
   "source": [
    "result.plot.bar(ylabel = '총결제금액',figsize=(20,10))"
   ]
  },
  {
   "cell_type": "code",
   "execution_count": 34,
   "id": "def05b0f",
   "metadata": {},
   "outputs": [
    {
     "data": {
      "text/plain": [
       "21    8107\n",
       "11    8050\n",
       "18    7521\n",
       "30    7517\n",
       "20    7393\n",
       "23    7328\n",
       "1     7290\n",
       "19    7129\n",
       "25    7062\n",
       "17    7029\n",
       "22    6961\n",
       "24    6889\n",
       "29    6692\n",
       "28    6671\n",
       "16    6668\n",
       "26    6299\n",
       "15    6187\n",
       "27    6081\n",
       "2     6002\n",
       "7     5999\n",
       "9     5830\n",
       "10    5823\n",
       "12    5799\n",
       "31    5790\n",
       "3     5741\n",
       "8     5696\n",
       "13    5544\n",
       "14    5490\n",
       "4     5326\n",
       "6     5155\n",
       "5     4929\n",
       "Name: 구매일_일, dtype: int64"
      ]
     },
     "execution_count": 34,
     "metadata": {},
     "output_type": "execute_result"
    }
   ],
   "source": [
    "df_day = df_raw['구매일_일'].value_counts()\n",
    "df_day"
   ]
  },
  {
   "cell_type": "code",
   "execution_count": 35,
   "id": "33d2a521",
   "metadata": {},
   "outputs": [
    {
     "data": {
      "text/plain": [
       "<AxesSubplot:>"
      ]
     },
     "execution_count": 35,
     "metadata": {},
     "output_type": "execute_result"
    },
    {
     "data": {
      "image/png": "[encoded data removed]",
      "text/plain": [
       "<Figure size 1440x720 with 1 Axes>"
      ]
     },
     "metadata": {
      "needs_background": "light"
     },
     "output_type": "display_data"
    }
   ],
   "source": [
    "df_day.sort_index(inplace = True);\n",
    "df_day.plot(figsize = (20,10))"
   ]
  },
  {
   "cell_type": "code",
   "execution_count": 36,
   "id": "82477014",
   "metadata": {},
   "outputs": [
    {
     "data": {
      "text/plain": [
       "Tuesday      32731\n",
       "Wednesday    32616\n",
       "Thursday     31128\n",
       "Friday       30629\n",
       "Monday       29927\n",
       "Saturday     22331\n",
       "Sunday       20636\n",
       "Name: 구매일_요일, dtype: int64"
      ]
     },
     "execution_count": 36,
     "metadata": {},
     "output_type": "execute_result"
    }
   ],
   "source": [
    "df_weekend = df_raw['구매일_요일'].value_counts()\n",
    "df_weekend"
   ]
  },
  {
   "cell_type": "code",
   "execution_count": 37,
   "id": "6539bdef",
   "metadata": {},
   "outputs": [],
   "source": [
    "df_weekend = df_weekend[['Monday', 'Tuesday', 'Wednesday','Thursday','Friday', 'Saturday','Sunday']]"
   ]
  },
  {
   "cell_type": "code",
   "execution_count": 38,
   "id": "254ecd42",
   "metadata": {},
   "outputs": [
    {
     "data": {
      "text/plain": [
       "<AxesSubplot:>"
      ]
     },
     "execution_count": 38,
     "metadata": {},
     "output_type": "execute_result"
    },
    {
     "data": {
      "image/png": "[encoded data removed]",
      "text/plain": [
       "<Figure size 720x720 with 1 Axes>"
      ]
     },
     "metadata": {
      "needs_background": "light"
     },
     "output_type": "display_data"
    }
   ],
   "source": [
    "df_weekend.plot.bar(color = ['lightslategray','royalblue','cornflowerblue','lightslategray','lightslategray','lightslategray','lightslategray'], figsize = (10,10))\n"
   ]
  },
  {
   "cell_type": "code",
   "execution_count": 57,
   "id": "87e3bb28",
   "metadata": {},
   "outputs": [
    {
     "data": {
      "text/html": [
       "<div>\n",
       "<style scoped>\n",
       "    .dataframe tbody tr th:only-of-type {\n",
       "        vertical-align: middle;\n",
       "    }\n",
       "\n",
       "    .dataframe tbody tr th {\n",
       "        vertical-align: top;\n",
       "    }\n",
       "\n",
       "    .dataframe thead th {\n",
       "        text-align: right;\n",
       "    }\n",
       "</style>\n",
       "<table border=\"1\" class=\"dataframe\">\n",
       "  <thead>\n",
       "    <tr style=\"text-align: right;\">\n",
       "      <th></th>\n",
       "      <th>결제금액</th>\n",
       "    </tr>\n",
       "    <tr>\n",
       "      <th>구매일_요일</th>\n",
       "      <th></th>\n",
       "    </tr>\n",
       "  </thead>\n",
       "  <tbody>\n",
       "    <tr>\n",
       "      <th>Friday</th>\n",
       "      <td>581855830.0</td>\n",
       "    </tr>\n",
       "    <tr>\n",
       "      <th>Monday</th>\n",
       "      <td>592630147.0</td>\n",
       "    </tr>\n",
       "    <tr>\n",
       "      <th>Saturday</th>\n",
       "      <td>416922736.0</td>\n",
       "    </tr>\n",
       "    <tr>\n",
       "      <th>Sunday</th>\n",
       "      <td>394788151.0</td>\n",
       "    </tr>\n",
       "    <tr>\n",
       "      <th>Thursday</th>\n",
       "      <td>587782464.0</td>\n",
       "    </tr>\n",
       "    <tr>\n",
       "      <th>Tuesday</th>\n",
       "      <td>621723449.0</td>\n",
       "    </tr>\n",
       "    <tr>\n",
       "      <th>Wednesday</th>\n",
       "      <td>613126270.0</td>\n",
       "    </tr>\n",
       "  </tbody>\n",
       "</table>\n",
       "</div>"
      ],
      "text/plain": [
       "                  결제금액\n",
       "구매일_요일                \n",
       "Friday     581855830.0\n",
       "Monday     592630147.0\n",
       "Saturday   416922736.0\n",
       "Sunday     394788151.0\n",
       "Thursday   587782464.0\n",
       "Tuesday    621723449.0\n",
       "Wednesday  613126270.0"
      ]
     },
     "execution_count": 57,
     "metadata": {},
     "output_type": "execute_result"
    }
   ],
   "source": [
    "# 고객들이 가장 많이 결제한 요일\n",
    "df_weekend_sum = pd.pivot_table(data=df_raw, index = '구매일_요일', values = '결제금액', aggfunc = 'sum')\n",
    "df_weekend_sum"
   ]
  },
  {
   "cell_type": "code",
   "execution_count": 72,
   "id": "153064ae",
   "metadata": {},
   "outputs": [],
   "source": [
    "weeks = ['Monday', 'Tuesday', 'Wednesday','Thursday','Friday', 'Saturday','Sunday']"
   ]
  },
  {
   "cell_type": "code",
   "execution_count": 75,
   "id": "065e2964",
   "metadata": {},
   "outputs": [
    {
     "data": {
      "text/html": [
       "<div>\n",
       "<style scoped>\n",
       "    .dataframe tbody tr th:only-of-type {\n",
       "        vertical-align: middle;\n",
       "    }\n",
       "\n",
       "    .dataframe tbody tr th {\n",
       "        vertical-align: top;\n",
       "    }\n",
       "\n",
       "    .dataframe thead th {\n",
       "        text-align: right;\n",
       "    }\n",
       "</style>\n",
       "<table border=\"1\" class=\"dataframe\">\n",
       "  <thead>\n",
       "    <tr style=\"text-align: right;\">\n",
       "      <th></th>\n",
       "      <th>결제금액</th>\n",
       "    </tr>\n",
       "  </thead>\n",
       "  <tbody>\n",
       "    <tr>\n",
       "      <th>Monday</th>\n",
       "      <td>592630147.0</td>\n",
       "    </tr>\n",
       "    <tr>\n",
       "      <th>Tuesday</th>\n",
       "      <td>621723449.0</td>\n",
       "    </tr>\n",
       "    <tr>\n",
       "      <th>Wednesday</th>\n",
       "      <td>613126270.0</td>\n",
       "    </tr>\n",
       "    <tr>\n",
       "      <th>Thursday</th>\n",
       "      <td>587782464.0</td>\n",
       "    </tr>\n",
       "    <tr>\n",
       "      <th>Friday</th>\n",
       "      <td>581855830.0</td>\n",
       "    </tr>\n",
       "    <tr>\n",
       "      <th>Saturday</th>\n",
       "      <td>416922736.0</td>\n",
       "    </tr>\n",
       "    <tr>\n",
       "      <th>Sunday</th>\n",
       "      <td>394788151.0</td>\n",
       "    </tr>\n",
       "  </tbody>\n",
       "</table>\n",
       "</div>"
      ],
      "text/plain": [
       "                  결제금액\n",
       "Monday     592630147.0\n",
       "Tuesday    621723449.0\n",
       "Wednesday  613126270.0\n",
       "Thursday   587782464.0\n",
       "Friday     581855830.0\n",
       "Saturday   416922736.0\n",
       "Sunday     394788151.0"
      ]
     },
     "execution_count": 75,
     "metadata": {},
     "output_type": "execute_result"
    }
   ],
   "source": [
    "df_weekend_sum = df_weekend_sum.agg(weeks)\n",
    "df_weekend_sum"
   ]
  },
  {
   "cell_type": "code",
   "execution_count": 91,
   "id": "29673379",
   "metadata": {},
   "outputs": [
    {
     "data": {
      "image/png": "[encoded data removed]",
      "text/plain": [
       "<Figure size 432x288 with 1 Axes>"
      ]
     },
     "metadata": {
      "needs_background": "light"
     },
     "output_type": "display_data"
    },
    {
     "data": {
      "text/plain": [
       "<Figure size 2880x2880 with 0 Axes>"
      ]
     },
     "metadata": {},
     "output_type": "display_data"
    }
   ],
   "source": [
    "import numpy as np\n",
    "x = np.arange(7)\n",
    "weeks= weeks = ['Monday', 'Tuesday', 'Wednesday','Thursday','Friday', 'Saturday','Sunday']\n",
    "values = [592630147.0, 621723449.0, 613126270.0, 587782464.0, 581855830.0, 416922736.0, 394788151.0]\n",
    "colors = ['rosybrown','indianred','lightcoral','rosybrown','rosybrown','rosybrown','rosybrown']\n",
    "# plt.bar(x, values, width=0.4)\n",
    "# plt.bar(x, values, width=0.6)\n",
    "plt.bar(x, values, width=0.8)\n",
    "# plt.bar(x, values, width=1.0)\n",
    "\n",
    "plt.bar(x, values, color=colors)\n",
    "plt.xticks(x, weeks)\n",
    "plt.figure(figsize = (40,40))\n",
    "plt.show()"
   ]
  },
  {
   "cell_type": "code",
   "execution_count": 79,
   "id": "ecfb54e7",
   "metadata": {},
   "outputs": [
    {
     "data": {
      "text/plain": [
       "<AxesSubplot:ylabel='결제금액'>"
      ]
     },
     "execution_count": 79,
     "metadata": {},
     "output_type": "execute_result"
    },
    {
     "data": {
      "image/png": "[encoded data removed]",
      "text/plain": [
       "<Figure size 720x720 with 1 Axes>"
      ]
     },
     "metadata": {
      "needs_background": "light"
     },
     "output_type": "display_data"
    }
   ],
   "source": [
    "colors = ['rosybrown','indianred','lightcoral','rosybrown','rosybrown','rosybrown','rosybrown']\n",
    "df_weekend_sum.plot.bar(ylabel = '결제금액', color = colors, figsize = (10,10))\n"
   ]
  },
  {
   "cell_type": "code",
   "execution_count": 41,
   "id": "89b64102",
   "metadata": {},
   "outputs": [],
   "source": [
    "## 상품대분류별 결제금액"
   ]
  },
  {
   "cell_type": "code",
   "execution_count": 98,
   "id": "ef7d450c",
   "metadata": {},
   "outputs": [
    {
     "data": {
      "text/html": [
       "<div>\n",
       "<style scoped>\n",
       "    .dataframe tbody tr th:only-of-type {\n",
       "        vertical-align: middle;\n",
       "    }\n",
       "\n",
       "    .dataframe tbody tr th {\n",
       "        vertical-align: top;\n",
       "    }\n",
       "\n",
       "    .dataframe thead th {\n",
       "        text-align: right;\n",
       "    }\n",
       "</style>\n",
       "<table border=\"1\" class=\"dataframe\">\n",
       "  <thead>\n",
       "    <tr style=\"text-align: right;\">\n",
       "      <th></th>\n",
       "      <th>결제금액</th>\n",
       "    </tr>\n",
       "    <tr>\n",
       "      <th>물품대분류</th>\n",
       "      <th></th>\n",
       "    </tr>\n",
       "  </thead>\n",
       "  <tbody>\n",
       "    <tr>\n",
       "      <th>FC</th>\n",
       "      <td>92277980.00000</td>\n",
       "    </tr>\n",
       "    <tr>\n",
       "      <th>FMC</th>\n",
       "      <td>294488235.00000</td>\n",
       "    </tr>\n",
       "    <tr>\n",
       "      <th>SKC</th>\n",
       "      <td>115949459.00000</td>\n",
       "    </tr>\n",
       "    <tr>\n",
       "      <th>SrC</th>\n",
       "      <td>212480.00000</td>\n",
       "    </tr>\n",
       "    <tr>\n",
       "      <th>기저귀</th>\n",
       "      <td>1322591798.00000</td>\n",
       "    </tr>\n",
       "    <tr>\n",
       "      <th>기타</th>\n",
       "      <td>112996163.00000</td>\n",
       "    </tr>\n",
       "    <tr>\n",
       "      <th>더블하트</th>\n",
       "      <td>613253051.00000</td>\n",
       "    </tr>\n",
       "    <tr>\n",
       "      <th>물티슈</th>\n",
       "      <td>131943441.00000</td>\n",
       "    </tr>\n",
       "    <tr>\n",
       "      <th>체험팩</th>\n",
       "      <td>180344861.00000</td>\n",
       "    </tr>\n",
       "    <tr>\n",
       "      <th>팬티</th>\n",
       "      <td>944771579.00000</td>\n",
       "    </tr>\n",
       "  </tbody>\n",
       "</table>\n",
       "</div>"
      ],
      "text/plain": [
       "                  결제금액\n",
       "물품대분류                 \n",
       "FC      92277980.00000\n",
       "FMC    294488235.00000\n",
       "SKC    115949459.00000\n",
       "SrC       212480.00000\n",
       "기저귀   1322591798.00000\n",
       "기타     112996163.00000\n",
       "더블하트   613253051.00000\n",
       "물티슈    131943441.00000\n",
       "체험팩    180344861.00000\n",
       "팬티     944771579.00000"
      ]
     },
     "execution_count": 98,
     "metadata": {},
     "output_type": "execute_result"
    }
   ],
   "source": [
    "df_clas_sum = pd.pivot_table(data=df_raw, index = '물품대분류', values = '결제금액', aggfunc = 'sum')\n",
    "df_clas_sum"
   ]
  },
  {
   "cell_type": "code",
   "execution_count": 99,
   "id": "fb54740b",
   "metadata": {},
   "outputs": [],
   "source": [
    "df_clas_sum=df_clas_sum.sort_values('결제금액', ascending = False)"
   ]
  },
  {
   "cell_type": "code",
   "execution_count": 100,
   "id": "bfcf9db5",
   "metadata": {},
   "outputs": [
    {
     "data": {
      "text/plain": [
       "<AxesSubplot:xlabel='물품대분류'>"
      ]
     },
     "execution_count": 100,
     "metadata": {},
     "output_type": "execute_result"
    },
    {
     "data": {
      "image/png": "[encoded data removed]",
      "text/plain": [
       "<Figure size 720x720 with 1 Axes>"
      ]
     },
     "metadata": {
      "needs_background": "light"
     },
     "output_type": "display_data"
    }
   ],
   "source": [
    "df_clas_sum.plot.bar(figsize = (10,10))"
   ]
  },
  {
   "cell_type": "code",
   "execution_count": 176,
   "id": "8836c482",
   "metadata": {},
   "outputs": [
    {
     "data": {
      "text/plain": [
       "<AxesSubplot:ylabel='None'>"
      ]
     },
     "execution_count": 176,
     "metadata": {},
     "output_type": "execute_result"
    },
    {
     "data": {
      "image/png": "[encoded data removed]",
      "text/plain": [
       "<Figure size 288x288 with 1 Axes>"
      ]
     },
     "metadata": {},
     "output_type": "display_data"
    }
   ],
   "source": [
    "# df_count = df_raw.groupby([\"물품대분류\", \"결제금액\"]).size()\n",
    "# df_count.plot.pie(y = '결제금액', autopct = \"%.1f%%\", figsize = (4,4))"
   ]
  },
  {
   "cell_type": "markdown",
   "id": "7b312cb6",
   "metadata": {},
   "source": [
    "## 할인금액"
   ]
  },
  {
   "cell_type": "code",
   "execution_count": 44,
   "id": "78e7c8fa",
   "metadata": {},
   "outputs": [
    {
     "data": {
      "text/html": [
       "<div>\n",
       "<style scoped>\n",
       "    .dataframe tbody tr th:only-of-type {\n",
       "        vertical-align: middle;\n",
       "    }\n",
       "\n",
       "    .dataframe tbody tr th {\n",
       "        vertical-align: top;\n",
       "    }\n",
       "\n",
       "    .dataframe thead th {\n",
       "        text-align: right;\n",
       "    }\n",
       "</style>\n",
       "<table border=\"1\" class=\"dataframe\">\n",
       "  <thead>\n",
       "    <tr style=\"text-align: right;\">\n",
       "      <th></th>\n",
       "      <th>주문번호</th>\n",
       "      <th>구매일</th>\n",
       "      <th>배송시작일</th>\n",
       "      <th>배송완료일</th>\n",
       "      <th>구매시월령(수정)</th>\n",
       "      <th>고객번호</th>\n",
       "      <th>구매금액</th>\n",
       "      <th>결제금액</th>\n",
       "      <th>물품대분류</th>\n",
       "      <th>상품명</th>\n",
       "      <th>Age_Range</th>\n",
       "      <th>구매일_연도</th>\n",
       "      <th>구매일_월</th>\n",
       "      <th>구매일_일</th>\n",
       "      <th>구매일_요일</th>\n",
       "      <th>할인금액</th>\n",
       "    </tr>\n",
       "  </thead>\n",
       "  <tbody>\n",
       "    <tr>\n",
       "      <th>0</th>\n",
       "      <td>201905052342970</td>\n",
       "      <td>2019-05-06</td>\n",
       "      <td>2019-05-07</td>\n",
       "      <td>2019-05-11</td>\n",
       "      <td>4.0</td>\n",
       "      <td>201812310749735</td>\n",
       "      <td>25800.0</td>\n",
       "      <td>16314.0</td>\n",
       "      <td>더블하트</td>\n",
       "      <td>더블하트 SofTouch 모유실감 젖꼭지 M (2입)</td>\n",
       "      <td>영아</td>\n",
       "      <td>2019</td>\n",
       "      <td>5</td>\n",
       "      <td>6</td>\n",
       "      <td>Monday</td>\n",
       "      <td>9486.0</td>\n",
       "    </tr>\n",
       "    <tr>\n",
       "      <th>1</th>\n",
       "      <td>202002203424450</td>\n",
       "      <td>2020-02-20</td>\n",
       "      <td>2020-02-21</td>\n",
       "      <td>2020-02-23</td>\n",
       "      <td>14.0</td>\n",
       "      <td>201812310749735</td>\n",
       "      <td>51200.0</td>\n",
       "      <td>37769.0</td>\n",
       "      <td>팬티</td>\n",
       "      <td>NEW 하기스 맥스드라이 팬티 5단계 남아 80매(팬티형)</td>\n",
       "      <td>유아</td>\n",
       "      <td>2020</td>\n",
       "      <td>2</td>\n",
       "      <td>20</td>\n",
       "      <td>Thursday</td>\n",
       "      <td>13431.0</td>\n",
       "    </tr>\n",
       "    <tr>\n",
       "      <th>2</th>\n",
       "      <td>201902282095385</td>\n",
       "      <td>2019-02-28</td>\n",
       "      <td>2019-03-01</td>\n",
       "      <td>2019-03-05</td>\n",
       "      <td>NaN</td>\n",
       "      <td>201812310749770</td>\n",
       "      <td>5610.0</td>\n",
       "      <td>3800.0</td>\n",
       "      <td>FMC</td>\n",
       "      <td>크리넥스？키즈용？화장지？3겹？27m 8롤</td>\n",
       "      <td>Nan-Specified</td>\n",
       "      <td>2019</td>\n",
       "      <td>2</td>\n",
       "      <td>28</td>\n",
       "      <td>Thursday</td>\n",
       "      <td>1810.0</td>\n",
       "    </tr>\n",
       "    <tr>\n",
       "      <th>3</th>\n",
       "      <td>201905132367003</td>\n",
       "      <td>2019-05-13</td>\n",
       "      <td>2019-05-14</td>\n",
       "      <td>2019-05-16</td>\n",
       "      <td>66.0</td>\n",
       "      <td>201812310749771</td>\n",
       "      <td>59520.0</td>\n",
       "      <td>47922.0</td>\n",
       "      <td>기저귀</td>\n",
       "      <td>하기스 네이처메이드 밤부 3단계 여아 144매(밴드형)</td>\n",
       "      <td>유아</td>\n",
       "      <td>2019</td>\n",
       "      <td>5</td>\n",
       "      <td>13</td>\n",
       "      <td>Monday</td>\n",
       "      <td>11598.0</td>\n",
       "    </tr>\n",
       "    <tr>\n",
       "      <th>4</th>\n",
       "      <td>201905092356247</td>\n",
       "      <td>2019-05-10</td>\n",
       "      <td>2019-05-11</td>\n",
       "      <td>2019-05-13</td>\n",
       "      <td>5.0</td>\n",
       "      <td>201812310749774</td>\n",
       "      <td>50640.0</td>\n",
       "      <td>39788.0</td>\n",
       "      <td>기저귀</td>\n",
       "      <td>하기스 에어솔솔 썸머기저귀 3단계 공용 144매(밴드형)</td>\n",
       "      <td>영아</td>\n",
       "      <td>2019</td>\n",
       "      <td>5</td>\n",
       "      <td>10</td>\n",
       "      <td>Friday</td>\n",
       "      <td>10852.0</td>\n",
       "    </tr>\n",
       "  </tbody>\n",
       "</table>\n",
       "</div>"
      ],
      "text/plain": [
       "              주문번호        구매일      배송시작일      배송완료일  구매시월령(수정)  \\\n",
       "0  201905052342970 2019-05-06 2019-05-07 2019-05-11        4.0   \n",
       "1  202002203424450 2020-02-20 2020-02-21 2020-02-23       14.0   \n",
       "2  201902282095385 2019-02-28 2019-03-01 2019-03-05        NaN   \n",
       "3  201905132367003 2019-05-13 2019-05-14 2019-05-16       66.0   \n",
       "4  201905092356247 2019-05-10 2019-05-11 2019-05-13        5.0   \n",
       "\n",
       "              고객번호     구매금액     결제금액 물품대분류                               상품명  \\\n",
       "0  201812310749735  25800.0  16314.0  더블하트     더블하트 SofTouch 모유실감 젖꼭지 M (2입)   \n",
       "1  201812310749735  51200.0  37769.0    팬티  NEW 하기스 맥스드라이 팬티 5단계 남아 80매(팬티형)   \n",
       "2  201812310749770   5610.0   3800.0   FMC            크리넥스？키즈용？화장지？3겹？27m 8롤   \n",
       "3  201812310749771  59520.0  47922.0   기저귀    하기스 네이처메이드 밤부 3단계 여아 144매(밴드형)   \n",
       "4  201812310749774  50640.0  39788.0   기저귀   하기스 에어솔솔 썸머기저귀 3단계 공용 144매(밴드형)   \n",
       "\n",
       "       Age_Range  구매일_연도  구매일_월  구매일_일    구매일_요일     할인금액  \n",
       "0             영아    2019      5      6    Monday   9486.0  \n",
       "1             유아    2020      2     20  Thursday  13431.0  \n",
       "2  Nan-Specified    2019      2     28  Thursday   1810.0  \n",
       "3             유아    2019      5     13    Monday  11598.0  \n",
       "4             영아    2019      5     10    Friday  10852.0  "
      ]
     },
     "execution_count": 44,
     "metadata": {},
     "output_type": "execute_result"
    }
   ],
   "source": [
    "df_raw['할인금액'] = df_raw['구매금액'] - df_raw['결제금액']\n",
    "df_raw.head()"
   ]
  },
  {
   "cell_type": "code",
   "execution_count": 45,
   "id": "6248caaa",
   "metadata": {},
   "outputs": [
    {
     "data": {
      "text/html": [
       "<div>\n",
       "<style scoped>\n",
       "    .dataframe tbody tr th:only-of-type {\n",
       "        vertical-align: middle;\n",
       "    }\n",
       "\n",
       "    .dataframe tbody tr th {\n",
       "        vertical-align: top;\n",
       "    }\n",
       "\n",
       "    .dataframe thead th {\n",
       "        text-align: right;\n",
       "    }\n",
       "</style>\n",
       "<table border=\"1\" class=\"dataframe\">\n",
       "  <thead>\n",
       "    <tr style=\"text-align: right;\">\n",
       "      <th></th>\n",
       "      <th>구매시월령(수정)</th>\n",
       "      <th>구매금액</th>\n",
       "      <th>결제금액</th>\n",
       "      <th>구매일_연도</th>\n",
       "      <th>구매일_월</th>\n",
       "      <th>구매일_일</th>\n",
       "      <th>할인금액</th>\n",
       "    </tr>\n",
       "  </thead>\n",
       "  <tbody>\n",
       "    <tr>\n",
       "      <th>count</th>\n",
       "      <td>168141.000000</td>\n",
       "      <td>195833.000000</td>\n",
       "      <td>194624.000000</td>\n",
       "      <td>199998.000000</td>\n",
       "      <td>199998.000000</td>\n",
       "      <td>199998.000000</td>\n",
       "      <td>194441.000000</td>\n",
       "    </tr>\n",
       "    <tr>\n",
       "      <th>mean</th>\n",
       "      <td>14.845475</td>\n",
       "      <td>28022.113689</td>\n",
       "      <td>19570.191996</td>\n",
       "      <td>2019.312313</td>\n",
       "      <td>6.292678</td>\n",
       "      <td>16.520355</td>\n",
       "      <td>7945.803673</td>\n",
       "    </tr>\n",
       "    <tr>\n",
       "      <th>std</th>\n",
       "      <td>38.521429</td>\n",
       "      <td>24981.985162</td>\n",
       "      <td>16822.352826</td>\n",
       "      <td>0.463438</td>\n",
       "      <td>3.440634</td>\n",
       "      <td>8.833974</td>\n",
       "      <td>8692.406776</td>\n",
       "    </tr>\n",
       "    <tr>\n",
       "      <th>min</th>\n",
       "      <td>-10.000000</td>\n",
       "      <td>0.000000</td>\n",
       "      <td>0.000000</td>\n",
       "      <td>2019.000000</td>\n",
       "      <td>1.000000</td>\n",
       "      <td>1.000000</td>\n",
       "      <td>0.000000</td>\n",
       "    </tr>\n",
       "    <tr>\n",
       "      <th>25%</th>\n",
       "      <td>2.000000</td>\n",
       "      <td>7280.000000</td>\n",
       "      <td>5841.000000</td>\n",
       "      <td>2019.000000</td>\n",
       "      <td>3.000000</td>\n",
       "      <td>9.000000</td>\n",
       "      <td>1209.000000</td>\n",
       "    </tr>\n",
       "    <tr>\n",
       "      <th>50%</th>\n",
       "      <td>6.000000</td>\n",
       "      <td>16900.000000</td>\n",
       "      <td>12276.000000</td>\n",
       "      <td>2019.000000</td>\n",
       "      <td>6.000000</td>\n",
       "      <td>17.000000</td>\n",
       "      <td>4575.000000</td>\n",
       "    </tr>\n",
       "    <tr>\n",
       "      <th>75%</th>\n",
       "      <td>13.000000</td>\n",
       "      <td>49900.000000</td>\n",
       "      <td>33614.000000</td>\n",
       "      <td>2020.000000</td>\n",
       "      <td>9.000000</td>\n",
       "      <td>24.000000</td>\n",
       "      <td>13700.000000</td>\n",
       "    </tr>\n",
       "    <tr>\n",
       "      <th>max</th>\n",
       "      <td>1439.000000</td>\n",
       "      <td>116200.000000</td>\n",
       "      <td>77995.000000</td>\n",
       "      <td>2020.000000</td>\n",
       "      <td>12.000000</td>\n",
       "      <td>31.000000</td>\n",
       "      <td>92668.000000</td>\n",
       "    </tr>\n",
       "  </tbody>\n",
       "</table>\n",
       "</div>"
      ],
      "text/plain": [
       "           구매시월령(수정)           구매금액           결제금액         구매일_연도  \\\n",
       "count  168141.000000  195833.000000  194624.000000  199998.000000   \n",
       "mean       14.845475   28022.113689   19570.191996    2019.312313   \n",
       "std        38.521429   24981.985162   16822.352826       0.463438   \n",
       "min       -10.000000       0.000000       0.000000    2019.000000   \n",
       "25%         2.000000    7280.000000    5841.000000    2019.000000   \n",
       "50%         6.000000   16900.000000   12276.000000    2019.000000   \n",
       "75%        13.000000   49900.000000   33614.000000    2020.000000   \n",
       "max      1439.000000  116200.000000   77995.000000    2020.000000   \n",
       "\n",
       "               구매일_월          구매일_일           할인금액  \n",
       "count  199998.000000  199998.000000  194441.000000  \n",
       "mean        6.292678      16.520355    7945.803673  \n",
       "std         3.440634       8.833974    8692.406776  \n",
       "min         1.000000       1.000000       0.000000  \n",
       "25%         3.000000       9.000000    1209.000000  \n",
       "50%         6.000000      17.000000    4575.000000  \n",
       "75%         9.000000      24.000000   13700.000000  \n",
       "max        12.000000      31.000000   92668.000000  "
      ]
     },
     "execution_count": 45,
     "metadata": {},
     "output_type": "execute_result"
    }
   ],
   "source": [
    "df_raw.describe()"
   ]
  },
  {
   "cell_type": "markdown",
   "id": "5a2d918c",
   "metadata": {},
   "source": [
    "## 배송기간"
   ]
  },
  {
   "cell_type": "code",
   "execution_count": 46,
   "id": "854cc3b3",
   "metadata": {},
   "outputs": [],
   "source": [
    "df_raw['배송기간'] = df_raw['배송완료일'] - df_raw['배송시작일']"
   ]
  },
  {
   "cell_type": "code",
   "execution_count": 47,
   "id": "5286012b",
   "metadata": {},
   "outputs": [
    {
     "data": {
      "text/plain": [
       "0        4 days\n",
       "1        2 days\n",
       "2        4 days\n",
       "3        2 days\n",
       "4        2 days\n",
       "          ...  \n",
       "199994   2 days\n",
       "199995   2 days\n",
       "199996   3 days\n",
       "199997   4 days\n",
       "199998   2 days\n",
       "Name: 배송기간, Length: 199998, dtype: timedelta64[ns]"
      ]
     },
     "execution_count": 47,
     "metadata": {},
     "output_type": "execute_result"
    }
   ],
   "source": [
    "df_raw['배송기간']"
   ]
  },
  {
   "cell_type": "markdown",
   "id": "b5a1cb2b",
   "metadata": {},
   "source": [
    "## 배송준비기간"
   ]
  },
  {
   "cell_type": "code",
   "execution_count": 48,
   "id": "c35b8e88",
   "metadata": {},
   "outputs": [],
   "source": [
    "df_raw['배송준비기간'] = df_raw['배송시작일'] - df_raw['구매일']"
   ]
  },
  {
   "cell_type": "code",
   "execution_count": 49,
   "id": "8bbbc1f8",
   "metadata": {},
   "outputs": [
    {
     "data": {
      "text/plain": [
       "0        1 days\n",
       "1        1 days\n",
       "2        1 days\n",
       "3        1 days\n",
       "4        1 days\n",
       "          ...  \n",
       "199994   1 days\n",
       "199995   1 days\n",
       "199996   1 days\n",
       "199997   1 days\n",
       "199998   1 days\n",
       "Name: 배송준비기간, Length: 199998, dtype: timedelta64[ns]"
      ]
     },
     "execution_count": 49,
     "metadata": {},
     "output_type": "execute_result"
    }
   ],
   "source": [
    "df_raw['배송준비기간']"
   ]
  },
  {
   "cell_type": "code",
   "execution_count": 50,
   "id": "c671161c",
   "metadata": {},
   "outputs": [
    {
     "data": {
      "text/html": [
       "<div>\n",
       "<style scoped>\n",
       "    .dataframe tbody tr th:only-of-type {\n",
       "        vertical-align: middle;\n",
       "    }\n",
       "\n",
       "    .dataframe tbody tr th {\n",
       "        vertical-align: top;\n",
       "    }\n",
       "\n",
       "    .dataframe thead th {\n",
       "        text-align: right;\n",
       "    }\n",
       "</style>\n",
       "<table border=\"1\" class=\"dataframe\">\n",
       "  <thead>\n",
       "    <tr style=\"text-align: right;\">\n",
       "      <th></th>\n",
       "      <th>주문번호</th>\n",
       "      <th>구매일</th>\n",
       "      <th>배송시작일</th>\n",
       "      <th>배송완료일</th>\n",
       "      <th>구매시월령(수정)</th>\n",
       "      <th>고객번호</th>\n",
       "      <th>구매금액</th>\n",
       "      <th>결제금액</th>\n",
       "      <th>물품대분류</th>\n",
       "      <th>상품명</th>\n",
       "      <th>Age_Range</th>\n",
       "      <th>구매일_연도</th>\n",
       "      <th>구매일_월</th>\n",
       "      <th>구매일_일</th>\n",
       "      <th>구매일_요일</th>\n",
       "      <th>할인금액</th>\n",
       "      <th>배송기간</th>\n",
       "      <th>배송준비기간</th>\n",
       "    </tr>\n",
       "  </thead>\n",
       "  <tbody>\n",
       "    <tr>\n",
       "      <th>0</th>\n",
       "      <td>201905052342970</td>\n",
       "      <td>2019-05-06</td>\n",
       "      <td>2019-05-07</td>\n",
       "      <td>2019-05-11</td>\n",
       "      <td>4.0</td>\n",
       "      <td>201812310749735</td>\n",
       "      <td>25800.0</td>\n",
       "      <td>16314.0</td>\n",
       "      <td>더블하트</td>\n",
       "      <td>더블하트 SofTouch 모유실감 젖꼭지 M (2입)</td>\n",
       "      <td>영아</td>\n",
       "      <td>2019</td>\n",
       "      <td>5</td>\n",
       "      <td>6</td>\n",
       "      <td>Monday</td>\n",
       "      <td>9486.0</td>\n",
       "      <td>4 days</td>\n",
       "      <td>1 days</td>\n",
       "    </tr>\n",
       "    <tr>\n",
       "      <th>1</th>\n",
       "      <td>202002203424450</td>\n",
       "      <td>2020-02-20</td>\n",
       "      <td>2020-02-21</td>\n",
       "      <td>2020-02-23</td>\n",
       "      <td>14.0</td>\n",
       "      <td>201812310749735</td>\n",
       "      <td>51200.0</td>\n",
       "      <td>37769.0</td>\n",
       "      <td>팬티</td>\n",
       "      <td>NEW 하기스 맥스드라이 팬티 5단계 남아 80매(팬티형)</td>\n",
       "      <td>유아</td>\n",
       "      <td>2020</td>\n",
       "      <td>2</td>\n",
       "      <td>20</td>\n",
       "      <td>Thursday</td>\n",
       "      <td>13431.0</td>\n",
       "      <td>2 days</td>\n",
       "      <td>1 days</td>\n",
       "    </tr>\n",
       "    <tr>\n",
       "      <th>2</th>\n",
       "      <td>201902282095385</td>\n",
       "      <td>2019-02-28</td>\n",
       "      <td>2019-03-01</td>\n",
       "      <td>2019-03-05</td>\n",
       "      <td>NaN</td>\n",
       "      <td>201812310749770</td>\n",
       "      <td>5610.0</td>\n",
       "      <td>3800.0</td>\n",
       "      <td>FMC</td>\n",
       "      <td>크리넥스？키즈용？화장지？3겹？27m 8롤</td>\n",
       "      <td>Nan-Specified</td>\n",
       "      <td>2019</td>\n",
       "      <td>2</td>\n",
       "      <td>28</td>\n",
       "      <td>Thursday</td>\n",
       "      <td>1810.0</td>\n",
       "      <td>4 days</td>\n",
       "      <td>1 days</td>\n",
       "    </tr>\n",
       "    <tr>\n",
       "      <th>3</th>\n",
       "      <td>201905132367003</td>\n",
       "      <td>2019-05-13</td>\n",
       "      <td>2019-05-14</td>\n",
       "      <td>2019-05-16</td>\n",
       "      <td>66.0</td>\n",
       "      <td>201812310749771</td>\n",
       "      <td>59520.0</td>\n",
       "      <td>47922.0</td>\n",
       "      <td>기저귀</td>\n",
       "      <td>하기스 네이처메이드 밤부 3단계 여아 144매(밴드형)</td>\n",
       "      <td>유아</td>\n",
       "      <td>2019</td>\n",
       "      <td>5</td>\n",
       "      <td>13</td>\n",
       "      <td>Monday</td>\n",
       "      <td>11598.0</td>\n",
       "      <td>2 days</td>\n",
       "      <td>1 days</td>\n",
       "    </tr>\n",
       "    <tr>\n",
       "      <th>4</th>\n",
       "      <td>201905092356247</td>\n",
       "      <td>2019-05-10</td>\n",
       "      <td>2019-05-11</td>\n",
       "      <td>2019-05-13</td>\n",
       "      <td>5.0</td>\n",
       "      <td>201812310749774</td>\n",
       "      <td>50640.0</td>\n",
       "      <td>39788.0</td>\n",
       "      <td>기저귀</td>\n",
       "      <td>하기스 에어솔솔 썸머기저귀 3단계 공용 144매(밴드형)</td>\n",
       "      <td>영아</td>\n",
       "      <td>2019</td>\n",
       "      <td>5</td>\n",
       "      <td>10</td>\n",
       "      <td>Friday</td>\n",
       "      <td>10852.0</td>\n",
       "      <td>2 days</td>\n",
       "      <td>1 days</td>\n",
       "    </tr>\n",
       "  </tbody>\n",
       "</table>\n",
       "</div>"
      ],
      "text/plain": [
       "              주문번호        구매일      배송시작일      배송완료일  구매시월령(수정)  \\\n",
       "0  201905052342970 2019-05-06 2019-05-07 2019-05-11        4.0   \n",
       "1  202002203424450 2020-02-20 2020-02-21 2020-02-23       14.0   \n",
       "2  201902282095385 2019-02-28 2019-03-01 2019-03-05        NaN   \n",
       "3  201905132367003 2019-05-13 2019-05-14 2019-05-16       66.0   \n",
       "4  201905092356247 2019-05-10 2019-05-11 2019-05-13        5.0   \n",
       "\n",
       "              고객번호     구매금액     결제금액 물품대분류                               상품명  \\\n",
       "0  201812310749735  25800.0  16314.0  더블하트     더블하트 SofTouch 모유실감 젖꼭지 M (2입)   \n",
       "1  201812310749735  51200.0  37769.0    팬티  NEW 하기스 맥스드라이 팬티 5단계 남아 80매(팬티형)   \n",
       "2  201812310749770   5610.0   3800.0   FMC            크리넥스？키즈용？화장지？3겹？27m 8롤   \n",
       "3  201812310749771  59520.0  47922.0   기저귀    하기스 네이처메이드 밤부 3단계 여아 144매(밴드형)   \n",
       "4  201812310749774  50640.0  39788.0   기저귀   하기스 에어솔솔 썸머기저귀 3단계 공용 144매(밴드형)   \n",
       "\n",
       "       Age_Range  구매일_연도  구매일_월  구매일_일    구매일_요일     할인금액   배송기간 배송준비기간  \n",
       "0             영아    2019      5      6    Monday   9486.0 4 days 1 days  \n",
       "1             유아    2020      2     20  Thursday  13431.0 2 days 1 days  \n",
       "2  Nan-Specified    2019      2     28  Thursday   1810.0 4 days 1 days  \n",
       "3             유아    2019      5     13    Monday  11598.0 2 days 1 days  \n",
       "4             영아    2019      5     10    Friday  10852.0 2 days 1 days  "
      ]
     },
     "execution_count": 50,
     "metadata": {},
     "output_type": "execute_result"
    }
   ],
   "source": [
    "df_raw.head()"
   ]
  },
  {
   "cell_type": "markdown",
   "id": "b7cf4ae2",
   "metadata": {},
   "source": [
    "### 월별 구매건수"
   ]
  },
  {
   "cell_type": "code",
   "execution_count": 51,
   "id": "9f001592",
   "metadata": {},
   "outputs": [],
   "source": [
    "month_sales = df_raw.groupby(['구매일_연도','구매일_월'])['주문번호'].count()"
   ]
  },
  {
   "cell_type": "code",
   "execution_count": 78,
   "id": "6c682f80",
   "metadata": {},
   "outputs": [
    {
     "data": {
      "text/plain": [
       "구매일_연도  구매일_월\n",
       "2019    1         4359\n",
       "        2         7156\n",
       "        3         9579\n",
       "        4         8922\n",
       "        5         8949\n",
       "        6        10907\n",
       "        7        14587\n",
       "        8        12607\n",
       "        9        12829\n",
       "        10       19133\n",
       "        11       10474\n",
       "        12       18034\n",
       "2020    1        11996\n",
       "        2        11845\n",
       "        3        10020\n",
       "        4         8467\n",
       "        5         6519\n",
       "        6         5023\n",
       "        7         7221\n",
       "        8         1371\n",
       "Name: 주문번호, dtype: int64"
      ]
     },
     "execution_count": 78,
     "metadata": {},
     "output_type": "execute_result"
    }
   ],
   "source": [
    "month_sales"
   ]
  },
  {
   "cell_type": "code",
   "execution_count": 52,
   "id": "9f0a3225",
   "metadata": {},
   "outputs": [
    {
     "data": {
      "text/plain": [
       "<AxesSubplot:xlabel='구매일_연도,구매일_월', ylabel='총구매건수'>"
      ]
     },
     "execution_count": 52,
     "metadata": {},
     "output_type": "execute_result"
    },
    {
     "data": {
      "image/png": "[encoded data removed]",
      "text/plain": [
       "<Figure size 1440x720 with 1 Axes>"
      ]
     },
     "metadata": {
      "needs_background": "light"
     },
     "output_type": "display_data"
    }
   ],
   "source": [
    "month_sales.plot.bar(ylabel = '총구매건수',figsize=(20,10))"
   ]
  },
  {
   "cell_type": "code",
   "execution_count": 95,
   "id": "cf3c75e9",
   "metadata": {},
   "outputs": [
    {
     "data": {
      "text/html": [
       "<div>\n",
       "<style scoped>\n",
       "    .dataframe tbody tr th:only-of-type {\n",
       "        vertical-align: middle;\n",
       "    }\n",
       "\n",
       "    .dataframe tbody tr th {\n",
       "        vertical-align: top;\n",
       "    }\n",
       "\n",
       "    .dataframe thead th {\n",
       "        text-align: right;\n",
       "    }\n",
       "</style>\n",
       "<table border=\"1\" class=\"dataframe\">\n",
       "  <thead>\n",
       "    <tr style=\"text-align: right;\">\n",
       "      <th></th>\n",
       "      <th>구매시월령(수정)</th>\n",
       "      <th>구매금액</th>\n",
       "      <th>결제금액</th>\n",
       "      <th>구매일_연도</th>\n",
       "      <th>구매일_월</th>\n",
       "      <th>구매일_일</th>\n",
       "      <th>할인금액</th>\n",
       "    </tr>\n",
       "  </thead>\n",
       "  <tbody>\n",
       "    <tr>\n",
       "      <th>구매시월령(수정)</th>\n",
       "      <td>1.00000</td>\n",
       "      <td>-0.05130</td>\n",
       "      <td>-0.05075</td>\n",
       "      <td>0.04779</td>\n",
       "      <td>-0.03903</td>\n",
       "      <td>0.01151</td>\n",
       "      <td>-0.05469</td>\n",
       "    </tr>\n",
       "    <tr>\n",
       "      <th>구매금액</th>\n",
       "      <td>-0.05130</td>\n",
       "      <td>1.00000</td>\n",
       "      <td>0.97490</td>\n",
       "      <td>0.07517</td>\n",
       "      <td>-0.02845</td>\n",
       "      <td>-0.02570</td>\n",
       "      <td>0.90323</td>\n",
       "    </tr>\n",
       "    <tr>\n",
       "      <th>결제금액</th>\n",
       "      <td>-0.05075</td>\n",
       "      <td>0.97490</td>\n",
       "      <td>1.00000</td>\n",
       "      <td>0.05684</td>\n",
       "      <td>-0.02149</td>\n",
       "      <td>-0.03178</td>\n",
       "      <td>0.78502</td>\n",
       "    </tr>\n",
       "    <tr>\n",
       "      <th>구매일_연도</th>\n",
       "      <td>0.04779</td>\n",
       "      <td>0.07517</td>\n",
       "      <td>0.05684</td>\n",
       "      <td>1.00000</td>\n",
       "      <td>-0.53055</td>\n",
       "      <td>-0.05097</td>\n",
       "      <td>0.08257</td>\n",
       "    </tr>\n",
       "    <tr>\n",
       "      <th>구매일_월</th>\n",
       "      <td>-0.03903</td>\n",
       "      <td>-0.02845</td>\n",
       "      <td>-0.02149</td>\n",
       "      <td>-0.53055</td>\n",
       "      <td>1.00000</td>\n",
       "      <td>-0.00664</td>\n",
       "      <td>-0.02229</td>\n",
       "    </tr>\n",
       "    <tr>\n",
       "      <th>구매일_일</th>\n",
       "      <td>0.01151</td>\n",
       "      <td>-0.02570</td>\n",
       "      <td>-0.03178</td>\n",
       "      <td>-0.05097</td>\n",
       "      <td>-0.00664</td>\n",
       "      <td>1.00000</td>\n",
       "      <td>-0.00754</td>\n",
       "    </tr>\n",
       "    <tr>\n",
       "      <th>할인금액</th>\n",
       "      <td>-0.05469</td>\n",
       "      <td>0.90323</td>\n",
       "      <td>0.78502</td>\n",
       "      <td>0.08257</td>\n",
       "      <td>-0.02229</td>\n",
       "      <td>-0.00754</td>\n",
       "      <td>1.00000</td>\n",
       "    </tr>\n",
       "  </tbody>\n",
       "</table>\n",
       "</div>"
      ],
      "text/plain": [
       "           구매시월령(수정)     구매금액     결제금액   구매일_연도    구매일_월    구매일_일     할인금액\n",
       "구매시월령(수정)    1.00000 -0.05130 -0.05075  0.04779 -0.03903  0.01151 -0.05469\n",
       "구매금액        -0.05130  1.00000  0.97490  0.07517 -0.02845 -0.02570  0.90323\n",
       "결제금액        -0.05075  0.97490  1.00000  0.05684 -0.02149 -0.03178  0.78502\n",
       "구매일_연도       0.04779  0.07517  0.05684  1.00000 -0.53055 -0.05097  0.08257\n",
       "구매일_월       -0.03903 -0.02845 -0.02149 -0.53055  1.00000 -0.00664 -0.02229\n",
       "구매일_일        0.01151 -0.02570 -0.03178 -0.05097 -0.00664  1.00000 -0.00754\n",
       "할인금액        -0.05469  0.90323  0.78502  0.08257 -0.02229 -0.00754  1.00000"
      ]
     },
     "execution_count": 95,
     "metadata": {},
     "output_type": "execute_result"
    }
   ],
   "source": [
    "df_raw.corr()"
   ]
  },
  {
   "cell_type": "code",
   "execution_count": 96,
   "id": "d961c18d",
   "metadata": {},
   "outputs": [
    {
     "data": {
      "text/plain": [
       "<AxesSubplot:>"
      ]
     },
     "execution_count": 96,
     "metadata": {},
     "output_type": "execute_result"
    },
    {
     "data": {
      "image/png": "[encoded data removed]",
      "text/plain": [
       "<Figure size 432x288 with 2 Axes>"
      ]
     },
     "metadata": {
      "needs_background": "light"
     },
     "output_type": "display_data"
    }
   ],
   "source": [
    "sns.heatmap(df_raw.corr(), cmap=\"Blues\")"
   ]
  },
  {
   "cell_type": "code",
   "execution_count": null,
   "id": "d74beeaa",
   "metadata": {},
   "outputs": [],
   "source": []
  }
 ],
 "metadata": {
  "kernelspec": {
   "display_name": "Python 3 (ipykernel)",
   "language": "python",
   "name": "python3"
  },
  "language_info": {
   "codemirror_mode": {
    "name": "ipython",
    "version": 3
   },
   "file_extension": ".py",
   "mimetype": "text/x-python",
   "name": "python",
   "nbconvert_exporter": "python",
   "pygments_lexer": "ipython3",
   "version": "3.9.12"
  }
 },
 "nbformat": 4,
 "nbformat_minor": 5
}
