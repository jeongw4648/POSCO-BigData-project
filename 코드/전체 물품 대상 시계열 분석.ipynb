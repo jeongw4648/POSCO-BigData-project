{
  "nbformat": 4,
  "nbformat_minor": 0,
  "metadata": {
    "colab": {
      "name": "시계열 분석.ipynb",
      "provenance": [],
      "collapsed_sections": [
        "UqdlTJX8XxQJ",
        "-dBBh82rXdvx",
        "ggh0IyuUbuay"
      ]
    },
    "kernelspec": {
      "name": "python3",
      "display_name": "Python 3"
    },
    "language_info": {
      "name": "python"
    }
  },
  "cells": [
    {
      "cell_type": "code",
      "execution_count": null,
      "metadata": {
        "colab": {
          "base_uri": "https://localhost:8080/"
        },
        "id": "T-gNaojOg1Sk",
        "outputId": "382714b3-4cd1-400b-85db-117d07e8c9eb"
      },
      "outputs": [
        {
          "output_type": "stream",
          "name": "stdout",
          "text": [
            "Unknown system... sorry~~~~\n"
          ]
        }
      ],
      "source": [
        "# 데이터 구성 : Series, DataFrame\n",
        "import pandas as pd\n",
        "import pandas_datareader.data as web\n",
        "\n",
        "# 행렬 연산\n",
        "import numpy as np\n",
        "\n",
        "# 데이터 시각화\n",
        "import matplotlib\n",
        "import matplotlib.pyplot as plt\n",
        "%matplotlib inline\n",
        "\n",
        "# Seaborn(SNS)를 사용한 파이썬 데이터 시각화\n",
        "import seaborn as sns\n",
        "\n",
        "# 날짜 데이터 생성\n",
        "from datetime import datetime\n",
        "\n",
        "# 선형 회귀분석 (절편(intercept) 추가)\n",
        "import statsmodels.api as sm\n",
        "\n",
        "# 자기상관 함수, 부분 자기상관 함수\n",
        "from statsmodels.graphics.tsaplots import plot_acf, plot_pacf\n",
        "\n",
        "# ARIMA\n",
        "from statsmodels.tsa.arima_model import ARIMA\n",
        "\n",
        "# 한글 폰트 적용\n",
        "matplotlib.rcParams['font.family'] ='Malgun Gothic'\n",
        "matplotlib.rcParams['axes.unicode_minus'] =False\n",
        "\n",
        "# minmaxscaler 함수 정의\n",
        "def minmaxscaler(x):\n",
        "  return (x - x.min()) / (x.max() - x.min())\n",
        "\n",
        "# 글꼴 꺠짐 방지\n",
        "path = \"c:/Windows/Fonts/malgun.ttf\"\n",
        "import platform\n",
        "from matplotlib import font_manager, rc\n",
        "if platform.system() == 'Darwin':\n",
        "    rc('font', family='AppleGothic')\n",
        "elif platform.system() == 'Windows':\n",
        "    font_name = font_manager.FontProperties(fname = path).get_name()\n",
        "    rc('font', family = font_name)\n",
        "else:\n",
        "    print('Unknown system... sorry~~~~')    \n",
        "\n",
        "plt.rcParams['axes.unicode_minus'] = False  "
      ]
    },
    {
      "cell_type": "code",
      "source": [
        "# 나눔 바른 고딕 글꼴 설치\n",
        "!sudo apt-get install -y fonts-nanum\n",
        "!sudo fc-cache -fv\n",
        "!rm ~/.cache/matplotlib -rf"
      ],
      "metadata": {
        "colab": {
          "base_uri": "https://localhost:8080/"
        },
        "id": "ezegji2lh98P",
        "outputId": "258bc9b6-21ef-44ef-d1cb-8d28cfdd18d6"
      },
      "execution_count": null,
      "outputs": [
        {
          "output_type": "stream",
          "name": "stdout",
          "text": [
            "Reading package lists... Done\n",
            "Building dependency tree       \n",
            "Reading state information... Done\n",
            "fonts-nanum is already the newest version (20170925-1).\n",
            "The following package was automatically installed and is no longer required:\n",
            "  libnvidia-common-460\n",
            "Use 'sudo apt autoremove' to remove it.\n",
            "0 upgraded, 0 newly installed, 0 to remove and 20 not upgraded.\n",
            "/usr/share/fonts: caching, new cache contents: 0 fonts, 1 dirs\n",
            "/usr/share/fonts/truetype: caching, new cache contents: 0 fonts, 3 dirs\n",
            "/usr/share/fonts/truetype/humor-sans: caching, new cache contents: 1 fonts, 0 dirs\n",
            "/usr/share/fonts/truetype/liberation: caching, new cache contents: 16 fonts, 0 dirs\n",
            "/usr/share/fonts/truetype/nanum: caching, new cache contents: 10 fonts, 0 dirs\n",
            "/usr/local/share/fonts: caching, new cache contents: 0 fonts, 0 dirs\n",
            "/root/.local/share/fonts: skipping, no such directory\n",
            "/root/.fonts: skipping, no such directory\n",
            "/var/cache/fontconfig: cleaning cache directory\n",
            "/root/.cache/fontconfig: not cleaning non-existent cache directory\n",
            "/root/.fontconfig: not cleaning non-existent cache directory\n",
            "fc-cache: succeeded\n"
          ]
        }
      ]
    },
    {
      "cell_type": "code",
      "source": [
        "# 나눔 바른 고딕 글꼴 적용\n",
        "import matplotlib.pyplot as plt\n",
        "\n",
        "plt.rc('font', family='NanumBarunGothic') "
      ],
      "metadata": {
        "id": "tSGzOx5niKQB"
      },
      "execution_count": null,
      "outputs": []
    },
    {
      "cell_type": "markdown",
      "source": [
        "## 데이터 불러오기 및 살펴보기"
      ],
      "metadata": {
        "id": "X7u0UdxhUidG"
      }
    },
    {
      "cell_type": "code",
      "source": [
        "# 데이터 구성하기\n",
        "df_sales = pd.read_csv('/content/sample_data/Sales_data-전처리(최종).csv', encoding = 'euc-kr')\n",
        "df_sales.head()"
      ],
      "metadata": {
        "colab": {
          "base_uri": "https://localhost:8080/",
          "height": 410
        },
        "id": "KGL8PFOBiMsy",
        "outputId": "95b6643a-f166-4c69-9ed0-c30de98047cb"
      },
      "execution_count": null,
      "outputs": [
        {
          "output_type": "stream",
          "name": "stderr",
          "text": [
            "/usr/local/lib/python3.7/dist-packages/IPython/core/interactiveshell.py:3326: DtypeWarning: Columns (0,6) have mixed types.Specify dtype option on import or set low_memory=False.\n",
            "  exec(code_obj, self.user_global_ns, self.user_ns)\n"
          ]
        },
        {
          "output_type": "execute_result",
          "data": {
            "text/plain": [
              "                         주문번호         구매일       배송시작일       배송완료일  배송리드타임  \\\n",
              "0  20200806162031-34198174203  2020-08-07  2020-08-08  2020-08-10       2   \n",
              "1  20200806163134-45961790432  2020-08-07  2020-08-08  2020-08-12       4   \n",
              "2  20200806225722-70597181454  2020-08-07  2020-08-08  2020-08-11       3   \n",
              "3  20200806170653-47561291568  2020-08-07  2020-08-08  2020-08-10       2   \n",
              "4  20200806190855-39842441181  2020-08-07  2020-08-08  2020-08-12       4   \n",
              "\n",
              "   구매시월령(수정)              고객번호   구매금액   결제금액 물품대분류  \\\n",
              "0       31.0  201901130758792    3000   3000   체험팩   \n",
              "1       14.0  201901140759534   42900  22076    팬티   \n",
              "2       30.0  201901140759701   11130   9400   SKC   \n",
              "3       27.0  201901150760795   11250  11100   FMC   \n",
              "4       18.0  201901190768109   11310   8580   SKC   \n",
              "\n",
              "                                    상품명  \n",
              "0                               맘큐 허그박스  \n",
              "1  2020 하기스 매직팬티 컴포트 썸머 4단계 공용 96매(팬티형)  \n",
              "2        그린핑거 힘센보습 울트라 크리미오일 180ml (EA)  \n",
              "3   크리넥스 비말차단용 스타일마스크 화이트 엠보 소형 3P (EA)  \n",
              "4           그린핑거 촉촉한 자연보습 워시 320ml (EA)  "
            ],
            "text/html": [
              "\n",
              "  <div id=\"df-f6c81a06-a22c-4954-a9ed-c7eb9b2c0c9f\">\n",
              "    <div class=\"colab-df-container\">\n",
              "      <div>\n",
              "<style scoped>\n",
              "    .dataframe tbody tr th:only-of-type {\n",
              "        vertical-align: middle;\n",
              "    }\n",
              "\n",
              "    .dataframe tbody tr th {\n",
              "        vertical-align: top;\n",
              "    }\n",
              "\n",
              "    .dataframe thead th {\n",
              "        text-align: right;\n",
              "    }\n",
              "</style>\n",
              "<table border=\"1\" class=\"dataframe\">\n",
              "  <thead>\n",
              "    <tr style=\"text-align: right;\">\n",
              "      <th></th>\n",
              "      <th>주문번호</th>\n",
              "      <th>구매일</th>\n",
              "      <th>배송시작일</th>\n",
              "      <th>배송완료일</th>\n",
              "      <th>배송리드타임</th>\n",
              "      <th>구매시월령(수정)</th>\n",
              "      <th>고객번호</th>\n",
              "      <th>구매금액</th>\n",
              "      <th>결제금액</th>\n",
              "      <th>물품대분류</th>\n",
              "      <th>상품명</th>\n",
              "    </tr>\n",
              "  </thead>\n",
              "  <tbody>\n",
              "    <tr>\n",
              "      <th>0</th>\n",
              "      <td>20200806162031-34198174203</td>\n",
              "      <td>2020-08-07</td>\n",
              "      <td>2020-08-08</td>\n",
              "      <td>2020-08-10</td>\n",
              "      <td>2</td>\n",
              "      <td>31.0</td>\n",
              "      <td>201901130758792</td>\n",
              "      <td>3000</td>\n",
              "      <td>3000</td>\n",
              "      <td>체험팩</td>\n",
              "      <td>맘큐 허그박스</td>\n",
              "    </tr>\n",
              "    <tr>\n",
              "      <th>1</th>\n",
              "      <td>20200806163134-45961790432</td>\n",
              "      <td>2020-08-07</td>\n",
              "      <td>2020-08-08</td>\n",
              "      <td>2020-08-12</td>\n",
              "      <td>4</td>\n",
              "      <td>14.0</td>\n",
              "      <td>201901140759534</td>\n",
              "      <td>42900</td>\n",
              "      <td>22076</td>\n",
              "      <td>팬티</td>\n",
              "      <td>2020 하기스 매직팬티 컴포트 썸머 4단계 공용 96매(팬티형)</td>\n",
              "    </tr>\n",
              "    <tr>\n",
              "      <th>2</th>\n",
              "      <td>20200806225722-70597181454</td>\n",
              "      <td>2020-08-07</td>\n",
              "      <td>2020-08-08</td>\n",
              "      <td>2020-08-11</td>\n",
              "      <td>3</td>\n",
              "      <td>30.0</td>\n",
              "      <td>201901140759701</td>\n",
              "      <td>11130</td>\n",
              "      <td>9400</td>\n",
              "      <td>SKC</td>\n",
              "      <td>그린핑거 힘센보습 울트라 크리미오일 180ml (EA)</td>\n",
              "    </tr>\n",
              "    <tr>\n",
              "      <th>3</th>\n",
              "      <td>20200806170653-47561291568</td>\n",
              "      <td>2020-08-07</td>\n",
              "      <td>2020-08-08</td>\n",
              "      <td>2020-08-10</td>\n",
              "      <td>2</td>\n",
              "      <td>27.0</td>\n",
              "      <td>201901150760795</td>\n",
              "      <td>11250</td>\n",
              "      <td>11100</td>\n",
              "      <td>FMC</td>\n",
              "      <td>크리넥스 비말차단용 스타일마스크 화이트 엠보 소형 3P (EA)</td>\n",
              "    </tr>\n",
              "    <tr>\n",
              "      <th>4</th>\n",
              "      <td>20200806190855-39842441181</td>\n",
              "      <td>2020-08-07</td>\n",
              "      <td>2020-08-08</td>\n",
              "      <td>2020-08-12</td>\n",
              "      <td>4</td>\n",
              "      <td>18.0</td>\n",
              "      <td>201901190768109</td>\n",
              "      <td>11310</td>\n",
              "      <td>8580</td>\n",
              "      <td>SKC</td>\n",
              "      <td>그린핑거 촉촉한 자연보습 워시 320ml (EA)</td>\n",
              "    </tr>\n",
              "  </tbody>\n",
              "</table>\n",
              "</div>\n",
              "      <button class=\"colab-df-convert\" onclick=\"convertToInteractive('df-f6c81a06-a22c-4954-a9ed-c7eb9b2c0c9f')\"\n",
              "              title=\"Convert this dataframe to an interactive table.\"\n",
              "              style=\"display:none;\">\n",
              "        \n",
              "  <svg xmlns=\"http://www.w3.org/2000/svg\" height=\"24px\"viewBox=\"0 0 24 24\"\n",
              "       width=\"24px\">\n",
              "    <path d=\"M0 0h24v24H0V0z\" fill=\"none\"/>\n",
              "    <path d=\"M18.56 5.44l.94 2.06.94-2.06 2.06-.94-2.06-.94-.94-2.06-.94 2.06-2.06.94zm-11 1L8.5 8.5l.94-2.06 2.06-.94-2.06-.94L8.5 2.5l-.94 2.06-2.06.94zm10 10l.94 2.06.94-2.06 2.06-.94-2.06-.94-.94-2.06-.94 2.06-2.06.94z\"/><path d=\"M17.41 7.96l-1.37-1.37c-.4-.4-.92-.59-1.43-.59-.52 0-1.04.2-1.43.59L10.3 9.45l-7.72 7.72c-.78.78-.78 2.05 0 2.83L4 21.41c.39.39.9.59 1.41.59.51 0 1.02-.2 1.41-.59l7.78-7.78 2.81-2.81c.8-.78.8-2.07 0-2.86zM5.41 20L4 18.59l7.72-7.72 1.47 1.35L5.41 20z\"/>\n",
              "  </svg>\n",
              "      </button>\n",
              "      \n",
              "  <style>\n",
              "    .colab-df-container {\n",
              "      display:flex;\n",
              "      flex-wrap:wrap;\n",
              "      gap: 12px;\n",
              "    }\n",
              "\n",
              "    .colab-df-convert {\n",
              "      background-color: #E8F0FE;\n",
              "      border: none;\n",
              "      border-radius: 50%;\n",
              "      cursor: pointer;\n",
              "      display: none;\n",
              "      fill: #1967D2;\n",
              "      height: 32px;\n",
              "      padding: 0 0 0 0;\n",
              "      width: 32px;\n",
              "    }\n",
              "\n",
              "    .colab-df-convert:hover {\n",
              "      background-color: #E2EBFA;\n",
              "      box-shadow: 0px 1px 2px rgba(60, 64, 67, 0.3), 0px 1px 3px 1px rgba(60, 64, 67, 0.15);\n",
              "      fill: #174EA6;\n",
              "    }\n",
              "\n",
              "    [theme=dark] .colab-df-convert {\n",
              "      background-color: #3B4455;\n",
              "      fill: #D2E3FC;\n",
              "    }\n",
              "\n",
              "    [theme=dark] .colab-df-convert:hover {\n",
              "      background-color: #434B5C;\n",
              "      box-shadow: 0px 1px 3px 1px rgba(0, 0, 0, 0.15);\n",
              "      filter: drop-shadow(0px 1px 2px rgba(0, 0, 0, 0.3));\n",
              "      fill: #FFFFFF;\n",
              "    }\n",
              "  </style>\n",
              "\n",
              "      <script>\n",
              "        const buttonEl =\n",
              "          document.querySelector('#df-f6c81a06-a22c-4954-a9ed-c7eb9b2c0c9f button.colab-df-convert');\n",
              "        buttonEl.style.display =\n",
              "          google.colab.kernel.accessAllowed ? 'block' : 'none';\n",
              "\n",
              "        async function convertToInteractive(key) {\n",
              "          const element = document.querySelector('#df-f6c81a06-a22c-4954-a9ed-c7eb9b2c0c9f');\n",
              "          const dataTable =\n",
              "            await google.colab.kernel.invokeFunction('convertToInteractive',\n",
              "                                                     [key], {});\n",
              "          if (!dataTable) return;\n",
              "\n",
              "          const docLinkHtml = 'Like what you see? Visit the ' +\n",
              "            '<a target=\"_blank\" href=https://colab.research.google.com/notebooks/data_table.ipynb>data table notebook</a>'\n",
              "            + ' to learn more about interactive tables.';\n",
              "          element.innerHTML = '';\n",
              "          dataTable['output_type'] = 'display_data';\n",
              "          await google.colab.output.renderOutput(dataTable, element);\n",
              "          const docLink = document.createElement('div');\n",
              "          docLink.innerHTML = docLinkHtml;\n",
              "          element.appendChild(docLink);\n",
              "        }\n",
              "      </script>\n",
              "    </div>\n",
              "  </div>\n",
              "  "
            ]
          },
          "metadata": {},
          "execution_count": 4
        }
      ]
    },
    {
      "cell_type": "code",
      "source": [
        "df_sales.info()"
      ],
      "metadata": {
        "colab": {
          "base_uri": "https://localhost:8080/"
        },
        "id": "4uFWs3660yq2",
        "outputId": "4d7b88fe-aa72-4c8a-eca4-ec7a2bcb64f8"
      },
      "execution_count": null,
      "outputs": [
        {
          "output_type": "stream",
          "name": "stdout",
          "text": [
            "<class 'pandas.core.frame.DataFrame'>\n",
            "RangeIndex: 199999 entries, 0 to 199998\n",
            "Data columns (total 11 columns):\n",
            " #   Column     Non-Null Count   Dtype  \n",
            "---  ------     --------------   -----  \n",
            " 0   주문번호       199999 non-null  object \n",
            " 1   구매일        199999 non-null  object \n",
            " 2   배송시작일      199999 non-null  object \n",
            " 3   배송완료일      199999 non-null  object \n",
            " 4   배송리드타임     199999 non-null  int64  \n",
            " 5   구매시월령(수정)  168142 non-null  float64\n",
            " 6   고객번호       199999 non-null  object \n",
            " 7   구매금액       199999 non-null  int64  \n",
            " 8   결제금액       199999 non-null  int64  \n",
            " 9   물품대분류      199999 non-null  object \n",
            " 10  상품명        199999 non-null  object \n",
            "dtypes: float64(1), int64(3), object(7)\n",
            "memory usage: 16.8+ MB\n"
          ]
        }
      ]
    },
    {
      "cell_type": "code",
      "source": [
        "df_sales.describe()"
      ],
      "metadata": {
        "colab": {
          "base_uri": "https://localhost:8080/",
          "height": 300
        },
        "id": "Fg0R8RLB09LF",
        "outputId": "98729616-2b85-46a0-c7c0-912e063218c6"
      },
      "execution_count": null,
      "outputs": [
        {
          "output_type": "execute_result",
          "data": {
            "text/plain": [
              "              배송리드타임      구매시월령(수정)           구매금액           결제금액\n",
              "count  199999.000000  168142.000000  199999.000000  199999.000000\n",
              "mean        2.370507      14.845458   30572.028160   21713.797759\n",
              "std         0.610462      38.521315   30560.954766   21341.455664\n",
              "min         2.000000     -10.000000       0.000000  -35166.000000\n",
              "25%         2.000000       2.000000    7400.000000    5998.000000\n",
              "50%         2.000000       6.000000   17500.000000   12621.000000\n",
              "75%         3.000000      13.000000   51200.000000   34799.000000\n",
              "max         4.000000    1439.000000  598000.000000  539000.000000"
            ],
            "text/html": [
              "\n",
              "  <div id=\"df-ce841664-d79d-431a-9f00-c173c84b94ad\">\n",
              "    <div class=\"colab-df-container\">\n",
              "      <div>\n",
              "<style scoped>\n",
              "    .dataframe tbody tr th:only-of-type {\n",
              "        vertical-align: middle;\n",
              "    }\n",
              "\n",
              "    .dataframe tbody tr th {\n",
              "        vertical-align: top;\n",
              "    }\n",
              "\n",
              "    .dataframe thead th {\n",
              "        text-align: right;\n",
              "    }\n",
              "</style>\n",
              "<table border=\"1\" class=\"dataframe\">\n",
              "  <thead>\n",
              "    <tr style=\"text-align: right;\">\n",
              "      <th></th>\n",
              "      <th>배송리드타임</th>\n",
              "      <th>구매시월령(수정)</th>\n",
              "      <th>구매금액</th>\n",
              "      <th>결제금액</th>\n",
              "    </tr>\n",
              "  </thead>\n",
              "  <tbody>\n",
              "    <tr>\n",
              "      <th>count</th>\n",
              "      <td>199999.000000</td>\n",
              "      <td>168142.000000</td>\n",
              "      <td>199999.000000</td>\n",
              "      <td>199999.000000</td>\n",
              "    </tr>\n",
              "    <tr>\n",
              "      <th>mean</th>\n",
              "      <td>2.370507</td>\n",
              "      <td>14.845458</td>\n",
              "      <td>30572.028160</td>\n",
              "      <td>21713.797759</td>\n",
              "    </tr>\n",
              "    <tr>\n",
              "      <th>std</th>\n",
              "      <td>0.610462</td>\n",
              "      <td>38.521315</td>\n",
              "      <td>30560.954766</td>\n",
              "      <td>21341.455664</td>\n",
              "    </tr>\n",
              "    <tr>\n",
              "      <th>min</th>\n",
              "      <td>2.000000</td>\n",
              "      <td>-10.000000</td>\n",
              "      <td>0.000000</td>\n",
              "      <td>-35166.000000</td>\n",
              "    </tr>\n",
              "    <tr>\n",
              "      <th>25%</th>\n",
              "      <td>2.000000</td>\n",
              "      <td>2.000000</td>\n",
              "      <td>7400.000000</td>\n",
              "      <td>5998.000000</td>\n",
              "    </tr>\n",
              "    <tr>\n",
              "      <th>50%</th>\n",
              "      <td>2.000000</td>\n",
              "      <td>6.000000</td>\n",
              "      <td>17500.000000</td>\n",
              "      <td>12621.000000</td>\n",
              "    </tr>\n",
              "    <tr>\n",
              "      <th>75%</th>\n",
              "      <td>3.000000</td>\n",
              "      <td>13.000000</td>\n",
              "      <td>51200.000000</td>\n",
              "      <td>34799.000000</td>\n",
              "    </tr>\n",
              "    <tr>\n",
              "      <th>max</th>\n",
              "      <td>4.000000</td>\n",
              "      <td>1439.000000</td>\n",
              "      <td>598000.000000</td>\n",
              "      <td>539000.000000</td>\n",
              "    </tr>\n",
              "  </tbody>\n",
              "</table>\n",
              "</div>\n",
              "      <button class=\"colab-df-convert\" onclick=\"convertToInteractive('df-ce841664-d79d-431a-9f00-c173c84b94ad')\"\n",
              "              title=\"Convert this dataframe to an interactive table.\"\n",
              "              style=\"display:none;\">\n",
              "        \n",
              "  <svg xmlns=\"http://www.w3.org/2000/svg\" height=\"24px\"viewBox=\"0 0 24 24\"\n",
              "       width=\"24px\">\n",
              "    <path d=\"M0 0h24v24H0V0z\" fill=\"none\"/>\n",
              "    <path d=\"M18.56 5.44l.94 2.06.94-2.06 2.06-.94-2.06-.94-.94-2.06-.94 2.06-2.06.94zm-11 1L8.5 8.5l.94-2.06 2.06-.94-2.06-.94L8.5 2.5l-.94 2.06-2.06.94zm10 10l.94 2.06.94-2.06 2.06-.94-2.06-.94-.94-2.06-.94 2.06-2.06.94z\"/><path d=\"M17.41 7.96l-1.37-1.37c-.4-.4-.92-.59-1.43-.59-.52 0-1.04.2-1.43.59L10.3 9.45l-7.72 7.72c-.78.78-.78 2.05 0 2.83L4 21.41c.39.39.9.59 1.41.59.51 0 1.02-.2 1.41-.59l7.78-7.78 2.81-2.81c.8-.78.8-2.07 0-2.86zM5.41 20L4 18.59l7.72-7.72 1.47 1.35L5.41 20z\"/>\n",
              "  </svg>\n",
              "      </button>\n",
              "      \n",
              "  <style>\n",
              "    .colab-df-container {\n",
              "      display:flex;\n",
              "      flex-wrap:wrap;\n",
              "      gap: 12px;\n",
              "    }\n",
              "\n",
              "    .colab-df-convert {\n",
              "      background-color: #E8F0FE;\n",
              "      border: none;\n",
              "      border-radius: 50%;\n",
              "      cursor: pointer;\n",
              "      display: none;\n",
              "      fill: #1967D2;\n",
              "      height: 32px;\n",
              "      padding: 0 0 0 0;\n",
              "      width: 32px;\n",
              "    }\n",
              "\n",
              "    .colab-df-convert:hover {\n",
              "      background-color: #E2EBFA;\n",
              "      box-shadow: 0px 1px 2px rgba(60, 64, 67, 0.3), 0px 1px 3px 1px rgba(60, 64, 67, 0.15);\n",
              "      fill: #174EA6;\n",
              "    }\n",
              "\n",
              "    [theme=dark] .colab-df-convert {\n",
              "      background-color: #3B4455;\n",
              "      fill: #D2E3FC;\n",
              "    }\n",
              "\n",
              "    [theme=dark] .colab-df-convert:hover {\n",
              "      background-color: #434B5C;\n",
              "      box-shadow: 0px 1px 3px 1px rgba(0, 0, 0, 0.15);\n",
              "      filter: drop-shadow(0px 1px 2px rgba(0, 0, 0, 0.3));\n",
              "      fill: #FFFFFF;\n",
              "    }\n",
              "  </style>\n",
              "\n",
              "      <script>\n",
              "        const buttonEl =\n",
              "          document.querySelector('#df-ce841664-d79d-431a-9f00-c173c84b94ad button.colab-df-convert');\n",
              "        buttonEl.style.display =\n",
              "          google.colab.kernel.accessAllowed ? 'block' : 'none';\n",
              "\n",
              "        async function convertToInteractive(key) {\n",
              "          const element = document.querySelector('#df-ce841664-d79d-431a-9f00-c173c84b94ad');\n",
              "          const dataTable =\n",
              "            await google.colab.kernel.invokeFunction('convertToInteractive',\n",
              "                                                     [key], {});\n",
              "          if (!dataTable) return;\n",
              "\n",
              "          const docLinkHtml = 'Like what you see? Visit the ' +\n",
              "            '<a target=\"_blank\" href=https://colab.research.google.com/notebooks/data_table.ipynb>data table notebook</a>'\n",
              "            + ' to learn more about interactive tables.';\n",
              "          element.innerHTML = '';\n",
              "          dataTable['output_type'] = 'display_data';\n",
              "          await google.colab.output.renderOutput(dataTable, element);\n",
              "          const docLink = document.createElement('div');\n",
              "          docLink.innerHTML = docLinkHtml;\n",
              "          element.appendChild(docLink);\n",
              "        }\n",
              "      </script>\n",
              "    </div>\n",
              "  </div>\n",
              "  "
            ]
          },
          "metadata": {},
          "execution_count": 6
        }
      ]
    },
    {
      "cell_type": "markdown",
      "source": [
        "## 데이터 전처리"
      ],
      "metadata": {
        "id": "omNU_9HFT1eK"
      }
    },
    {
      "cell_type": "code",
      "source": [
        "data = df_sales.copy()\n",
        "\n",
        "# 1. 구매일 변수 dateime 타입으로 변환하기\n",
        "data[\"구매일\"] = pd.to_datetime(data[\"구매일\"])\n",
        "data = data.sort_values(\"구매일\")\n",
        "\n",
        "# 2. 배송시작일 변수 dateime 타입으로 변환하기\n",
        "data[\"배송시작일\"] = pd.to_datetime(data[\"배송시작일\"])\n",
        "data = data.sort_values(\"배송시작일\")\n",
        "\n",
        "# 3. 배송완료일 변수 dateime 타입으로 변환하기\n",
        "data[\"배송완료일\"] = pd.to_datetime(data[\"배송완료일\"])\n",
        "data = data.sort_values(\"배송완료일\")\n",
        "\n",
        "# 4. 배송리드타임, 구매시월령(수정), 구매금액, 결제금액\n",
        "data[\"배송리드타임\"] = minmaxscaler(data[\"배송리드타임\"])\n",
        "data[\"구매시월령(수정)\"] = minmaxscaler(data[\"구매시월령(수정)\"])\n",
        "data[\"구매금액\"] = minmaxscaler(data[\"구매금액\"])\n",
        "data[\"결제금액\"] = minmaxscaler(data[\"결제금액\"])\n",
        "data.describe()"
      ],
      "metadata": {
        "colab": {
          "base_uri": "https://localhost:8080/",
          "height": 300
        },
        "id": "N-rp8DWTzzhv",
        "outputId": "b5689412-6864-4000-de8e-9b0c15c15402"
      },
      "execution_count": null,
      "outputs": [
        {
          "output_type": "execute_result",
          "data": {
            "text/plain": [
              "              배송리드타임      구매시월령(수정)           구매금액           결제금액\n",
              "count  199999.000000  168142.000000  199999.000000  199999.000000\n",
              "mean        0.185253       0.017147       0.051124       0.099065\n",
              "std         0.305231       0.026585       0.051105       0.037169\n",
              "min         0.000000       0.000000       0.000000       0.000000\n",
              "25%         0.000000       0.008282       0.012375       0.071694\n",
              "50%         0.000000       0.011042       0.029264       0.083229\n",
              "75%         0.500000       0.015873       0.085619       0.121855\n",
              "max         1.000000       1.000000       1.000000       1.000000"
            ],
            "text/html": [
              "\n",
              "  <div id=\"df-23c01710-0a42-487c-b772-b909c92a9ef8\">\n",
              "    <div class=\"colab-df-container\">\n",
              "      <div>\n",
              "<style scoped>\n",
              "    .dataframe tbody tr th:only-of-type {\n",
              "        vertical-align: middle;\n",
              "    }\n",
              "\n",
              "    .dataframe tbody tr th {\n",
              "        vertical-align: top;\n",
              "    }\n",
              "\n",
              "    .dataframe thead th {\n",
              "        text-align: right;\n",
              "    }\n",
              "</style>\n",
              "<table border=\"1\" class=\"dataframe\">\n",
              "  <thead>\n",
              "    <tr style=\"text-align: right;\">\n",
              "      <th></th>\n",
              "      <th>배송리드타임</th>\n",
              "      <th>구매시월령(수정)</th>\n",
              "      <th>구매금액</th>\n",
              "      <th>결제금액</th>\n",
              "    </tr>\n",
              "  </thead>\n",
              "  <tbody>\n",
              "    <tr>\n",
              "      <th>count</th>\n",
              "      <td>199999.000000</td>\n",
              "      <td>168142.000000</td>\n",
              "      <td>199999.000000</td>\n",
              "      <td>199999.000000</td>\n",
              "    </tr>\n",
              "    <tr>\n",
              "      <th>mean</th>\n",
              "      <td>0.185253</td>\n",
              "      <td>0.017147</td>\n",
              "      <td>0.051124</td>\n",
              "      <td>0.099065</td>\n",
              "    </tr>\n",
              "    <tr>\n",
              "      <th>std</th>\n",
              "      <td>0.305231</td>\n",
              "      <td>0.026585</td>\n",
              "      <td>0.051105</td>\n",
              "      <td>0.037169</td>\n",
              "    </tr>\n",
              "    <tr>\n",
              "      <th>min</th>\n",
              "      <td>0.000000</td>\n",
              "      <td>0.000000</td>\n",
              "      <td>0.000000</td>\n",
              "      <td>0.000000</td>\n",
              "    </tr>\n",
              "    <tr>\n",
              "      <th>25%</th>\n",
              "      <td>0.000000</td>\n",
              "      <td>0.008282</td>\n",
              "      <td>0.012375</td>\n",
              "      <td>0.071694</td>\n",
              "    </tr>\n",
              "    <tr>\n",
              "      <th>50%</th>\n",
              "      <td>0.000000</td>\n",
              "      <td>0.011042</td>\n",
              "      <td>0.029264</td>\n",
              "      <td>0.083229</td>\n",
              "    </tr>\n",
              "    <tr>\n",
              "      <th>75%</th>\n",
              "      <td>0.500000</td>\n",
              "      <td>0.015873</td>\n",
              "      <td>0.085619</td>\n",
              "      <td>0.121855</td>\n",
              "    </tr>\n",
              "    <tr>\n",
              "      <th>max</th>\n",
              "      <td>1.000000</td>\n",
              "      <td>1.000000</td>\n",
              "      <td>1.000000</td>\n",
              "      <td>1.000000</td>\n",
              "    </tr>\n",
              "  </tbody>\n",
              "</table>\n",
              "</div>\n",
              "      <button class=\"colab-df-convert\" onclick=\"convertToInteractive('df-23c01710-0a42-487c-b772-b909c92a9ef8')\"\n",
              "              title=\"Convert this dataframe to an interactive table.\"\n",
              "              style=\"display:none;\">\n",
              "        \n",
              "  <svg xmlns=\"http://www.w3.org/2000/svg\" height=\"24px\"viewBox=\"0 0 24 24\"\n",
              "       width=\"24px\">\n",
              "    <path d=\"M0 0h24v24H0V0z\" fill=\"none\"/>\n",
              "    <path d=\"M18.56 5.44l.94 2.06.94-2.06 2.06-.94-2.06-.94-.94-2.06-.94 2.06-2.06.94zm-11 1L8.5 8.5l.94-2.06 2.06-.94-2.06-.94L8.5 2.5l-.94 2.06-2.06.94zm10 10l.94 2.06.94-2.06 2.06-.94-2.06-.94-.94-2.06-.94 2.06-2.06.94z\"/><path d=\"M17.41 7.96l-1.37-1.37c-.4-.4-.92-.59-1.43-.59-.52 0-1.04.2-1.43.59L10.3 9.45l-7.72 7.72c-.78.78-.78 2.05 0 2.83L4 21.41c.39.39.9.59 1.41.59.51 0 1.02-.2 1.41-.59l7.78-7.78 2.81-2.81c.8-.78.8-2.07 0-2.86zM5.41 20L4 18.59l7.72-7.72 1.47 1.35L5.41 20z\"/>\n",
              "  </svg>\n",
              "      </button>\n",
              "      \n",
              "  <style>\n",
              "    .colab-df-container {\n",
              "      display:flex;\n",
              "      flex-wrap:wrap;\n",
              "      gap: 12px;\n",
              "    }\n",
              "\n",
              "    .colab-df-convert {\n",
              "      background-color: #E8F0FE;\n",
              "      border: none;\n",
              "      border-radius: 50%;\n",
              "      cursor: pointer;\n",
              "      display: none;\n",
              "      fill: #1967D2;\n",
              "      height: 32px;\n",
              "      padding: 0 0 0 0;\n",
              "      width: 32px;\n",
              "    }\n",
              "\n",
              "    .colab-df-convert:hover {\n",
              "      background-color: #E2EBFA;\n",
              "      box-shadow: 0px 1px 2px rgba(60, 64, 67, 0.3), 0px 1px 3px 1px rgba(60, 64, 67, 0.15);\n",
              "      fill: #174EA6;\n",
              "    }\n",
              "\n",
              "    [theme=dark] .colab-df-convert {\n",
              "      background-color: #3B4455;\n",
              "      fill: #D2E3FC;\n",
              "    }\n",
              "\n",
              "    [theme=dark] .colab-df-convert:hover {\n",
              "      background-color: #434B5C;\n",
              "      box-shadow: 0px 1px 3px 1px rgba(0, 0, 0, 0.15);\n",
              "      filter: drop-shadow(0px 1px 2px rgba(0, 0, 0, 0.3));\n",
              "      fill: #FFFFFF;\n",
              "    }\n",
              "  </style>\n",
              "\n",
              "      <script>\n",
              "        const buttonEl =\n",
              "          document.querySelector('#df-23c01710-0a42-487c-b772-b909c92a9ef8 button.colab-df-convert');\n",
              "        buttonEl.style.display =\n",
              "          google.colab.kernel.accessAllowed ? 'block' : 'none';\n",
              "\n",
              "        async function convertToInteractive(key) {\n",
              "          const element = document.querySelector('#df-23c01710-0a42-487c-b772-b909c92a9ef8');\n",
              "          const dataTable =\n",
              "            await google.colab.kernel.invokeFunction('convertToInteractive',\n",
              "                                                     [key], {});\n",
              "          if (!dataTable) return;\n",
              "\n",
              "          const docLinkHtml = 'Like what you see? Visit the ' +\n",
              "            '<a target=\"_blank\" href=https://colab.research.google.com/notebooks/data_table.ipynb>data table notebook</a>'\n",
              "            + ' to learn more about interactive tables.';\n",
              "          element.innerHTML = '';\n",
              "          dataTable['output_type'] = 'display_data';\n",
              "          await google.colab.output.renderOutput(dataTable, element);\n",
              "          const docLink = document.createElement('div');\n",
              "          docLink.innerHTML = docLinkHtml;\n",
              "          element.appendChild(docLink);\n",
              "        }\n",
              "      </script>\n",
              "    </div>\n",
              "  </div>\n",
              "  "
            ]
          },
          "metadata": {},
          "execution_count": 7
        }
      ]
    },
    {
      "cell_type": "markdown",
      "source": [
        "## 범주형 변수 EDA 및 시각화"
      ],
      "metadata": {
        "id": "0a6wAo_aT6jW"
      }
    },
    {
      "cell_type": "markdown",
      "source": [
        "### 범주형 변수 레이블 개수 확인"
      ],
      "metadata": {
        "id": "i4yohsJHbT69"
      }
    },
    {
      "cell_type": "code",
      "source": [
        "category = data[[\"구매일\", \"배송리드타임\", \"구매시월령(수정)\", \"구매금액\"]]\n",
        "group_leadtime = category.groupby(\"배송리드타임\")\n",
        "group_monthtime = category.groupby(\"구매시월령(수정)\")\n",
        "\n",
        "print(f\"배송리드타임 변수 레이블 개수 : {len(group_leadtime)}\")\n",
        "print(f\"구매시월령(수정) 변수 레이블 개수 : {len(group_monthtime)}\")"
      ],
      "metadata": {
        "colab": {
          "base_uri": "https://localhost:8080/"
        },
        "id": "Qeco2E400jYu",
        "outputId": "36c11400-8859-4075-fb7f-5f135ff6053a"
      },
      "execution_count": null,
      "outputs": [
        {
          "output_type": "stream",
          "name": "stdout",
          "text": [
            "배송리드타임 변수 레이블 개수 : 3\n",
            "구매시월령(수정) 변수 레이블 개수 : 484\n"
          ]
        }
      ]
    },
    {
      "cell_type": "markdown",
      "source": [
        "### 배송리드타임에 따른 구매금액 시각화"
      ],
      "metadata": {
        "id": "BkX4I0oDT-pa"
      }
    },
    {
      "cell_type": "code",
      "source": [
        "fig, axes = plt.subplots(1, 3, figsize = (20, 10))\n",
        "axes = axes.ravel()\n",
        "\n",
        "for idx, element in enumerate(zip(axes, group_leadtime)):\n",
        "  axis, group = element\n",
        "  store, df = group\n",
        "  df_x = df[\"구매일\"]\n",
        "  df_y = df[\"구매금액\"]\n",
        "  axis.plot(df_x, df_y)\n",
        "  axis.set_ylim([0, 1])\n",
        "  axis.get_xaxis().set_visible(False)\n",
        "  axis.set_title(f\"배송리드타임\")\n",
        "\n",
        "plt.tight_layout()\n",
        "plt.show()"
      ],
      "metadata": {
        "colab": {
          "base_uri": "https://localhost:8080/",
          "height": 672
        },
        "id": "YCEDyvRx5FTw",
        "outputId": "c805a4c7-7518-4b73-b773-415dcd1c68f5"
      },
      "execution_count": null,
      "outputs": [
        {
          "output_type": "display_data",
          "data": {
            "text/plain": [
              "<Figure size 1440x720 with 3 Axes>"
            ],
            "image/png": "[encoded data removed]"
          },
          "metadata": {
            "needs_background": "light"
          }
        }
      ]
    },
    {
      "cell_type": "markdown",
      "source": [
        "####각각 배송리드타임이 1일, 2일, 3일에 따른\u001d 구매금액 추이를 시각화 한 결과, 배송리드타임이 1일인 경우 비교적 많은 구매금액과 연관이 있음을 알 수 있다."
      ],
      "metadata": {
        "id": "UqdlTJX8XxQJ"
      }
    },
    {
      "cell_type": "markdown",
      "source": [
        "### 매출 변화량이 큰 구간 찾아내기"
      ],
      "metadata": {
        "id": "lp_IRF__UQmi"
      }
    },
    {
      "cell_type": "code",
      "source": [
        "# 구매금액의 boxplot\n",
        "plt.boxplot(df[\"구매금액\"])\n",
        "plt.title(\"배송리드타임\")\n",
        "plt.show()"
      ],
      "metadata": {
        "colab": {
          "base_uri": "https://localhost:8080/",
          "height": 280
        },
        "id": "cP0hX4sd-5Uo",
        "outputId": "e7c048f9-1833-4d42-bbc5-1d2ab0a25491"
      },
      "execution_count": null,
      "outputs": [
        {
          "output_type": "display_data",
          "data": {
            "text/plain": [
              "<Figure size 432x288 with 1 Axes>"
            ],
            "image/png": "[encoded data removed]"
          },
          "metadata": {
            "needs_background": "light"
          }
        }
      ]
    },
    {
      "cell_type": "code",
      "source": [
        "# boxplot에서 사분위수 범위를 넘어가는 값들은 이상치로 간주되기 때문에, 사분위수 범위 밖에 있는 값들만 추출\n",
        "df_desc = df.describe()\n",
        "Q1 = df_desc.loc[\"25%\", \"구매금액\"]\n",
        "Q3 = df_desc.loc[\"75%\", \"구매금액\"]\n",
        "IQR = Q3 - Q1\n",
        "upper_bound = Q3 + 1.5*IQR\n",
        "lower_bound = Q1 - 1.5*IQR\n",
        "\n",
        "# and = & , or = |\n",
        "outlier = df[(df[\"구매금액\"] > upper_bound) | (df[\"구매금액\"] < lower_bound)]\n",
        "outlier_date = pd.to_datetime(outlier[\"구매일\"])\n",
        "print(outlier)"
      ],
      "metadata": {
        "colab": {
          "base_uri": "https://localhost:8080/"
        },
        "id": "KUt_gFz8_ubL",
        "outputId": "6623872a-f1da-48cf-d953-28cf2a63a9be"
      },
      "execution_count": null,
      "outputs": [
        {
          "output_type": "stream",
          "name": "stdout",
          "text": [
            "              구매일  배송리드타임  구매시월령(수정)      구매금액\n",
            "199253 2019-01-12     1.0        NaN  0.262475\n",
            "198996 2019-01-16     1.0   0.011732  0.254047\n",
            "197510 2019-01-27     1.0   0.013112  0.237592\n",
            "196296 2019-01-31     1.0   0.008282  0.290970\n",
            "195517 2019-02-01     1.0   0.041408  0.200669\n",
            "...           ...     ...        ...       ...\n",
            "10172  2020-06-26     1.0        NaN  0.229431\n",
            "10178  2020-06-26     1.0        NaN  0.229431\n",
            "10179  2020-06-26     1.0        NaN  0.229431\n",
            "8724   2020-06-30     1.0   0.015183  0.275418\n",
            "6974   2020-07-07     1.0   0.025535  0.282441\n",
            "\n",
            "[328 rows x 4 columns]\n"
          ]
        }
      ]
    },
    {
      "cell_type": "code",
      "source": [
        "# 배송리드타임에 따른 구매금액 추이 그래프 위에 이상치로 뽑은 날짜들을 표시\n",
        "fig, axes = plt.subplots(1, 3, figsize = (20, 10))\n",
        "axes = axes.ravel()\n",
        "\n",
        "for idx, element in enumerate(zip(axes, group_leadtime)):\n",
        "  axis, group = element\n",
        "  store, df = group\n",
        "  df_x = df[\"구매일\"]\n",
        "  df_y = df[\"구매금액\"]\n",
        "  outlier_x = outlier_date\n",
        "  outlier_y = [df[df[\"구매일\"] == i][\"구매금액\"].values[0] for i in outlier_date]\n",
        "\n",
        "  axis.plot(df_x, df_y)\n",
        "  axis.scatter(outlier_x, outlier_y, color = \"red\")\n",
        "  \n",
        "  axis.set_ylim([0, 1])\n",
        "  axis.get_xaxis().set_visible(False)\n",
        "  axis.set_title(f\"배송리드타임\")\n",
        "\n",
        "plt.tight_layout()\n",
        "plt.show()"
      ],
      "metadata": {
        "colab": {
          "base_uri": "https://localhost:8080/",
          "height": 672
        },
        "id": "_8ofcpZqAFI5",
        "outputId": "0f768381-e42c-4b68-8648-dd86c5e49a90"
      },
      "execution_count": null,
      "outputs": [
        {
          "output_type": "display_data",
          "data": {
            "text/plain": [
              "<Figure size 1440x720 with 3 Axes>"
            ],
            "image/png": "[encoded data removed]"
          },
          "metadata": {
            "needs_background": "light"
          }
        }
      ]
    },
    {
      "cell_type": "markdown",
      "source": [
        "#### 시각화 분석 내용 정리\n",
        "\n",
        "#### 배송리드타임에 따른 구매 금액을 그래프로 시각화함. 배송리드타임에 따른 구매금액 추세 시각화를 통하여 배송리드타임이 1일인 경우 비교적 많은 구매금액과 연관이 있음을 알 수 있다.\n",
        "#### 구매금액의 변화량이 큰 부분을 찾아 이상치로 표시함. 배송리드타임이 3일인 경우, 구매금액의 이상치가 자주 발견되기에 배송리드타임이 길수록 불안정한 매출과 연관이 있음을 발견하였습니다."
      ],
      "metadata": {
        "id": "-dBBh82rXdvx"
      }
    },
    {
      "cell_type": "markdown",
      "source": [
        "## 숫자형 변수들간의 상관관계 분석"
      ],
      "metadata": {
        "id": "yXnLqP07TehD"
      }
    },
    {
      "cell_type": "code",
      "source": [
        "import statsmodels.api as sm\n",
        "\n",
        "\n",
        "numeric = data[[\"구매일\", \"배송리드타임\", \"구매시월령(수정)\", \"구매금액\"]]\n",
        "numeric = numeric.groupby(\"구매일\").mean()\n",
        "\n",
        "#calculate cross correlation\n",
        "leadtime_ccf = sm.tsa.stattools.ccf(numeric[\"구매금액\"], numeric[\"배송리드타임\"])\n",
        "monthtime_ccf = sm.tsa.stattools.ccf(numeric[\"구매금액\"], numeric[\"구매시월령(수정)\"])\n",
        "\n",
        "fig, axes = plt.subplots(2,1, figsize = (10, 10))\n",
        "\n",
        "axes[0].bar(list(range(len(leadtime_ccf))), leadtime_ccf)\n",
        "axes[0].set_title(\"Sales & leadtime CCF\")\n",
        "axes[1].bar(list(range(len(monthtime_ccf))), monthtime_ccf)\n",
        "axes[1].set_title(\"Sales & monthtime CCF\")\\\n",
        "\n",
        "plt.tight_layout()\n",
        "plt.show()\n"
      ],
      "metadata": {
        "colab": {
          "base_uri": "https://localhost:8080/",
          "height": 729
        },
        "id": "ltEfct_0Hrx5",
        "outputId": "4fa371ca-29ec-4720-cf49-2e10bcf296af"
      },
      "execution_count": null,
      "outputs": [
        {
          "output_type": "display_data",
          "data": {
            "text/plain": [
              "<Figure size 720x720 with 2 Axes>"
            ],
            "image/png": "[encoded data removed]"
          },
          "metadata": {
            "needs_background": "light"
          }
        }
      ]
    },
    {
      "cell_type": "markdown",
      "source": [
        "#### 숫자형 변수들과 매출액의 교차 상관관계를 시각화한 결과 다음과 같은 내용을 도출할 수 있었습니다.\n",
        "#### 각 시점별로 0이 아닌 값을 가졌기 때문에 각 변수마다 매출액과 상관관계가 존재합니다."
      ],
      "metadata": {
        "id": "ggh0IyuUbuay"
      }
    },
    {
      "cell_type": "markdown",
      "source": [
        "### VAR(Vector Auto-Regression) - 벡터 자기회귀\u001d모형 분석"
      ],
      "metadata": {
        "id": "5vx1EDYib2OM"
      }
    },
    {
      "cell_type": "code",
      "source": [
        "from statsmodels.tsa.api import VAR\n",
        "\n",
        "forecasting_model = VAR(numeric)\n",
        "results_aic = []\n",
        "for p in range(1,10):\n",
        "  results = forecasting_model.fit(p)\n",
        "  results_aic.append(results.aic)"
      ],
      "metadata": {
        "colab": {
          "base_uri": "https://localhost:8080/"
        },
        "id": "t94GRvNQ-1zj",
        "outputId": "fab33113-0e1c-4249-e0a7-0809eb232fc1"
      },
      "execution_count": null,
      "outputs": [
        {
          "output_type": "stream",
          "name": "stderr",
          "text": [
            "/usr/local/lib/python3.7/dist-packages/statsmodels/tsa/base/tsa_model.py:583: ValueWarning: A date index has been provided, but it has no associated frequency information and so will be ignored when e.g. forecasting.\n",
            "  ' ignored when e.g. forecasting.', ValueWarning)\n"
          ]
        }
      ]
    },
    {
      "cell_type": "code",
      "source": [
        "# VAR 모델링 과정에서 최적의 모델을 찾기 위한 기준으로 AIC를 선택하였으며 AIC가 가장 낮은 순서(Order) p가 최적의 모델.\n",
        "sns.set()\n",
        "plt.plot(list(np.arange(1,10,1)), results_aic)\n",
        "plt.xlabel(\"Order\")\n",
        "plt.ylabel(\"AIC\")\n",
        "plt.show()"
      ],
      "metadata": {
        "colab": {
          "base_uri": "https://localhost:8080/",
          "height": 285
        },
        "id": "XJbpscmTKHA8",
        "outputId": "d4c215cd-f338-4c6a-e79c-abdeb45a0cf1"
      },
      "execution_count": null,
      "outputs": [
        {
          "output_type": "display_data",
          "data": {
            "text/plain": [
              "<Figure size 432x288 with 1 Axes>"
            ],
            "image/png": "[encoded data removed]"
          },
          "metadata": {}
        }
      ]
    },
    {
      "cell_type": "code",
      "source": [
        "# 위의 그림을 통하여 최적의 모델을 찾기 위해서 AIC가 가장 낮은 값을 시각화시킨 결과 Order가 6인 지점이 가장 낮기에 p는 6를 사용합니다.\n",
        "results = forecasting_model.fit(6)\n",
        "results.summary()"
      ],
      "metadata": {
        "colab": {
          "base_uri": "https://localhost:8080/"
        },
        "id": "Luo8_OrjK5UK",
        "outputId": "85fe0ecb-88c2-4b98-a98f-fb269a59df1c"
      },
      "execution_count": null,
      "outputs": [
        {
          "output_type": "execute_result",
          "data": {
            "text/plain": [
              "  Summary of Regression Results   \n",
              "==================================\n",
              "Model:                         VAR\n",
              "Method:                        OLS\n",
              "Date:           Mon, 22, Aug, 2022\n",
              "Time:                     17:54:52\n",
              "--------------------------------------------------------------------\n",
              "No. of Equations:         3.00000    BIC:                   -27.1410\n",
              "Nobs:                     575.000    HQIC:                  -27.4043\n",
              "Log likelihood:           5536.46    FPE:                1.06020e-12\n",
              "AIC:                     -27.5726    Det(Omega_mle):     9.61680e-13\n",
              "--------------------------------------------------------------------\n",
              "Results for equation 배송리드타임\n",
              "===============================================================================\n",
              "                  coefficient       std. error           t-stat            prob\n",
              "-------------------------------------------------------------------------------\n",
              "const                0.163900         0.019247            8.515           0.000\n",
              "L1.배송리드타임            0.154108         0.046363            3.324           0.001\n",
              "L1.구매시월령(수정)        -0.506720         0.186108           -2.723           0.006\n",
              "L1.구매금액             -0.646760         0.166371           -3.887           0.000\n",
              "L2.배송리드타임           -0.089329         0.046777           -1.910           0.056\n",
              "L2.구매시월령(수정)         0.179331         0.189312            0.947           0.343\n",
              "L2.구매금액              0.344701         0.197557            1.745           0.081\n",
              "L3.배송리드타임            0.062294         0.047206            1.320           0.187\n",
              "L3.구매시월령(수정)         0.008737         0.189771            0.046           0.963\n",
              "L3.구매금액             -0.147948         0.198522           -0.745           0.456\n",
              "L4.배송리드타임           -0.008288         0.047357           -0.175           0.861\n",
              "L4.구매시월령(수정)         0.095836         0.188755            0.508           0.612\n",
              "L4.구매금액              0.194580         0.197986            0.983           0.326\n",
              "L5.배송리드타임            0.058926         0.047318            1.245           0.213\n",
              "L5.구매시월령(수정)         0.109182         0.187446            0.582           0.560\n",
              "L5.구매금액              0.039383         0.197286            0.200           0.842\n",
              "L6.배송리드타임           -0.072720         0.046435           -1.566           0.117\n",
              "L6.구매시월령(수정)         0.140733         0.184068            0.765           0.445\n",
              "L6.구매금액              0.254320         0.171945            1.479           0.139\n",
              "===============================================================================\n",
              "\n",
              "Results for equation 구매시월령(수정)\n",
              "===============================================================================\n",
              "                  coefficient       std. error           t-stat            prob\n",
              "-------------------------------------------------------------------------------\n",
              "const                0.018611         0.004843            3.843           0.000\n",
              "L1.배송리드타임            0.007742         0.011666            0.664           0.507\n",
              "L1.구매시월령(수정)         0.091350         0.046829            1.951           0.051\n",
              "L1.구매금액             -0.281714         0.041862           -6.730           0.000\n",
              "L2.배송리드타임           -0.027106         0.011770           -2.303           0.021\n",
              "L2.구매시월령(수정)         0.125027         0.047635            2.625           0.009\n",
              "L2.구매금액              0.138950         0.049709            2.795           0.005\n",
              "L3.배송리드타임            0.021564         0.011878            1.816           0.069\n",
              "L3.구매시월령(수정)         0.076574         0.047750            1.604           0.109\n",
              "L3.구매금액              0.011248         0.049952            0.225           0.822\n",
              "L4.배송리드타임           -0.022224         0.011916           -1.865           0.062\n",
              "L4.구매시월령(수정)         0.109641         0.047495            2.309           0.021\n",
              "L4.구매금액              0.077763         0.049817            1.561           0.119\n",
              "L5.배송리드타임           -0.001319         0.011906           -0.111           0.912\n",
              "L5.구매시월령(수정)         0.046247         0.047165            0.981           0.327\n",
              "L5.구매금액              0.009632         0.049641            0.194           0.846\n",
              "L6.배송리드타임           -0.026421         0.011684           -2.261           0.024\n",
              "L6.구매시월령(수정)         0.108544         0.046315            2.344           0.019\n",
              "L6.구매금액              0.008812         0.043265            0.204           0.839\n",
              "===============================================================================\n",
              "\n",
              "Results for equation 구매금액\n",
              "===============================================================================\n",
              "                  coefficient       std. error           t-stat            prob\n",
              "-------------------------------------------------------------------------------\n",
              "const               -0.001902         0.004919           -0.387           0.699\n",
              "L1.배송리드타임            0.017591         0.011848            1.485           0.138\n",
              "L1.구매시월령(수정)         0.046762         0.047560            0.983           0.326\n",
              "L1.구매금액              0.615162         0.042516           14.469           0.000\n",
              "L2.배송리드타임            0.028321         0.011954            2.369           0.018\n",
              "L2.구매시월령(수정)        -0.003247         0.048378           -0.067           0.946\n",
              "L2.구매금액              0.046915         0.050485            0.929           0.353\n",
              "L3.배송리드타임           -0.018442         0.012063           -1.529           0.126\n",
              "L3.구매시월령(수정)         0.009284         0.048496            0.191           0.848\n",
              "L3.구매금액              0.106771         0.050732            2.105           0.035\n",
              "L4.배송리드타임            0.009871         0.012102            0.816           0.415\n",
              "L4.구매시월령(수정)        -0.019452         0.048236           -0.403           0.687\n",
              "L4.구매금액             -0.086066         0.050595           -1.701           0.089\n",
              "L5.배송리드타임            0.003555         0.012092            0.294           0.769\n",
              "L5.구매시월령(수정)         0.045883         0.047902            0.958           0.338\n",
              "L5.구매금액              0.053360         0.050416            1.058           0.290\n",
              "L6.배송리드타임            0.006880         0.011866            0.580           0.562\n",
              "L6.구매시월령(수정)        -0.011488         0.047038           -0.244           0.807\n",
              "L6.구매금액              0.107409         0.043940            2.444           0.015\n",
              "===============================================================================\n",
              "\n",
              "Correlation matrix of residuals\n",
              "               배송리드타임  구매시월령(수정)      구매금액\n",
              "배송리드타임       1.000000   0.423850 -0.110793\n",
              "구매시월령(수정)    0.423850   1.000000 -0.152833\n",
              "구매금액        -0.110793  -0.152833  1.000000\n",
              "\n"
            ]
          },
          "metadata": {},
          "execution_count": 16
        }
      ]
    },
    {
      "cell_type": "markdown",
      "source": [
        "#### VAR 분석을 진행한 결과 위의 내용과 같이 나왔으며 내용을 정리하면 다음과 같습니다.\n",
        "\n",
        "#### 구매금액 변수와 연관된 변수들 중에서 prob이 0.05보다 작아서 통계적으로 유의한 변수는 다음과 같습니다.\n",
        "####  L2.배송리드타임  : prob = 0.018 coef = 0.028321\n",
        "\n",
        "####  해당 결과를 해석하면 다음과 같은 회귀식이 나옵니다.\n",
        "####  구매금액 = 0.028321 * L2.배송리드타임\n",
        "\n",
        "####  위의 회귀식을 통하여 'L2.배송리드타임'이 증가하면 구매금액도 상승한다는 결론을 얻게 됩니다."
      ],
      "metadata": {
        "id": "RXfTu3Lscwoo"
      }
    },
    {
      "cell_type": "markdown",
      "source": [
        "## ARIMA"
      ],
      "metadata": {
        "id": "z2P_R5D6ThmW"
      }
    },
    {
      "cell_type": "code",
      "source": [
        "from statsmodels.graphics.tsaplots import plot_acf,plot_pacf\n",
        "\n",
        "p,axes= plt.subplots(1,2,figsize=(10,4))\n",
        "plot_acf(df_sales['구매금액'],ax=axes[0]) #q=0\n",
        "plot_pacf(df_sales['구매금액'],ax=axes[1]) #p=1\n",
        "plt.show()"
      ],
      "metadata": {
        "colab": {
          "base_uri": "https://localhost:8080/",
          "height": 284
        },
        "id": "zKfnwTr2vhc1",
        "outputId": "1b57711a-f9fc-4426-dc8a-c8f3da61c1c1"
      },
      "execution_count": null,
      "outputs": [
        {
          "output_type": "display_data",
          "data": {
            "text/plain": [
              "<Figure size 720x288 with 2 Axes>"
            ],
            "image/png": "[encoded data removed]"
          },
          "metadata": {}
        }
      ]
    },
    {
      "cell_type": "code",
      "source": [
        "df_sales['구매금액2']=df_sales['구매금액'].diff(1) #1차분\n",
        "df_sales.head()"
      ],
      "metadata": {
        "colab": {
          "base_uri": "https://localhost:8080/",
          "height": 354
        },
        "id": "G229TJQMv8OE",
        "outputId": "457d23b4-f813-4db8-8fb6-3dd655861937"
      },
      "execution_count": null,
      "outputs": [
        {
          "output_type": "execute_result",
          "data": {
            "text/plain": [
              "                         주문번호         구매일       배송시작일       배송완료일  배송리드타임  \\\n",
              "0  20200806162031-34198174203  2020-08-07  2020-08-08  2020-08-10       2   \n",
              "1  20200806163134-45961790432  2020-08-07  2020-08-08  2020-08-12       4   \n",
              "2  20200806225722-70597181454  2020-08-07  2020-08-08  2020-08-11       3   \n",
              "3  20200806170653-47561291568  2020-08-07  2020-08-08  2020-08-10       2   \n",
              "4  20200806190855-39842441181  2020-08-07  2020-08-08  2020-08-12       4   \n",
              "\n",
              "   구매시월령(수정)              고객번호   구매금액   결제금액 물품대분류  \\\n",
              "0       31.0  201901130758792    3000   3000   체험팩   \n",
              "1       14.0  201901140759534   42900  22076    팬티   \n",
              "2       30.0  201901140759701   11130   9400   SKC   \n",
              "3       27.0  201901150760795   11250  11100   FMC   \n",
              "4       18.0  201901190768109   11310   8580   SKC   \n",
              "\n",
              "                                    상품명    구매금액2  \n",
              "0                               맘큐 허그박스      NaN  \n",
              "1  2020 하기스 매직팬티 컴포트 썸머 4단계 공용 96매(팬티형)  39900.0  \n",
              "2        그린핑거 힘센보습 울트라 크리미오일 180ml (EA) -31770.0  \n",
              "3   크리넥스 비말차단용 스타일마스크 화이트 엠보 소형 3P (EA)    120.0  \n",
              "4           그린핑거 촉촉한 자연보습 워시 320ml (EA)     60.0  "
            ],
            "text/html": [
              "\n",
              "  <div id=\"df-3897f9d1-4945-4b10-b68a-24e9379cd975\">\n",
              "    <div class=\"colab-df-container\">\n",
              "      <div>\n",
              "<style scoped>\n",
              "    .dataframe tbody tr th:only-of-type {\n",
              "        vertical-align: middle;\n",
              "    }\n",
              "\n",
              "    .dataframe tbody tr th {\n",
              "        vertical-align: top;\n",
              "    }\n",
              "\n",
              "    .dataframe thead th {\n",
              "        text-align: right;\n",
              "    }\n",
              "</style>\n",
              "<table border=\"1\" class=\"dataframe\">\n",
              "  <thead>\n",
              "    <tr style=\"text-align: right;\">\n",
              "      <th></th>\n",
              "      <th>주문번호</th>\n",
              "      <th>구매일</th>\n",
              "      <th>배송시작일</th>\n",
              "      <th>배송완료일</th>\n",
              "      <th>배송리드타임</th>\n",
              "      <th>구매시월령(수정)</th>\n",
              "      <th>고객번호</th>\n",
              "      <th>구매금액</th>\n",
              "      <th>결제금액</th>\n",
              "      <th>물품대분류</th>\n",
              "      <th>상품명</th>\n",
              "      <th>구매금액2</th>\n",
              "    </tr>\n",
              "  </thead>\n",
              "  <tbody>\n",
              "    <tr>\n",
              "      <th>0</th>\n",
              "      <td>20200806162031-34198174203</td>\n",
              "      <td>2020-08-07</td>\n",
              "      <td>2020-08-08</td>\n",
              "      <td>2020-08-10</td>\n",
              "      <td>2</td>\n",
              "      <td>31.0</td>\n",
              "      <td>201901130758792</td>\n",
              "      <td>3000</td>\n",
              "      <td>3000</td>\n",
              "      <td>체험팩</td>\n",
              "      <td>맘큐 허그박스</td>\n",
              "      <td>NaN</td>\n",
              "    </tr>\n",
              "    <tr>\n",
              "      <th>1</th>\n",
              "      <td>20200806163134-45961790432</td>\n",
              "      <td>2020-08-07</td>\n",
              "      <td>2020-08-08</td>\n",
              "      <td>2020-08-12</td>\n",
              "      <td>4</td>\n",
              "      <td>14.0</td>\n",
              "      <td>201901140759534</td>\n",
              "      <td>42900</td>\n",
              "      <td>22076</td>\n",
              "      <td>팬티</td>\n",
              "      <td>2020 하기스 매직팬티 컴포트 썸머 4단계 공용 96매(팬티형)</td>\n",
              "      <td>39900.0</td>\n",
              "    </tr>\n",
              "    <tr>\n",
              "      <th>2</th>\n",
              "      <td>20200806225722-70597181454</td>\n",
              "      <td>2020-08-07</td>\n",
              "      <td>2020-08-08</td>\n",
              "      <td>2020-08-11</td>\n",
              "      <td>3</td>\n",
              "      <td>30.0</td>\n",
              "      <td>201901140759701</td>\n",
              "      <td>11130</td>\n",
              "      <td>9400</td>\n",
              "      <td>SKC</td>\n",
              "      <td>그린핑거 힘센보습 울트라 크리미오일 180ml (EA)</td>\n",
              "      <td>-31770.0</td>\n",
              "    </tr>\n",
              "    <tr>\n",
              "      <th>3</th>\n",
              "      <td>20200806170653-47561291568</td>\n",
              "      <td>2020-08-07</td>\n",
              "      <td>2020-08-08</td>\n",
              "      <td>2020-08-10</td>\n",
              "      <td>2</td>\n",
              "      <td>27.0</td>\n",
              "      <td>201901150760795</td>\n",
              "      <td>11250</td>\n",
              "      <td>11100</td>\n",
              "      <td>FMC</td>\n",
              "      <td>크리넥스 비말차단용 스타일마스크 화이트 엠보 소형 3P (EA)</td>\n",
              "      <td>120.0</td>\n",
              "    </tr>\n",
              "    <tr>\n",
              "      <th>4</th>\n",
              "      <td>20200806190855-39842441181</td>\n",
              "      <td>2020-08-07</td>\n",
              "      <td>2020-08-08</td>\n",
              "      <td>2020-08-12</td>\n",
              "      <td>4</td>\n",
              "      <td>18.0</td>\n",
              "      <td>201901190768109</td>\n",
              "      <td>11310</td>\n",
              "      <td>8580</td>\n",
              "      <td>SKC</td>\n",
              "      <td>그린핑거 촉촉한 자연보습 워시 320ml (EA)</td>\n",
              "      <td>60.0</td>\n",
              "    </tr>\n",
              "  </tbody>\n",
              "</table>\n",
              "</div>\n",
              "      <button class=\"colab-df-convert\" onclick=\"convertToInteractive('df-3897f9d1-4945-4b10-b68a-24e9379cd975')\"\n",
              "              title=\"Convert this dataframe to an interactive table.\"\n",
              "              style=\"display:none;\">\n",
              "        \n",
              "  <svg xmlns=\"http://www.w3.org/2000/svg\" height=\"24px\"viewBox=\"0 0 24 24\"\n",
              "       width=\"24px\">\n",
              "    <path d=\"M0 0h24v24H0V0z\" fill=\"none\"/>\n",
              "    <path d=\"M18.56 5.44l.94 2.06.94-2.06 2.06-.94-2.06-.94-.94-2.06-.94 2.06-2.06.94zm-11 1L8.5 8.5l.94-2.06 2.06-.94-2.06-.94L8.5 2.5l-.94 2.06-2.06.94zm10 10l.94 2.06.94-2.06 2.06-.94-2.06-.94-.94-2.06-.94 2.06-2.06.94z\"/><path d=\"M17.41 7.96l-1.37-1.37c-.4-.4-.92-.59-1.43-.59-.52 0-1.04.2-1.43.59L10.3 9.45l-7.72 7.72c-.78.78-.78 2.05 0 2.83L4 21.41c.39.39.9.59 1.41.59.51 0 1.02-.2 1.41-.59l7.78-7.78 2.81-2.81c.8-.78.8-2.07 0-2.86zM5.41 20L4 18.59l7.72-7.72 1.47 1.35L5.41 20z\"/>\n",
              "  </svg>\n",
              "      </button>\n",
              "      \n",
              "  <style>\n",
              "    .colab-df-container {\n",
              "      display:flex;\n",
              "      flex-wrap:wrap;\n",
              "      gap: 12px;\n",
              "    }\n",
              "\n",
              "    .colab-df-convert {\n",
              "      background-color: #E8F0FE;\n",
              "      border: none;\n",
              "      border-radius: 50%;\n",
              "      cursor: pointer;\n",
              "      display: none;\n",
              "      fill: #1967D2;\n",
              "      height: 32px;\n",
              "      padding: 0 0 0 0;\n",
              "      width: 32px;\n",
              "    }\n",
              "\n",
              "    .colab-df-convert:hover {\n",
              "      background-color: #E2EBFA;\n",
              "      box-shadow: 0px 1px 2px rgba(60, 64, 67, 0.3), 0px 1px 3px 1px rgba(60, 64, 67, 0.15);\n",
              "      fill: #174EA6;\n",
              "    }\n",
              "\n",
              "    [theme=dark] .colab-df-convert {\n",
              "      background-color: #3B4455;\n",
              "      fill: #D2E3FC;\n",
              "    }\n",
              "\n",
              "    [theme=dark] .colab-df-convert:hover {\n",
              "      background-color: #434B5C;\n",
              "      box-shadow: 0px 1px 3px 1px rgba(0, 0, 0, 0.15);\n",
              "      filter: drop-shadow(0px 1px 2px rgba(0, 0, 0, 0.3));\n",
              "      fill: #FFFFFF;\n",
              "    }\n",
              "  </style>\n",
              "\n",
              "      <script>\n",
              "        const buttonEl =\n",
              "          document.querySelector('#df-3897f9d1-4945-4b10-b68a-24e9379cd975 button.colab-df-convert');\n",
              "        buttonEl.style.display =\n",
              "          google.colab.kernel.accessAllowed ? 'block' : 'none';\n",
              "\n",
              "        async function convertToInteractive(key) {\n",
              "          const element = document.querySelector('#df-3897f9d1-4945-4b10-b68a-24e9379cd975');\n",
              "          const dataTable =\n",
              "            await google.colab.kernel.invokeFunction('convertToInteractive',\n",
              "                                                     [key], {});\n",
              "          if (!dataTable) return;\n",
              "\n",
              "          const docLinkHtml = 'Like what you see? Visit the ' +\n",
              "            '<a target=\"_blank\" href=https://colab.research.google.com/notebooks/data_table.ipynb>data table notebook</a>'\n",
              "            + ' to learn more about interactive tables.';\n",
              "          element.innerHTML = '';\n",
              "          dataTable['output_type'] = 'display_data';\n",
              "          await google.colab.output.renderOutput(dataTable, element);\n",
              "          const docLink = document.createElement('div');\n",
              "          docLink.innerHTML = docLinkHtml;\n",
              "          element.appendChild(docLink);\n",
              "        }\n",
              "      </script>\n",
              "    </div>\n",
              "  </div>\n",
              "  "
            ]
          },
          "metadata": {},
          "execution_count": 19
        }
      ]
    },
    {
      "cell_type": "code",
      "source": [
        "p,axes= plt.subplots(1,2,figsize=(10,4))\n",
        "plot_acf(df_sales['구매금액2'].iloc[1:],ax=axes[0]) \n",
        "plot_pacf(df_sales['구매금액2'].iloc[1:],ax=axes[1]) \n",
        "plt.show()"
      ],
      "metadata": {
        "colab": {
          "base_uri": "https://localhost:8080/",
          "height": 284
        },
        "id": "w_LpW1chwMjY",
        "outputId": "e7e206a8-4e86-4455-989f-376c01d5a6a6"
      },
      "execution_count": null,
      "outputs": [
        {
          "output_type": "display_data",
          "data": {
            "text/plain": [
              "<Figure size 720x288 with 2 Axes>"
            ],
            "image/png": "[encoded data removed]"
          },
          "metadata": {}
        }
      ]
    },
    {
      "cell_type": "code",
      "source": [
        "# Summary\n",
        "from statsmodels.tsa.arima_model import ARIMA\n",
        "\n",
        "# (AR = 1, 차분 =1, MA=0) 파라미터로 ARIMA 모델을 학습한다.\n",
        "model=ARIMA(df_sales['구매금액2'].iloc[1:],order=(1,1,0))\n",
        "fit_res=model.fit()\n",
        "print(fit_res.summary())"
      ],
      "metadata": {
        "colab": {
          "base_uri": "https://localhost:8080/"
        },
        "id": "OtIss9qCwcXL",
        "outputId": "3a3a1ed8-2157-4d73-e6c1-1382eda21a51"
      },
      "execution_count": null,
      "outputs": [
        {
          "output_type": "stream",
          "name": "stderr",
          "text": [
            "/usr/local/lib/python3.7/dist-packages/statsmodels/tsa/arima_model.py:472: FutureWarning: \n",
            "statsmodels.tsa.arima_model.ARMA and statsmodels.tsa.arima_model.ARIMA have\n",
            "been deprecated in favor of statsmodels.tsa.arima.model.ARIMA (note the .\n",
            "between arima and model) and\n",
            "statsmodels.tsa.SARIMAX. These will be removed after the 0.12 release.\n",
            "\n",
            "statsmodels.tsa.arima.model.ARIMA makes use of the statespace framework and\n",
            "is both well tested and maintained.\n",
            "\n",
            "To silence this warning and continue using ARMA and ARIMA until they are\n",
            "removed, use:\n",
            "\n",
            "import warnings\n",
            "warnings.filterwarnings('ignore', 'statsmodels.tsa.arima_model.ARMA',\n",
            "                        FutureWarning)\n",
            "warnings.filterwarnings('ignore', 'statsmodels.tsa.arima_model.ARIMA',\n",
            "                        FutureWarning)\n",
            "\n",
            "  warnings.warn(ARIMA_DEPRECATION_WARN, FutureWarning)\n"
          ]
        },
        {
          "output_type": "stream",
          "name": "stdout",
          "text": [
            "                             ARIMA Model Results                              \n",
            "==============================================================================\n",
            "Dep. Variable:                D.구매금액2   No. Observations:               199997\n",
            "Model:                 ARIMA(1, 1, 0)   Log Likelihood            -2458813.212\n",
            "Method:                       css-mle   S.D. of innovations          52855.156\n",
            "Date:                Mon, 22 Aug 2022   AIC                        4917632.423\n",
            "Time:                        17:55:48   BIC                        4917663.041\n",
            "Sample:                             1   HQIC                       4917641.435\n",
            "                                                                              \n",
            "=================================================================================\n",
            "                    coef    std err          z      P>|z|      [0.025      0.975]\n",
            "---------------------------------------------------------------------------------\n",
            "const            -0.3755     71.434     -0.005      0.996    -140.383     139.632\n",
            "ar.L1.D.구매금액2    -0.6545      0.002   -387.158      0.000      -0.658      -0.651\n",
            "                                    Roots                                    \n",
            "=============================================================================\n",
            "                  Real          Imaginary           Modulus         Frequency\n",
            "-----------------------------------------------------------------------------\n",
            "AR.1           -1.5278           +0.0000j            1.5278            0.5000\n",
            "-----------------------------------------------------------------------------\n"
          ]
        }
      ]
    },
    {
      "cell_type": "code",
      "source": [
        "#학습 데이터에 대한 예측 결과\n",
        "fit_res.plot_predict()\n",
        "#plt.figure(figsize = (10,4))\n",
        "sns.set(rc={'figure.figsize':(6,4)})\n",
        "plt.show()"
      ],
      "metadata": {
        "colab": {
          "base_uri": "https://localhost:8080/",
          "height": 270
        },
        "id": "C44DZTTJwosy",
        "outputId": "b6ccbe78-1c20-4449-e3a4-b9eddce1ed4d"
      },
      "execution_count": null,
      "outputs": [
        {
          "output_type": "display_data",
          "data": {
            "text/plain": [
              "<Figure size 432x288 with 1 Axes>"
            ],
            "image/png": "[encoded data removed]"
          },
          "metadata": {
            "needs_background": "light"
          }
        }
      ]
    },
    {
      "cell_type": "code",
      "source": [
        "residuals = pd.DataFrame(fit_res.resid)\n",
        "residuals.plot(title = \"실제값과 예측값의 잔차\")"
      ],
      "metadata": {
        "colab": {
          "base_uri": "https://localhost:8080/",
          "height": 303
        },
        "id": "X6NxRI4otBU4",
        "outputId": "e4747c4c-e808-4900-f88d-71abb879460b"
      },
      "execution_count": null,
      "outputs": [
        {
          "output_type": "execute_result",
          "data": {
            "text/plain": [
              "<matplotlib.axes._subplots.AxesSubplot at 0x7fe520e87f90>"
            ]
          },
          "metadata": {},
          "execution_count": 30
        },
        {
          "output_type": "display_data",
          "data": {
            "text/plain": [
              "<Figure size 432x288 with 1 Axes>"
            ],
            "image/png": "[encoded data removed]"
          },
          "metadata": {
            "needs_background": "light"
          }
        }
      ]
    }
  ]
}