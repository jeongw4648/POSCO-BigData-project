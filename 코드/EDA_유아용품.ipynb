{
 "cells": [
  {
   "cell_type": "code",
   "execution_count": 26,
   "id": "02c119d3",
   "metadata": {},
   "outputs": [
    {
     "name": "stdout",
     "output_type": "stream",
     "text": [
      "Collecting missingno\n",
      "  Downloading missingno-0.5.1-py3-none-any.whl (8.7 kB)\n",
      "Requirement already satisfied: matplotlib in c:\\users\\insea\\anaconda3\\lib\\site-packages (from missingno) (3.3.1)\n",
      "Requirement already satisfied: numpy in c:\\users\\insea\\anaconda3\\lib\\site-packages (from missingno) (1.19.1)\n",
      "Requirement already satisfied: seaborn in c:\\users\\insea\\anaconda3\\lib\\site-packages (from missingno) (0.11.2)\n",
      "Requirement already satisfied: scipy in c:\\users\\insea\\anaconda3\\lib\\site-packages (from missingno) (1.5.2)\n",
      "Requirement already satisfied: pillow>=6.2.0 in c:\\users\\insea\\anaconda3\\lib\\site-packages (from matplotlib->missingno) (8.0.0)\n",
      "Requirement already satisfied: pyparsing!=2.0.4,!=2.1.2,!=2.1.6,>=2.0.3 in c:\\users\\insea\\anaconda3\\lib\\site-packages (from matplotlib->missingno) (3.0.4)\n",
      "Requirement already satisfied: cycler>=0.10 in c:\\users\\insea\\anaconda3\\lib\\site-packages (from matplotlib->missingno) (0.11.0)\n",
      "Requirement already satisfied: kiwisolver>=1.0.1 in c:\\users\\insea\\anaconda3\\lib\\site-packages (from matplotlib->missingno) (1.3.1)\n",
      "Requirement already satisfied: certifi>=2020.06.20 in c:\\users\\insea\\anaconda3\\lib\\site-packages (from matplotlib->missingno) (2021.5.30)\n",
      "Requirement already satisfied: python-dateutil>=2.1 in c:\\users\\insea\\anaconda3\\lib\\site-packages (from matplotlib->missingno) (2.8.2)\n",
      "Requirement already satisfied: six>=1.5 in c:\\users\\insea\\anaconda3\\lib\\site-packages (from python-dateutil>=2.1->matplotlib->missingno) (1.16.0)\n",
      "Requirement already satisfied: pandas>=0.23 in c:\\users\\insea\\anaconda3\\lib\\site-packages (from seaborn->missingno) (1.1.3)\n",
      "Requirement already satisfied: pytz>=2017.2 in c:\\users\\insea\\anaconda3\\lib\\site-packages (from pandas>=0.23->seaborn->missingno) (2021.3)\n",
      "Installing collected packages: missingno\n",
      "Successfully installed missingno-0.5.1\n"
     ]
    }
   ],
   "source": [
    "#! pip install missingno"
   ]
  },
  {
   "cell_type": "code",
   "execution_count": 27,
   "id": "464b1615",
   "metadata": {},
   "outputs": [],
   "source": [
    "import pandas as pd\n",
    "import numpy as np\n",
    "\n",
    "import matplotlib.pyplot as plt\n",
    "import matplotlib\n",
    "import seaborn as sns\n",
    "\n",
    "\n",
    "matplotlib.rcParams['font.family'] ='Malgun Gothic'\n",
    "matplotlib.rcParams['axes.unicode_minus'] =False\n",
    "\n",
    "from sklearn.preprocessing import StandardScaler # Scale 변환 -> 표준화 회귀계수 산출\n",
    "from sklearn.model_selection import train_test_split\n",
    "import missingno as msno"
   ]
  },
  {
   "cell_type": "code",
   "execution_count": 2,
   "id": "e9e5f86f",
   "metadata": {},
   "outputs": [
    {
     "name": "stderr",
     "output_type": "stream",
     "text": [
      "C:\\Users\\insea\\Anaconda3\\lib\\site-packages\\IPython\\core\\interactiveshell.py:3072: DtypeWarning: Columns (5) have mixed types.Specify dtype option on import or set low_memory=False.\n",
      "  interactivity=interactivity, compiler=compiler, result=result)\n"
     ]
    },
    {
     "data": {
      "text/html": [
       "<div>\n",
       "<style scoped>\n",
       "    .dataframe tbody tr th:only-of-type {\n",
       "        vertical-align: middle;\n",
       "    }\n",
       "\n",
       "    .dataframe tbody tr th {\n",
       "        vertical-align: top;\n",
       "    }\n",
       "\n",
       "    .dataframe thead th {\n",
       "        text-align: right;\n",
       "    }\n",
       "</style>\n",
       "<table border=\"1\" class=\"dataframe\">\n",
       "  <thead>\n",
       "    <tr style=\"text-align: right;\">\n",
       "      <th></th>\n",
       "      <th>주문번호</th>\n",
       "      <th>구매일</th>\n",
       "      <th>배송시작일</th>\n",
       "      <th>배송완료일</th>\n",
       "      <th>월령</th>\n",
       "      <th>고객번호</th>\n",
       "      <th>구매금액</th>\n",
       "      <th>결제금액</th>\n",
       "      <th>물품대분류</th>\n",
       "      <th>상품명</th>\n",
       "    </tr>\n",
       "  </thead>\n",
       "  <tbody>\n",
       "    <tr>\n",
       "      <th>0</th>\n",
       "      <td>201905052342970</td>\n",
       "      <td>2019-05-06</td>\n",
       "      <td>2019-05-07</td>\n",
       "      <td>2019-05-11</td>\n",
       "      <td>4.0</td>\n",
       "      <td>201812310749735</td>\n",
       "      <td>25800</td>\n",
       "      <td>16314</td>\n",
       "      <td>더블하트</td>\n",
       "      <td>더블하트 SofTouch 모유실감 젖꼭지 M (2입)</td>\n",
       "    </tr>\n",
       "    <tr>\n",
       "      <th>1</th>\n",
       "      <td>202002203424450</td>\n",
       "      <td>2020-02-20</td>\n",
       "      <td>2020-02-21</td>\n",
       "      <td>2020-02-23</td>\n",
       "      <td>14.0</td>\n",
       "      <td>201812310749735</td>\n",
       "      <td>51200</td>\n",
       "      <td>37769</td>\n",
       "      <td>팬티</td>\n",
       "      <td>NEW 하기스 맥스드라이 팬티 5단계 남아 80매(팬티형)</td>\n",
       "    </tr>\n",
       "    <tr>\n",
       "      <th>2</th>\n",
       "      <td>201902282095385</td>\n",
       "      <td>2019-02-28</td>\n",
       "      <td>2019-03-01</td>\n",
       "      <td>2019-03-05</td>\n",
       "      <td>NaN</td>\n",
       "      <td>201812310749770</td>\n",
       "      <td>5610</td>\n",
       "      <td>3800</td>\n",
       "      <td>FMC</td>\n",
       "      <td>크리넥스？키즈용？화장지？3겹？27m 8롤</td>\n",
       "    </tr>\n",
       "  </tbody>\n",
       "</table>\n",
       "</div>"
      ],
      "text/plain": [
       "              주문번호         구매일       배송시작일       배송완료일    월령             고객번호  \\\n",
       "0  201905052342970  2019-05-06  2019-05-07  2019-05-11   4.0  201812310749735   \n",
       "1  202002203424450  2020-02-20  2020-02-21  2020-02-23  14.0  201812310749735   \n",
       "2  201902282095385  2019-02-28  2019-03-01  2019-03-05   NaN  201812310749770   \n",
       "\n",
       "    구매금액   결제금액 물품대분류                               상품명  \n",
       "0  25800  16314  더블하트     더블하트 SofTouch 모유실감 젖꼭지 M (2입)  \n",
       "1  51200  37769    팬티  NEW 하기스 맥스드라이 팬티 5단계 남아 80매(팬티형)  \n",
       "2   5610   3800   FMC            크리넥스？키즈용？화장지？3겹？27m 8롤  "
      ]
     },
     "execution_count": 2,
     "metadata": {},
     "output_type": "execute_result"
    }
   ],
   "source": [
    "path = 'C:/Users/insea/Desktop/study/posco academy/프로젝트/데이터분석/유아용품_데이터/Sales_data.csv'\n",
    "df_sales = pd.read_csv(path, encoding='utf-8')\n",
    "df_sales.rename(columns={'구매시월령(수정)':'월령'},inplace=True);\n",
    "df_sales.head(3)"
   ]
  },
  {
   "cell_type": "code",
   "execution_count": 3,
   "id": "a3359112",
   "metadata": {},
   "outputs": [
    {
     "data": {
      "text/html": [
       "<div>\n",
       "<style scoped>\n",
       "    .dataframe tbody tr th:only-of-type {\n",
       "        vertical-align: middle;\n",
       "    }\n",
       "\n",
       "    .dataframe tbody tr th {\n",
       "        vertical-align: top;\n",
       "    }\n",
       "\n",
       "    .dataframe thead th {\n",
       "        text-align: right;\n",
       "    }\n",
       "</style>\n",
       "<table border=\"1\" class=\"dataframe\">\n",
       "  <thead>\n",
       "    <tr style=\"text-align: right;\">\n",
       "      <th></th>\n",
       "      <th>물품대분류</th>\n",
       "      <th>상품명</th>\n",
       "      <th>물품판매량</th>\n",
       "      <th>제품단가</th>\n",
       "    </tr>\n",
       "  </thead>\n",
       "  <tbody>\n",
       "    <tr>\n",
       "      <th>0</th>\n",
       "      <td>FC</td>\n",
       "      <td>(1+1) 좋은느낌 입는 오버나이트 대형 8개입</td>\n",
       "      <td>15</td>\n",
       "      <td>0</td>\n",
       "    </tr>\n",
       "    <tr>\n",
       "      <th>1</th>\n",
       "      <td>FC</td>\n",
       "      <td>(1+1) 좋은느낌 입는 오버나이트 중형 8개입</td>\n",
       "      <td>10</td>\n",
       "      <td>0</td>\n",
       "    </tr>\n",
       "    <tr>\n",
       "      <th>2</th>\n",
       "      <td>FC</td>\n",
       "      <td>(1+1) 화이트 입는 오버나이트 대형 L 8개입 (EA)</td>\n",
       "      <td>27</td>\n",
       "      <td>0</td>\n",
       "    </tr>\n",
       "  </tbody>\n",
       "</table>\n",
       "</div>"
      ],
      "text/plain": [
       "  물품대분류                               상품명  물품판매량  제품단가\n",
       "0    FC        (1+1) 좋은느낌 입는 오버나이트 대형 8개입     15     0\n",
       "1    FC        (1+1) 좋은느낌 입는 오버나이트 중형 8개입     10     0\n",
       "2    FC  (1+1) 화이트 입는 오버나이트 대형 L 8개입 (EA)     27     0"
      ]
     },
     "execution_count": 3,
     "metadata": {},
     "output_type": "execute_result"
    }
   ],
   "source": [
    "path = 'C:/Users/insea/Desktop/study/posco academy/프로젝트/데이터분석/유아용품_데이터/Product_data.csv'\n",
    "df_products = pd.read_csv(path, encoding='utf-8')\n",
    "df_products.head(3)"
   ]
  },
  {
   "cell_type": "code",
   "execution_count": 3,
   "id": "a2606102",
   "metadata": {},
   "outputs": [],
   "source": []
  },
  {
   "cell_type": "code",
   "execution_count": 4,
   "id": "86efae6e",
   "metadata": {},
   "outputs": [
    {
     "data": {
      "text/plain": [
       "(199999, 10)"
      ]
     },
     "execution_count": 4,
     "metadata": {},
     "output_type": "execute_result"
    }
   ],
   "source": [
    "df_sales.shape"
   ]
  },
  {
   "cell_type": "markdown",
   "id": "91ae69cb",
   "metadata": {},
   "source": [
    "# 결측치 처리"
   ]
  },
  {
   "cell_type": "code",
   "execution_count": 5,
   "id": "3c448822",
   "metadata": {
    "scrolled": false
   },
   "outputs": [
    {
     "data": {
      "text/plain": [
       "주문번호         0\n",
       "구매일          0\n",
       "배송시작일        0\n",
       "배송완료일        0\n",
       "월령       31857\n",
       "고객번호         0\n",
       "구매금액         0\n",
       "결제금액         0\n",
       "물품대분류        0\n",
       "상품명          0\n",
       "dtype: int64"
      ]
     },
     "execution_count": 5,
     "metadata": {},
     "output_type": "execute_result"
    }
   ],
   "source": [
    "df_sales.isnull().sum()"
   ]
  },
  {
   "cell_type": "markdown",
   "id": "bf8a011f",
   "metadata": {},
   "source": [
    "# 이상치 처리 "
   ]
  },
  {
   "cell_type": "code",
   "execution_count": 4,
   "id": "a078a96b",
   "metadata": {},
   "outputs": [],
   "source": [
    "df_sales_num = df_sales.select_dtypes(exclude= 'object' )"
   ]
  },
  {
   "cell_type": "code",
   "execution_count": 5,
   "id": "d39b5487",
   "metadata": {
    "scrolled": true
   },
   "outputs": [
    {
     "data": {
      "image/png": "[encoded data removed]",
      "text/plain": [
       "<Figure size 432x288 with 1 Axes>"
      ]
     },
     "metadata": {
      "needs_background": "light"
     },
     "output_type": "display_data"
    }
   ],
   "source": [
    "pd.DataFrame(df_sales_num.iloc[:,0]).boxplot();"
   ]
  },
  {
   "cell_type": "code",
   "execution_count": 6,
   "id": "4d49197e",
   "metadata": {},
   "outputs": [
    {
     "data": {
      "image/png": "[encoded data removed]",
      "text/plain": [
       "<Figure size 432x288 with 1 Axes>"
      ]
     },
     "metadata": {
      "needs_background": "light"
     },
     "output_type": "display_data"
    }
   ],
   "source": [
    "pd.DataFrame(df_sales_num.iloc[:,1:]).boxplot();"
   ]
  },
  {
   "cell_type": "code",
   "execution_count": 16,
   "id": "eeda84e6",
   "metadata": {},
   "outputs": [],
   "source": [
    "# 이상치 제거 \n",
    "def del_outlier(df,col,w):\n",
    "    q_1 = df[col].quantile(0.25)\n",
    "    q_3 = df[col].quantile(0.75)\n",
    "    IQR = q_3 - q_1\n",
    "    lower = q_1 - w * IQR\n",
    "    upper = q_3 + w * IQR\n",
    "    df[col] = df[col][df[col]>=lower]\n",
    "    df[col] = df[col][df[col]<=upper]"
   ]
  },
  {
   "cell_type": "code",
   "execution_count": 17,
   "id": "9667eb19",
   "metadata": {},
   "outputs": [
    {
     "data": {
      "text/plain": [
       "주문번호     0\n",
       "구매일      0\n",
       "배송시작일    0\n",
       "배송완료일    0\n",
       "월령       0\n",
       "고객번호     0\n",
       "구매금액     0\n",
       "결제금액     0\n",
       "물품대분류    0\n",
       "상품명      0\n",
       "dtype: int64"
      ]
     },
     "execution_count": 17,
     "metadata": {},
     "output_type": "execute_result"
    }
   ],
   "source": [
    "# PM10, WIND의 이상치 제거\n",
    "outlier_list=['월령', '구매금액', '결제금액']\n",
    "for i in outlier_list:\n",
    "    del_outlier(df_sales,i, 1.5)\n",
    "df_sales.isnull().sum()"
   ]
  },
  {
   "cell_type": "code",
   "execution_count": 18,
   "id": "fefd53ce",
   "metadata": {},
   "outputs": [],
   "source": [
    "df_sales.dropna(inplace=True)"
   ]
  },
  {
   "cell_type": "code",
   "execution_count": 24,
   "id": "a42b61c1",
   "metadata": {},
   "outputs": [
    {
     "data": {
      "text/plain": [
       "<Figure size 720x360 with 0 Axes>"
      ]
     },
     "execution_count": 24,
     "metadata": {},
     "output_type": "execute_result"
    },
    {
     "data": {
      "image/png": "[encoded data removed]",
      "text/plain": [
       "<Figure size 432x288 with 1 Axes>"
      ]
     },
     "metadata": {
      "needs_background": "light"
     },
     "output_type": "display_data"
    },
    {
     "data": {
      "text/plain": [
       "<Figure size 720x360 with 0 Axes>"
      ]
     },
     "metadata": {},
     "output_type": "display_data"
    }
   ],
   "source": [
    "pd.DataFrame(df_sales_num.iloc[:,0]).boxplot();"
   ]
  },
  {
   "cell_type": "code",
   "execution_count": 20,
   "id": "72403ec4",
   "metadata": {},
   "outputs": [
    {
     "data": {
      "image/png": "[encoded data removed]",
      "text/plain": [
       "<Figure size 432x288 with 1 Axes>"
      ]
     },
     "metadata": {
      "needs_background": "light"
     },
     "output_type": "display_data"
    }
   ],
   "source": [
    "pd.DataFrame(df_sales_num.iloc[:,1:]).boxplot();"
   ]
  },
  {
   "cell_type": "code",
   "execution_count": 13,
   "id": "feec0c5e",
   "metadata": {},
   "outputs": [
    {
     "data": {
      "text/plain": [
       "주문번호         0\n",
       "구매일          0\n",
       "배송시작일        0\n",
       "배송완료일        0\n",
       "월령       52328\n",
       "고객번호         0\n",
       "구매금액      4165\n",
       "결제금액      5374\n",
       "물품대분류        0\n",
       "상품명          0\n",
       "dtype: int64"
      ]
     },
     "execution_count": 13,
     "metadata": {},
     "output_type": "execute_result"
    }
   ],
   "source": [
    "# 제거된 이상치 수\n",
    "df_sales.isnull().sum()"
   ]
  },
  {
   "cell_type": "markdown",
   "id": "5e1d5449",
   "metadata": {},
   "source": [
    "# 월령 관련 분포 "
   ]
  },
  {
   "cell_type": "code",
   "execution_count": 14,
   "id": "2ea05470",
   "metadata": {},
   "outputs": [
    {
     "data": {
      "text/html": [
       "<div>\n",
       "<style scoped>\n",
       "    .dataframe tbody tr th:only-of-type {\n",
       "        vertical-align: middle;\n",
       "    }\n",
       "\n",
       "    .dataframe tbody tr th {\n",
       "        vertical-align: top;\n",
       "    }\n",
       "\n",
       "    .dataframe thead th {\n",
       "        text-align: right;\n",
       "    }\n",
       "</style>\n",
       "<table border=\"1\" class=\"dataframe\">\n",
       "  <thead>\n",
       "    <tr style=\"text-align: right;\">\n",
       "      <th></th>\n",
       "      <th>주문번호</th>\n",
       "      <th>구매일</th>\n",
       "      <th>배송시작일</th>\n",
       "      <th>배송완료일</th>\n",
       "      <th>월령</th>\n",
       "      <th>고객번호</th>\n",
       "      <th>구매금액</th>\n",
       "      <th>결제금액</th>\n",
       "      <th>물품대분류</th>\n",
       "      <th>상품명</th>\n",
       "    </tr>\n",
       "  </thead>\n",
       "  <tbody>\n",
       "    <tr>\n",
       "      <th>0</th>\n",
       "      <td>201905052342970</td>\n",
       "      <td>2019-05-06</td>\n",
       "      <td>2019-05-07</td>\n",
       "      <td>2019-05-11</td>\n",
       "      <td>4.0</td>\n",
       "      <td>201812310749735</td>\n",
       "      <td>25800.0</td>\n",
       "      <td>16314.0</td>\n",
       "      <td>더블하트</td>\n",
       "      <td>더블하트 SofTouch 모유실감 젖꼭지 M (2입)</td>\n",
       "    </tr>\n",
       "    <tr>\n",
       "      <th>1</th>\n",
       "      <td>202002203424450</td>\n",
       "      <td>2020-02-20</td>\n",
       "      <td>2020-02-21</td>\n",
       "      <td>2020-02-23</td>\n",
       "      <td>14.0</td>\n",
       "      <td>201812310749735</td>\n",
       "      <td>51200.0</td>\n",
       "      <td>37769.0</td>\n",
       "      <td>팬티</td>\n",
       "      <td>NEW 하기스 맥스드라이 팬티 5단계 남아 80매(팬티형)</td>\n",
       "    </tr>\n",
       "    <tr>\n",
       "      <th>2</th>\n",
       "      <td>201902282095385</td>\n",
       "      <td>2019-02-28</td>\n",
       "      <td>2019-03-01</td>\n",
       "      <td>2019-03-05</td>\n",
       "      <td>NaN</td>\n",
       "      <td>201812310749770</td>\n",
       "      <td>5610.0</td>\n",
       "      <td>3800.0</td>\n",
       "      <td>FMC</td>\n",
       "      <td>크리넥스？키즈용？화장지？3겹？27m 8롤</td>\n",
       "    </tr>\n",
       "    <tr>\n",
       "      <th>3</th>\n",
       "      <td>201905132367003</td>\n",
       "      <td>2019-05-13</td>\n",
       "      <td>2019-05-14</td>\n",
       "      <td>2019-05-16</td>\n",
       "      <td>NaN</td>\n",
       "      <td>201812310749771</td>\n",
       "      <td>59520.0</td>\n",
       "      <td>47922.0</td>\n",
       "      <td>기저귀</td>\n",
       "      <td>하기스 네이처메이드 밤부 3단계 여아 144매(밴드형)</td>\n",
       "    </tr>\n",
       "    <tr>\n",
       "      <th>4</th>\n",
       "      <td>201905092356247</td>\n",
       "      <td>2019-05-10</td>\n",
       "      <td>2019-05-11</td>\n",
       "      <td>2019-05-13</td>\n",
       "      <td>5.0</td>\n",
       "      <td>201812310749774</td>\n",
       "      <td>50640.0</td>\n",
       "      <td>39788.0</td>\n",
       "      <td>기저귀</td>\n",
       "      <td>하기스 에어솔솔 썸머기저귀 3단계 공용 144매(밴드형)</td>\n",
       "    </tr>\n",
       "    <tr>\n",
       "      <th>...</th>\n",
       "      <td>...</td>\n",
       "      <td>...</td>\n",
       "      <td>...</td>\n",
       "      <td>...</td>\n",
       "      <td>...</td>\n",
       "      <td>...</td>\n",
       "      <td>...</td>\n",
       "      <td>...</td>\n",
       "      <td>...</td>\n",
       "      <td>...</td>\n",
       "    </tr>\n",
       "    <tr>\n",
       "      <th>199994</th>\n",
       "      <td>20200724113704-52679491210</td>\n",
       "      <td>2020-07-24</td>\n",
       "      <td>2020-07-25</td>\n",
       "      <td>2020-07-27</td>\n",
       "      <td>5.0</td>\n",
       "      <td>20200724113017315991</td>\n",
       "      <td>11700.0</td>\n",
       "      <td>9240.0</td>\n",
       "      <td>FMC</td>\n",
       "      <td>크리넥스 뽑아쓰는 키친타월 펭수에디션 140매 X 4입 (EA)</td>\n",
       "    </tr>\n",
       "    <tr>\n",
       "      <th>199995</th>\n",
       "      <td>20200729134816-18220910068</td>\n",
       "      <td>2020-07-29</td>\n",
       "      <td>2020-07-30</td>\n",
       "      <td>2020-08-01</td>\n",
       "      <td>NaN</td>\n",
       "      <td>20200729134409126553</td>\n",
       "      <td>3000.0</td>\n",
       "      <td>3000.0</td>\n",
       "      <td>체험팩</td>\n",
       "      <td>맘큐 허그박스</td>\n",
       "    </tr>\n",
       "    <tr>\n",
       "      <th>199996</th>\n",
       "      <td>20200803080150-09054399128</td>\n",
       "      <td>2020-08-03</td>\n",
       "      <td>2020-08-04</td>\n",
       "      <td>2020-08-07</td>\n",
       "      <td>5.0</td>\n",
       "      <td>20200803075905757887</td>\n",
       "      <td>5900.0</td>\n",
       "      <td>5841.0</td>\n",
       "      <td>체험팩</td>\n",
       "      <td>NEW 하기스 맥스드라이 팬티 3단계 공용 20매(팬티형/체험팩) (EA)</td>\n",
       "    </tr>\n",
       "    <tr>\n",
       "      <th>199997</th>\n",
       "      <td>20200805171023-18783441109</td>\n",
       "      <td>2020-08-06</td>\n",
       "      <td>2020-08-07</td>\n",
       "      <td>2020-08-11</td>\n",
       "      <td>NaN</td>\n",
       "      <td>20200805170229147688</td>\n",
       "      <td>3000.0</td>\n",
       "      <td>3000.0</td>\n",
       "      <td>체험팩</td>\n",
       "      <td>맘큐 허그박스</td>\n",
       "    </tr>\n",
       "    <tr>\n",
       "      <th>199998</th>\n",
       "      <td>20200805224157-34181488371</td>\n",
       "      <td>2020-08-06</td>\n",
       "      <td>2020-08-07</td>\n",
       "      <td>2020-08-09</td>\n",
       "      <td>NaN</td>\n",
       "      <td>20200805223526494551</td>\n",
       "      <td>8500.0</td>\n",
       "      <td>8500.0</td>\n",
       "      <td>기타</td>\n",
       "      <td>[먼치킨] 멀티 젖병솔 세트</td>\n",
       "    </tr>\n",
       "  </tbody>\n",
       "</table>\n",
       "<p>199999 rows × 10 columns</p>\n",
       "</div>"
      ],
      "text/plain": [
       "                              주문번호         구매일       배송시작일       배송완료일    월령  \\\n",
       "0                  201905052342970  2019-05-06  2019-05-07  2019-05-11   4.0   \n",
       "1                  202002203424450  2020-02-20  2020-02-21  2020-02-23  14.0   \n",
       "2                  201902282095385  2019-02-28  2019-03-01  2019-03-05   NaN   \n",
       "3                  201905132367003  2019-05-13  2019-05-14  2019-05-16   NaN   \n",
       "4                  201905092356247  2019-05-10  2019-05-11  2019-05-13   5.0   \n",
       "...                            ...         ...         ...         ...   ...   \n",
       "199994  20200724113704-52679491210  2020-07-24  2020-07-25  2020-07-27   5.0   \n",
       "199995  20200729134816-18220910068  2020-07-29  2020-07-30  2020-08-01   NaN   \n",
       "199996  20200803080150-09054399128  2020-08-03  2020-08-04  2020-08-07   5.0   \n",
       "199997  20200805171023-18783441109  2020-08-06  2020-08-07  2020-08-11   NaN   \n",
       "199998  20200805224157-34181488371  2020-08-06  2020-08-07  2020-08-09   NaN   \n",
       "\n",
       "                        고객번호     구매금액     결제금액 물품대분류  \\\n",
       "0            201812310749735  25800.0  16314.0  더블하트   \n",
       "1            201812310749735  51200.0  37769.0    팬티   \n",
       "2            201812310749770   5610.0   3800.0   FMC   \n",
       "3            201812310749771  59520.0  47922.0   기저귀   \n",
       "4            201812310749774  50640.0  39788.0   기저귀   \n",
       "...                      ...      ...      ...   ...   \n",
       "199994  20200724113017315991  11700.0   9240.0   FMC   \n",
       "199995  20200729134409126553   3000.0   3000.0   체험팩   \n",
       "199996  20200803075905757887   5900.0   5841.0   체험팩   \n",
       "199997  20200805170229147688   3000.0   3000.0   체험팩   \n",
       "199998  20200805223526494551   8500.0   8500.0    기타   \n",
       "\n",
       "                                              상품명  \n",
       "0                   더블하트 SofTouch 모유실감 젖꼭지 M (2입)  \n",
       "1                NEW 하기스 맥스드라이 팬티 5단계 남아 80매(팬티형)  \n",
       "2                          크리넥스？키즈용？화장지？3겹？27m 8롤  \n",
       "3                  하기스 네이처메이드 밤부 3단계 여아 144매(밴드형)  \n",
       "4                 하기스 에어솔솔 썸머기저귀 3단계 공용 144매(밴드형)  \n",
       "...                                           ...  \n",
       "199994        크리넥스 뽑아쓰는 키친타월 펭수에디션 140매 X 4입 (EA)  \n",
       "199995                                    맘큐 허그박스  \n",
       "199996  NEW 하기스 맥스드라이 팬티 3단계 공용 20매(팬티형/체험팩) (EA)  \n",
       "199997                                    맘큐 허그박스  \n",
       "199998                            [먼치킨] 멀티 젖병솔 세트  \n",
       "\n",
       "[199999 rows x 10 columns]"
      ]
     },
     "execution_count": 14,
     "metadata": {},
     "output_type": "execute_result"
    }
   ],
   "source": [
    "df_sales"
   ]
  },
  {
   "cell_type": "code",
   "execution_count": 29,
   "id": "bc3c7ad4",
   "metadata": {},
   "outputs": [
    {
     "data": {
      "text/plain": [
       "(199999, 10)"
      ]
     },
     "execution_count": 29,
     "metadata": {},
     "output_type": "execute_result"
    }
   ],
   "source": [
    "df_sales.shape"
   ]
  },
  {
   "cell_type": "code",
   "execution_count": null,
   "id": "df6f1bbc",
   "metadata": {},
   "outputs": [],
   "source": [
    "# pd.options.display.max_rows = 60\n",
    "# pd.options.display.max_columns = 20"
   ]
  },
  {
   "cell_type": "code",
   "execution_count": 35,
   "id": "f4f73636",
   "metadata": {},
   "outputs": [
    {
     "data": {
      "text/html": [
       "<div>\n",
       "<style scoped>\n",
       "    .dataframe tbody tr th:only-of-type {\n",
       "        vertical-align: middle;\n",
       "    }\n",
       "\n",
       "    .dataframe tbody tr th {\n",
       "        vertical-align: top;\n",
       "    }\n",
       "\n",
       "    .dataframe thead th {\n",
       "        text-align: right;\n",
       "    }\n",
       "</style>\n",
       "<table border=\"1\" class=\"dataframe\">\n",
       "  <thead>\n",
       "    <tr style=\"text-align: right;\">\n",
       "      <th></th>\n",
       "      <th>물품대분류</th>\n",
       "      <th>상품명</th>\n",
       "      <th>물품판매량</th>\n",
       "      <th>제품단가</th>\n",
       "      <th>물품중분류</th>\n",
       "    </tr>\n",
       "  </thead>\n",
       "  <tbody>\n",
       "    <tr>\n",
       "      <th>0</th>\n",
       "      <td>FC</td>\n",
       "      <td>(1+1) 좋은느낌 입는 오버나이트 대형 8개입</td>\n",
       "      <td>15</td>\n",
       "      <td>0</td>\n",
       "      <td>NaN</td>\n",
       "    </tr>\n",
       "    <tr>\n",
       "      <th>1</th>\n",
       "      <td>FC</td>\n",
       "      <td>(1+1) 좋은느낌 입는 오버나이트 중형 8개입</td>\n",
       "      <td>10</td>\n",
       "      <td>0</td>\n",
       "      <td>NaN</td>\n",
       "    </tr>\n",
       "    <tr>\n",
       "      <th>2</th>\n",
       "      <td>FC</td>\n",
       "      <td>(1+1) 화이트 입는 오버나이트 대형 L 8개입 (EA)</td>\n",
       "      <td>27</td>\n",
       "      <td>0</td>\n",
       "      <td>NaN</td>\n",
       "    </tr>\n",
       "    <tr>\n",
       "      <th>3</th>\n",
       "      <td>FC</td>\n",
       "      <td>(1+1) 화이트 입는 오버나이트 중형 M 8개입 (EA)</td>\n",
       "      <td>12</td>\n",
       "      <td>0</td>\n",
       "      <td>NaN</td>\n",
       "    </tr>\n",
       "    <tr>\n",
       "      <th>4</th>\n",
       "      <td>FC</td>\n",
       "      <td>(핫딜위크/1+1) 좋은느낌 입는 오버나이트 대형 8개입</td>\n",
       "      <td>4</td>\n",
       "      <td>0</td>\n",
       "      <td>NaN</td>\n",
       "    </tr>\n",
       "    <tr>\n",
       "      <th>...</th>\n",
       "      <td>...</td>\n",
       "      <td>...</td>\n",
       "      <td>...</td>\n",
       "      <td>...</td>\n",
       "      <td>...</td>\n",
       "    </tr>\n",
       "    <tr>\n",
       "      <th>3043</th>\n",
       "      <td>팬티</td>\n",
       "      <td>하기스 에어솔솔 썸머팬티 6단계 여아용 68매(팬티형)</td>\n",
       "      <td>4</td>\n",
       "      <td>47360</td>\n",
       "      <td>NaN</td>\n",
       "    </tr>\n",
       "    <tr>\n",
       "      <th>3044</th>\n",
       "      <td>팬티</td>\n",
       "      <td>하기스 에어솔솔 팬티 4단계 남아용 96매(팬티형)</td>\n",
       "      <td>18</td>\n",
       "      <td>71040</td>\n",
       "      <td>NaN</td>\n",
       "    </tr>\n",
       "    <tr>\n",
       "      <th>3045</th>\n",
       "      <td>팬티</td>\n",
       "      <td>하기스 에어솔솔 팬티 4단계 여아용 96매(팬티형)</td>\n",
       "      <td>17</td>\n",
       "      <td>66861</td>\n",
       "      <td>NaN</td>\n",
       "    </tr>\n",
       "    <tr>\n",
       "      <th>3046</th>\n",
       "      <td>팬티</td>\n",
       "      <td>하기스 에어솔솔 팬티 5단계 남아용 80매(팬티형)</td>\n",
       "      <td>81</td>\n",
       "      <td>68994</td>\n",
       "      <td>NaN</td>\n",
       "    </tr>\n",
       "    <tr>\n",
       "      <th>3047</th>\n",
       "      <td>팬티</td>\n",
       "      <td>하기스 에어솔솔 팬티 5단계 여아용 80매(팬티형)</td>\n",
       "      <td>34</td>\n",
       "      <td>76612</td>\n",
       "      <td>NaN</td>\n",
       "    </tr>\n",
       "  </tbody>\n",
       "</table>\n",
       "<p>3048 rows × 5 columns</p>\n",
       "</div>"
      ],
      "text/plain": [
       "     물품대분류                               상품명  물품판매량   제품단가  물품중분류\n",
       "0       FC        (1+1) 좋은느낌 입는 오버나이트 대형 8개입     15      0    NaN\n",
       "1       FC        (1+1) 좋은느낌 입는 오버나이트 중형 8개입     10      0    NaN\n",
       "2       FC  (1+1) 화이트 입는 오버나이트 대형 L 8개입 (EA)     27      0    NaN\n",
       "3       FC  (1+1) 화이트 입는 오버나이트 중형 M 8개입 (EA)     12      0    NaN\n",
       "4       FC   (핫딜위크/1+1) 좋은느낌 입는 오버나이트 대형 8개입      4      0    NaN\n",
       "...    ...                               ...    ...    ...    ...\n",
       "3043    팬티    하기스 에어솔솔 썸머팬티 6단계 여아용 68매(팬티형)      4  47360    NaN\n",
       "3044    팬티      하기스 에어솔솔 팬티 4단계 남아용 96매(팬티형)     18  71040    NaN\n",
       "3045    팬티      하기스 에어솔솔 팬티 4단계 여아용 96매(팬티형)     17  66861    NaN\n",
       "3046    팬티      하기스 에어솔솔 팬티 5단계 남아용 80매(팬티형)     81  68994    NaN\n",
       "3047    팬티      하기스 에어솔솔 팬티 5단계 여아용 80매(팬티형)     34  76612    NaN\n",
       "\n",
       "[3048 rows x 5 columns]"
      ]
     },
     "execution_count": 35,
     "metadata": {},
     "output_type": "execute_result"
    }
   ],
   "source": [
    "df_products['물품중분류'] = np.nan\n",
    "W_pad = ['좋은느낌']\n",
    "diaper = ['하기스', '굿나이트']\n",
    "wet_tissue = ['릴리유', '닥터마밍', '그린핑거', '하기스-물티슈']\n",
    "\n",
    "# 하기스: 기저귀, 물티슈"
   ]
  },
  {
   "cell_type": "code",
   "execution_count": 45,
   "id": "3608f3ec",
   "metadata": {},
   "outputs": [
    {
     "name": "stderr",
     "output_type": "stream",
     "text": [
      "C:\\Users\\insea\\Anaconda3\\lib\\site-packages\\pandas\\core\\indexing.py:670: SettingWithCopyWarning: \n",
      "A value is trying to be set on a copy of a slice from a DataFrame\n",
      "\n",
      "See the caveats in the documentation: https://pandas.pydata.org/pandas-docs/stable/user_guide/indexing.html#returning-a-view-versus-a-copy\n",
      "  iloc._setitem_with_indexer(indexer, value)\n"
     ]
    }
   ],
   "source": [
    "df_products[df_products.물품대분류 == 'FC']\n",
    "df_products['물품중분류'].loc[:254] = '성인패드'\n",
    "df_products['물품중분류'].isnull().sum()"
   ]
  },
  {
   "cell_type": "code",
   "execution_count": 50,
   "id": "7550a4cc",
   "metadata": {},
   "outputs": [
    {
     "name": "stderr",
     "output_type": "stream",
     "text": [
      "C:\\Users\\insea\\Anaconda3\\lib\\site-packages\\pandas\\core\\indexing.py:670: SettingWithCopyWarning: \n",
      "A value is trying to be set on a copy of a slice from a DataFrame\n",
      "\n",
      "See the caveats in the documentation: https://pandas.pydata.org/pandas-docs/stable/user_guide/indexing.html#returning-a-view-versus-a-copy\n",
      "  iloc._setitem_with_indexer(indexer, value)\n"
     ]
    },
    {
     "data": {
      "text/plain": [
       "2409"
      ]
     },
     "execution_count": 50,
     "metadata": {},
     "output_type": "execute_result"
    }
   ],
   "source": [
    "df_products[df_products.물품대분류 == '팬티']\n",
    "df_products['물품중분류'].loc[2664:] = '기저귀'\n",
    "df_products['물품중분류'].isnull().sum()"
   ]
  },
  {
   "cell_type": "code",
   "execution_count": 52,
   "id": "50ee8c9e",
   "metadata": {},
   "outputs": [
    {
     "name": "stderr",
     "output_type": "stream",
     "text": [
      "C:\\Users\\insea\\Anaconda3\\lib\\site-packages\\pandas\\core\\indexing.py:670: SettingWithCopyWarning: \n",
      "A value is trying to be set on a copy of a slice from a DataFrame\n",
      "\n",
      "See the caveats in the documentation: https://pandas.pydata.org/pandas-docs/stable/user_guide/indexing.html#returning-a-view-versus-a-copy\n",
      "  iloc._setitem_with_indexer(indexer, value)\n"
     ]
    },
    {
     "data": {
      "text/plain": [
       "2331"
      ]
     },
     "execution_count": 52,
     "metadata": {},
     "output_type": "execute_result"
    }
   ],
   "source": [
    "df_products[df_products.물품대분류 == '물티슈']\n",
    "df_products['물품중분류'].loc[2498:2575] = '물티슈'\n",
    "df_products['물품중분류'].isnull().sum()"
   ]
  },
  {
   "cell_type": "code",
   "execution_count": 28,
   "id": "35b57bc3",
   "metadata": {
    "scrolled": false
   },
   "outputs": [
    {
     "data": {
      "text/plain": [
       "기타      1245\n",
       "더블하트     385\n",
       "팬티       384\n",
       "FC       255\n",
       "FMC      225\n",
       "기저귀      224\n",
       "SKC      159\n",
       "체험팩       89\n",
       "물티슈       77\n",
       "SrC        5\n",
       "Name: 물품대분류, dtype: int64"
      ]
     },
     "execution_count": 28,
     "metadata": {},
     "output_type": "execute_result"
    }
   ],
   "source": [
    "df_products['물품대분류'].value_counts()"
   ]
  },
  {
   "cell_type": "code",
   "execution_count": null,
   "id": "87ed9168",
   "metadata": {},
   "outputs": [],
   "source": []
  },
  {
   "cell_type": "code",
   "execution_count": 57,
   "id": "795a1ebd",
   "metadata": {},
   "outputs": [
    {
     "data": {
      "text/html": [
       "<div>\n",
       "<style scoped>\n",
       "    .dataframe tbody tr th:only-of-type {\n",
       "        vertical-align: middle;\n",
       "    }\n",
       "\n",
       "    .dataframe tbody tr th {\n",
       "        vertical-align: top;\n",
       "    }\n",
       "\n",
       "    .dataframe thead th {\n",
       "        text-align: right;\n",
       "    }\n",
       "</style>\n",
       "<table border=\"1\" class=\"dataframe\">\n",
       "  <thead>\n",
       "    <tr style=\"text-align: right;\">\n",
       "      <th></th>\n",
       "      <th>물품대분류</th>\n",
       "      <th>상품명</th>\n",
       "      <th>물품판매량</th>\n",
       "      <th>제품단가</th>\n",
       "      <th>물품중분류</th>\n",
       "    </tr>\n",
       "  </thead>\n",
       "  <tbody>\n",
       "  </tbody>\n",
       "</table>\n",
       "</div>"
      ],
      "text/plain": [
       "Empty DataFrame\n",
       "Columns: [물품대분류, 상품명, 물품판매량, 제품단가, 물품중분류]\n",
       "Index: []"
      ]
     },
     "execution_count": 57,
     "metadata": {},
     "output_type": "execute_result"
    }
   ],
   "source": [
    "#  제품 단가 0인 데이터 지우기\n",
    "df_products.drop(df_products[df_products['제품단가'] == 0].index, inplace=True)"
   ]
  },
  {
   "cell_type": "code",
   "execution_count": null,
   "id": "c28be4e1",
   "metadata": {},
   "outputs": [],
   "source": []
  }
 ],
 "metadata": {
  "kernelspec": {
   "display_name": "Python 3",
   "language": "python",
   "name": "python3"
  },
  "language_info": {
   "codemirror_mode": {
    "name": "ipython",
    "version": 3
   },
   "file_extension": ".py",
   "mimetype": "text/x-python",
   "name": "python",
   "nbconvert_exporter": "python",
   "pygments_lexer": "ipython3",
   "version": "3.6.5"
  }
 },
 "nbformat": 4,
 "nbformat_minor": 5
}
