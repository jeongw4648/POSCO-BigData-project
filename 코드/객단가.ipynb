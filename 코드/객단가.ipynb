{
  "nbformat": 4,
  "nbformat_minor": 0,
  "metadata": {
    "colab": {
      "name": "객단가.ipynb",
      "provenance": [],
      "collapsed_sections": []
    },
    "kernelspec": {
      "name": "python3",
      "display_name": "Python 3"
    },
    "language_info": {
      "name": "python"
    }
  },
  "cells": [
    {
      "cell_type": "code",
      "execution_count": null,
      "metadata": {
        "id": "r6EEE1YFSxCN"
      },
      "outputs": [],
      "source": [
        "# 행렬 연산\n",
        "import numpy as np\n",
        "\n",
        "# 데이터 구성\n",
        "import pandas as pd\n",
        "\n",
        "# 데이터 시각화\n",
        "import matplotlib.pyplot as plt\n",
        "import matplotlib\n",
        "import seaborn as sns\n",
        "\n",
        "# 데이터 분할: train, test\n",
        "from sklearn.model_selection import train_test_split\n",
        "\n",
        "# Scaling 클래스\n",
        "from sklearn.preprocessing import StandardScaler\n",
        "\n",
        "# 로지스틱 회귀\n",
        "import statsmodels.api as sm\n",
        "from statsmodels.api import Logit \n",
        "\n",
        "# 분류 Decision Tree\n",
        "from sklearn.tree import DecisionTreeClassifier\n",
        "\n",
        "# 분류 Random Forest\n",
        "from sklearn.ensemble import RandomForestClassifier\n",
        "\n",
        "# 분류 Gradient Boosting\n",
        "from sklearn.ensemble import GradientBoostingClassifier\n",
        "\n",
        "# 최적 모델, 파라미터 탐색\n",
        "from sklearn.model_selection import GridSearchCV\n",
        "\n",
        "# export_graphviz: 나무 구조 생성 및 저장\n",
        "from sklearn.tree import export_graphviz\n",
        "\n",
        "# graphviz : 나무 구조 시각화 (.dot 확장자 파일 불러오기 등)\n",
        "import graphviz\n",
        "\n",
        "# 분류 모델 평가 함수\n",
        "from sklearn.metrics import accuracy_score, f1_score\n",
        "from sklearn.metrics import confusion_matrix, classification_report\n",
        "\n",
        "# 카이제곱검정\n",
        "from scipy import stats\n",
        "from scipy.stats import chi2_contingency\n",
        "\n",
        "import statsmodels.formula.api as smf\n",
        "\n",
        "from tqdm import tqdm"
      ]
    },
    {
      "cell_type": "code",
      "source": [
        "# 데이터 구성하기\n",
        "df_member = pd.read_csv('C:/Users/Administrator/Desktop/A2_유아용품/member_휴면계정.csv')\n",
        "df_member"
      ],
      "metadata": {
        "id": "hp3sZx72XiPx"
      },
      "execution_count": null,
      "outputs": []
    },
    {
      "cell_type": "code",
      "source": [
        "# 데이터 구성하기\n",
        "df_sales = pd.read_csv('C:/Users/Administrator/Desktop/A2_유아용품/Sales_data.csv')\n",
        "df_sales"
      ],
      "metadata": {
        "id": "wTiPOm2JXjkg"
      },
      "execution_count": null,
      "outputs": []
    },
    {
      "cell_type": "code",
      "source": [],
      "metadata": {
        "id": "Z2qrkFABYnt6"
      },
      "execution_count": null,
      "outputs": []
    },
    {
      "cell_type": "markdown",
      "metadata": {
        "id": "5A23s_51ZWOs"
      },
      "source": [
        "# **객단가**"
      ]
    },
    {
      "cell_type": "code",
      "execution_count": null,
      "metadata": {
        "id": "dae30805",
        "outputId": "4eec403b-d18c-459b-b9b0-bac3cf1da249"
      },
      "outputs": [
        {
          "data": {
            "text/html": [
              "<div>\n",
              "<style scoped>\n",
              "    .dataframe tbody tr th:only-of-type {\n",
              "        vertical-align: middle;\n",
              "    }\n",
              "\n",
              "    .dataframe tbody tr th {\n",
              "        vertical-align: top;\n",
              "    }\n",
              "\n",
              "    .dataframe thead th {\n",
              "        text-align: right;\n",
              "    }\n",
              "</style>\n",
              "<table border=\"1\" class=\"dataframe\">\n",
              "  <thead>\n",
              "    <tr style=\"text-align: right;\">\n",
              "      <th></th>\n",
              "      <th>고객번호</th>\n",
              "      <th>성별</th>\n",
              "      <th>결혼유무</th>\n",
              "      <th>거주지역</th>\n",
              "      <th>연령</th>\n",
              "      <th>결제등록카드</th>\n",
              "      <th>유입경로</th>\n",
              "      <th>자녀여부</th>\n",
              "      <th>배송리드타임</th>\n",
              "      <th>구매횟수</th>\n",
              "      <th>재구매횟수</th>\n",
              "      <th>총구매금액</th>\n",
              "      <th>총결제금액</th>\n",
              "      <th>최종구매일</th>\n",
              "      <th>휴면지속날짜</th>\n",
              "      <th>휴면계정여부</th>\n",
              "      <th>회당 결제금액</th>\n",
              "    </tr>\n",
              "  </thead>\n",
              "  <tbody>\n",
              "    <tr>\n",
              "      <th>0</th>\n",
              "      <td>201812310749735</td>\n",
              "      <td>여</td>\n",
              "      <td>기혼</td>\n",
              "      <td>인천</td>\n",
              "      <td>37.0</td>\n",
              "      <td>국민은행</td>\n",
              "      <td>인스타그램</td>\n",
              "      <td>Yes</td>\n",
              "      <td>8.0</td>\n",
              "      <td>2</td>\n",
              "      <td>1</td>\n",
              "      <td>77000</td>\n",
              "      <td>54083</td>\n",
              "      <td>2020-02-20</td>\n",
              "      <td>169</td>\n",
              "      <td>True</td>\n",
              "      <td>27041.5</td>\n",
              "    </tr>\n",
              "    <tr>\n",
              "      <th>1</th>\n",
              "      <td>201812310749770</td>\n",
              "      <td>여</td>\n",
              "      <td>기혼</td>\n",
              "      <td>제주</td>\n",
              "      <td>33.0</td>\n",
              "      <td>국민은행</td>\n",
              "      <td>검색광고</td>\n",
              "      <td>Yes</td>\n",
              "      <td>5.0</td>\n",
              "      <td>1</td>\n",
              "      <td>0</td>\n",
              "      <td>5610</td>\n",
              "      <td>3800</td>\n",
              "      <td>2019-02-28</td>\n",
              "      <td>526</td>\n",
              "      <td>True</td>\n",
              "      <td>3800.0</td>\n",
              "    </tr>\n",
              "    <tr>\n",
              "      <th>2</th>\n",
              "      <td>201812310749771</td>\n",
              "      <td>여</td>\n",
              "      <td>기혼</td>\n",
              "      <td>부산</td>\n",
              "      <td>32.0</td>\n",
              "      <td>하나은행</td>\n",
              "      <td>네이버블로그</td>\n",
              "      <td>Yes</td>\n",
              "      <td>3.0</td>\n",
              "      <td>1</td>\n",
              "      <td>0</td>\n",
              "      <td>59520</td>\n",
              "      <td>47922</td>\n",
              "      <td>2019-05-13</td>\n",
              "      <td>452</td>\n",
              "      <td>True</td>\n",
              "      <td>47922.0</td>\n",
              "    </tr>\n",
              "    <tr>\n",
              "      <th>3</th>\n",
              "      <td>201812310749774</td>\n",
              "      <td>여</td>\n",
              "      <td>미혼</td>\n",
              "      <td>경남</td>\n",
              "      <td>34.0</td>\n",
              "      <td>기업은행</td>\n",
              "      <td>지인추천</td>\n",
              "      <td>No</td>\n",
              "      <td>7.0</td>\n",
              "      <td>2</td>\n",
              "      <td>1</td>\n",
              "      <td>151920</td>\n",
              "      <td>116532</td>\n",
              "      <td>2019-07-29</td>\n",
              "      <td>375</td>\n",
              "      <td>True</td>\n",
              "      <td>58266.0</td>\n",
              "    </tr>\n",
              "    <tr>\n",
              "      <th>4</th>\n",
              "      <td>201812310749780</td>\n",
              "      <td>여</td>\n",
              "      <td>기혼</td>\n",
              "      <td>서울</td>\n",
              "      <td>32.0</td>\n",
              "      <td>신한은행</td>\n",
              "      <td>직접검색</td>\n",
              "      <td>Yes</td>\n",
              "      <td>3.0</td>\n",
              "      <td>1</td>\n",
              "      <td>0</td>\n",
              "      <td>27920</td>\n",
              "      <td>19900</td>\n",
              "      <td>2019-01-30</td>\n",
              "      <td>555</td>\n",
              "      <td>True</td>\n",
              "      <td>19900.0</td>\n",
              "    </tr>\n",
              "    <tr>\n",
              "      <th>...</th>\n",
              "      <td>...</td>\n",
              "      <td>...</td>\n",
              "      <td>...</td>\n",
              "      <td>...</td>\n",
              "      <td>...</td>\n",
              "      <td>...</td>\n",
              "      <td>...</td>\n",
              "      <td>...</td>\n",
              "      <td>...</td>\n",
              "      <td>...</td>\n",
              "      <td>...</td>\n",
              "      <td>...</td>\n",
              "      <td>...</td>\n",
              "      <td>...</td>\n",
              "      <td>...</td>\n",
              "      <td>...</td>\n",
              "      <td>...</td>\n",
              "    </tr>\n",
              "    <tr>\n",
              "      <th>67318</th>\n",
              "      <td>201912291058164</td>\n",
              "      <td>여</td>\n",
              "      <td>기혼</td>\n",
              "      <td>경기</td>\n",
              "      <td>31.0</td>\n",
              "      <td>국민은행</td>\n",
              "      <td>오픈마켓</td>\n",
              "      <td>Yes</td>\n",
              "      <td>3.0</td>\n",
              "      <td>1</td>\n",
              "      <td>0</td>\n",
              "      <td>48900</td>\n",
              "      <td>25778</td>\n",
              "      <td>2020-06-01</td>\n",
              "      <td>67</td>\n",
              "      <td>False</td>\n",
              "      <td>25778.0</td>\n",
              "    </tr>\n",
              "    <tr>\n",
              "      <th>67319</th>\n",
              "      <td>201912291058167</td>\n",
              "      <td>여</td>\n",
              "      <td>기혼</td>\n",
              "      <td>경남</td>\n",
              "      <td>37.0</td>\n",
              "      <td>롯데카드</td>\n",
              "      <td>오픈마켓</td>\n",
              "      <td>Yes</td>\n",
              "      <td>6.0</td>\n",
              "      <td>2</td>\n",
              "      <td>1</td>\n",
              "      <td>124200</td>\n",
              "      <td>99893</td>\n",
              "      <td>2020-04-19</td>\n",
              "      <td>110</td>\n",
              "      <td>False</td>\n",
              "      <td>49946.5</td>\n",
              "    </tr>\n",
              "    <tr>\n",
              "      <th>67320</th>\n",
              "      <td>201912291058168</td>\n",
              "      <td>여</td>\n",
              "      <td>기혼</td>\n",
              "      <td>충북</td>\n",
              "      <td>26.0</td>\n",
              "      <td>삼성카드</td>\n",
              "      <td>검색광고</td>\n",
              "      <td>Yes</td>\n",
              "      <td>14.0</td>\n",
              "      <td>4</td>\n",
              "      <td>3</td>\n",
              "      <td>211940</td>\n",
              "      <td>163234</td>\n",
              "      <td>2020-07-18</td>\n",
              "      <td>20</td>\n",
              "      <td>False</td>\n",
              "      <td>40808.5</td>\n",
              "    </tr>\n",
              "    <tr>\n",
              "      <th>67321</th>\n",
              "      <td>201912291058169</td>\n",
              "      <td>여</td>\n",
              "      <td>기혼</td>\n",
              "      <td>경기</td>\n",
              "      <td>32.0</td>\n",
              "      <td>새마을금고</td>\n",
              "      <td>인스타그램</td>\n",
              "      <td>Yes</td>\n",
              "      <td>3.0</td>\n",
              "      <td>1</td>\n",
              "      <td>0</td>\n",
              "      <td>51000</td>\n",
              "      <td>36579</td>\n",
              "      <td>2019-12-29</td>\n",
              "      <td>222</td>\n",
              "      <td>True</td>\n",
              "      <td>36579.0</td>\n",
              "    </tr>\n",
              "    <tr>\n",
              "      <th>67322</th>\n",
              "      <td>201912291058171</td>\n",
              "      <td>여</td>\n",
              "      <td>기혼</td>\n",
              "      <td>서울</td>\n",
              "      <td>35.0</td>\n",
              "      <td>새마을금고</td>\n",
              "      <td>인스타그램</td>\n",
              "      <td>Yes</td>\n",
              "      <td>3.0</td>\n",
              "      <td>1</td>\n",
              "      <td>0</td>\n",
              "      <td>4900</td>\n",
              "      <td>4851</td>\n",
              "      <td>2020-05-15</td>\n",
              "      <td>84</td>\n",
              "      <td>False</td>\n",
              "      <td>4851.0</td>\n",
              "    </tr>\n",
              "  </tbody>\n",
              "</table>\n",
              "<p>67323 rows × 17 columns</p>\n",
              "</div>"
            ],
            "text/plain": [
              "                  고객번호 성별 결혼유무 거주지역    연령 결제등록카드    유입경로 자녀여부  배송리드타임  구매횟수  \\\n",
              "0      201812310749735  여   기혼   인천  37.0   국민은행   인스타그램  Yes     8.0     2   \n",
              "1      201812310749770  여   기혼   제주  33.0   국민은행    검색광고  Yes     5.0     1   \n",
              "2      201812310749771  여   기혼   부산  32.0   하나은행  네이버블로그  Yes     3.0     1   \n",
              "3      201812310749774  여   미혼   경남  34.0   기업은행    지인추천   No     7.0     2   \n",
              "4      201812310749780  여   기혼   서울  32.0   신한은행    직접검색  Yes     3.0     1   \n",
              "...                ... ..  ...  ...   ...    ...     ...  ...     ...   ...   \n",
              "67318  201912291058164  여   기혼   경기  31.0   국민은행    오픈마켓  Yes     3.0     1   \n",
              "67319  201912291058167  여   기혼   경남  37.0   롯데카드    오픈마켓  Yes     6.0     2   \n",
              "67320  201912291058168  여   기혼   충북  26.0   삼성카드    검색광고  Yes    14.0     4   \n",
              "67321  201912291058169  여   기혼   경기  32.0  새마을금고   인스타그램  Yes     3.0     1   \n",
              "67322  201912291058171  여   기혼   서울  35.0  새마을금고   인스타그램  Yes     3.0     1   \n",
              "\n",
              "       재구매횟수   총구매금액   총결제금액      최종구매일  휴면지속날짜  휴면계정여부  회당 결제금액  \n",
              "0          1   77000   54083 2020-02-20     169    True  27041.5  \n",
              "1          0    5610    3800 2019-02-28     526    True   3800.0  \n",
              "2          0   59520   47922 2019-05-13     452    True  47922.0  \n",
              "3          1  151920  116532 2019-07-29     375    True  58266.0  \n",
              "4          0   27920   19900 2019-01-30     555    True  19900.0  \n",
              "...      ...     ...     ...        ...     ...     ...      ...  \n",
              "67318      0   48900   25778 2020-06-01      67   False  25778.0  \n",
              "67319      1  124200   99893 2020-04-19     110   False  49946.5  \n",
              "67320      3  211940  163234 2020-07-18      20   False  40808.5  \n",
              "67321      0   51000   36579 2019-12-29     222    True  36579.0  \n",
              "67322      0    4900    4851 2020-05-15      84   False   4851.0  \n",
              "\n",
              "[67323 rows x 17 columns]"
            ]
          },
          "execution_count": 60,
          "metadata": {},
          "output_type": "execute_result"
        }
      ],
      "source": [
        "# 고객 당 1회 결제 금액\n",
        "df_member['회당 결제금액'] = df_member['총결제금액'] / df_member['구매횟수'].round(0)\n",
        "df_member"
      ]
    },
    {
      "cell_type": "code",
      "execution_count": null,
      "metadata": {
        "id": "276cad72"
      },
      "outputs": [],
      "source": [
        "# df_member.dropna(inplace=True)\n",
        "# df_member\n",
        "# df_member.to_csv('member_최근구매일.csv', encoding='utf-8-sig')"
      ]
    },
    {
      "cell_type": "code",
      "execution_count": null,
      "metadata": {
        "colab": {
          "base_uri": "https://localhost:8080/"
        },
        "id": "iLyUztcoRzWY",
        "outputId": "1b710b2f-f03c-4cc8-d302-b0c0cb326535"
      },
      "outputs": [
        {
          "name": "stdout",
          "output_type": "stream",
          "text": [
            "5406770190원\n"
          ]
        }
      ],
      "source": [
        "# 총매출\n",
        "total_sales = df_member['총구매금액'].sum()\n",
        "total_sales_i = int(total_sales)\n",
        "print(f'{total_sales_i}원')"
      ]
    },
    {
      "cell_type": "code",
      "execution_count": null,
      "metadata": {
        "colab": {
          "base_uri": "https://localhost:8080/"
        },
        "id": "WXssC2n6X1rm",
        "outputId": "70bb982b-e454-4338-bd32-ac9fb8f995f3"
      },
      "outputs": [
        {
          "name": "stdout",
          "output_type": "stream",
          "text": [
            "174388 명\n"
          ]
        }
      ],
      "source": [
        "# 총구매고객수\n",
        "total_customer =  df_member['구매횟수'].sum()\n",
        "print(total_customer,'명')"
      ]
    },
    {
      "cell_type": "code",
      "execution_count": null,
      "metadata": {
        "colab": {
          "base_uri": "https://localhost:8080/"
        },
        "id": "sLBBZXMOXbD-",
        "outputId": "48b0855c-b692-47c5-db40-d4e908387567"
      },
      "outputs": [
        {
          "name": "stdout",
          "output_type": "stream",
          "text": [
            "31004.3 원\n"
          ]
        }
      ],
      "source": [
        "# 객단가 (매출 ÷ 구매 고객 수)\n",
        "# 쇼핑몰에 방문한 고객 1명의 평균 구매 금액\n",
        "print((total_sales / total_customer).round(1),'원')"
      ]
    },
    {
      "cell_type": "code",
      "source": [
        "# csv로 저장\n",
        "df_member.to_csv('member_객단가.csv', encoding='utf-8-sig')"
      ],
      "metadata": {
        "id": "Qp20JYJ4alIq"
      },
      "execution_count": null,
      "outputs": []
    }
  ]
}