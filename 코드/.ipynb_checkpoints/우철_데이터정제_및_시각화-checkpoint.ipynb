{
 "cells": [
  {
   "cell_type": "code",
   "execution_count": null,
   "metadata": {
    "id": "Ymt6AEbdPxL0"
   },
   "outputs": [],
   "source": []
  },
  {
   "cell_type": "markdown",
   "metadata": {
    "id": "69627504"
   },
   "source": [
    "# 데이터 정제"
   ]
  },
  {
   "cell_type": "markdown",
   "metadata": {
    "id": "2dc6d3ae"
   },
   "source": [
    "### 시각화"
   ]
  },
  {
   "cell_type": "code",
   "execution_count": null,
   "metadata": {
    "id": "9e5c4825"
   },
   "outputs": [],
   "source": [
    "# 행렬 연산\n",
    "import numpy as np\n",
    "\n",
    "# 데이터 구성\n",
    "import pandas as pd\n",
    "\n",
    "# 데이터 시각화\n",
    "import matplotlib.pyplot as plt\n",
    "import matplotlib\n",
    "import seaborn as sns\n",
    "\n",
    "# 데이터 분할: train, test\n",
    "from sklearn.model_selection import train_test_split\n",
    "\n",
    "# Scaling 클래스\n",
    "from sklearn.preprocessing import StandardScaler\n",
    "\n",
    "# 로지스틱 회귀\n",
    "import statsmodels.api as sm\n",
    "from statsmodels.api import Logit \n",
    "\n",
    "# 분류 Decision Tree\n",
    "from sklearn.tree import DecisionTreeClassifier\n",
    "\n",
    "# 분류 Random Forest\n",
    "from sklearn.ensemble import RandomForestClassifier\n",
    "\n",
    "# 분류 Gradient Boosting\n",
    "from sklearn.ensemble import GradientBoostingClassifier\n",
    "\n",
    "# 최적 모델, 파라미터 탐색\n",
    "from sklearn.model_selection import GridSearchCV\n",
    "\n",
    "# export_graphviz: 나무 구조 생성 및 저장\n",
    "from sklearn.tree import export_graphviz\n",
    "\n",
    "# graphviz : 나무 구조 시각화 (.dot 확장자 파일 불러오기 등)\n",
    "import graphviz\n",
    "\n",
    "# 분류 모델 평가 함수\n",
    "from sklearn.metrics import accuracy_score, f1_score\n",
    "from sklearn.metrics import confusion_matrix, classification_report\n",
    "\n",
    "# 카이제곱검정\n",
    "from scipy import stats\n",
    "from scipy.stats import chi2_contingency\n",
    "\n",
    "import statsmodels.formula.api as smf\n",
    "\n",
    "from tqdm import tqdm"
   ]
  },
  {
   "cell_type": "code",
   "execution_count": null,
   "metadata": {
    "id": "d67f7b4f"
   },
   "outputs": [],
   "source": [
    "matplotlib.rc(\"font\", family='Malgun Gothic')\n",
    "matplotlib.rc(\"axes\", unicode_minus = False)"
   ]
  },
  {
   "cell_type": "code",
   "execution_count": null,
   "metadata": {
    "id": "080336ad"
   },
   "outputs": [],
   "source": [
    "# 데이터 구성하기\n",
    "df_member = pd.read_csv('C:/Users/Administrator/Desktop/A2_유아용품/Member_data.csv')\n",
    "df_member"
   ]
  },
  {
   "cell_type": "code",
   "execution_count": null,
   "metadata": {
    "id": "11ecb442"
   },
   "outputs": [],
   "source": [
    "df_member.isnull().sum()"
   ]
  },
  {
   "cell_type": "code",
   "execution_count": null,
   "metadata": {
    "id": "cf363ecf"
   },
   "outputs": [],
   "source": [
    "df_member.dropna(inplace=True)"
   ]
  },
  {
   "cell_type": "code",
   "execution_count": null,
   "metadata": {
    "id": "3ddda845"
   },
   "outputs": [],
   "source": [
    "# df_member.dropna(subset=['성별'], inplace = True)\n",
    "df_member.shape"
   ]
  },
  {
   "cell_type": "code",
   "execution_count": null,
   "metadata": {
    "id": "c254b5ba",
    "scrolled": true
   },
   "outputs": [],
   "source": [
    "df_member"
   ]
  },
  {
   "cell_type": "code",
   "execution_count": null,
   "metadata": {
    "id": "51076246"
   },
   "outputs": [],
   "source": [
    "# 성별 비율\n",
    "df_member_pie=df_member.groupby([\"성별\"]).size()\n",
    "df_member_pie.plot.pie(autopct=\"%.1f%%\")\n",
    "plt.legend(labels=['여성', '남성'])"
   ]
  },
  {
   "cell_type": "code",
   "execution_count": null,
   "metadata": {
    "id": "508713ce"
   },
   "outputs": [],
   "source": [
    "# 결혼여부 비율\n",
    "df_member_pie=df_member.groupby([\"결혼유무\"]).size()\n",
    "df_member_pie.plot.pie(autopct=\"%.1f%%\")\n",
    "plt.legend(labels=['기혼', '미혼'])"
   ]
  },
  {
   "cell_type": "code",
   "execution_count": null,
   "metadata": {
    "id": "14bfc83e"
   },
   "outputs": [],
   "source": [
    "# 거주지역 비율\n",
    "df_member_pie=df_member.groupby([\"거주지역\"]).size()\n",
    "df_member_pie.plot.pie(autopct=\"%.1f%%\")"
   ]
  },
  {
   "cell_type": "code",
   "execution_count": null,
   "metadata": {
    "id": "56db9c92"
   },
   "outputs": [],
   "source": [
    "df_member['연령'].hist()"
   ]
  },
  {
   "cell_type": "code",
   "execution_count": null,
   "metadata": {
    "id": "c8a97ea3"
   },
   "outputs": [],
   "source": [
    "# 결제등록카드 비율\n",
    "df_member_pie=df_member.groupby([\"결제등록카드\"]).size()\n",
    "df_member_pie.plot.pie(autopct=\"%.1f%%\")"
   ]
  },
  {
   "cell_type": "code",
   "execution_count": null,
   "metadata": {
    "id": "0d972560",
    "scrolled": false
   },
   "outputs": [],
   "source": [
    "# 유입경로 비율\n",
    "df_member_pie=df_member.groupby([\"유입경로\"]).size()\n",
    "df_member_pie.plot.pie(autopct=\"%.1f%%\")"
   ]
  },
  {
   "cell_type": "code",
   "execution_count": null,
   "metadata": {
    "id": "50934efb",
    "scrolled": false
   },
   "outputs": [],
   "source": [
    "# 자녀여부 비율\n",
    "df_member_pie=df_member.groupby([\"자녀여부\"]).size()\n",
    "df_member_pie.plot.pie(autopct=\"%.1f%%\")"
   ]
  },
  {
   "cell_type": "code",
   "execution_count": null,
   "metadata": {
    "id": "11ee5f1f",
    "scrolled": true
   },
   "outputs": [],
   "source": [
    "# 결혼유무별 유입경로 비율\n",
    "df_member_pie=df_member.groupby([\"유입경로\", \"결혼유무\"]).size()\n",
    "df_member_pie.plot.pie(autopct=\"%.1f%%\")"
   ]
  },
  {
   "cell_type": "code",
   "execution_count": null,
   "metadata": {
    "id": "f47f6a95"
   },
   "outputs": [],
   "source": []
  }
 ],
 "metadata": {
  "colab": {
   "name": "데이터정제 및 시각화.ipynb",
   "provenance": []
  },
  "kernelspec": {
   "display_name": "Python 3 (ipykernel)",
   "language": "python",
   "name": "python3"
  },
  "language_info": {
   "codemirror_mode": {
    "name": "ipython",
    "version": 3
   },
   "file_extension": ".py",
   "mimetype": "text/x-python",
   "name": "python",
   "nbconvert_exporter": "python",
   "pygments_lexer": "ipython3",
   "version": "3.9.12"
  }
 },
 "nbformat": 4,
 "nbformat_minor": 1
}
